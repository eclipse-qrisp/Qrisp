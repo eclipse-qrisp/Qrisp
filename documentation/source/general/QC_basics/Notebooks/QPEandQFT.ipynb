{
 "cells": [
  {
   "cell_type": "markdown",
   "id": "3928ebde",
   "metadata": {},
   "source": [
    "# More Qrisp Programming \n",
    "\n",
    "After we got you all hot and bothered in the last chapter about programming with Qrisp, we are dedicating this section to the basics of quantum algorithms. We start with the Quantum Fourier Transformation, which is also a substep in the next algorithm, the Quantum Phase Estimation. These routines are crutial steps in many advanced algorithms, and therefore it's essential to get them down. \n",
    "\n",
    "## Quantum Fourier Transformation \n",
    "\n",
    "If I show you a function, can you tell me its frequency? This question might sound easy for simple functions like sine or cosine, but can get tricky for a superposition of many sine and cosine functions or, even worse, for irregular functions. This problem is part of the day-to-day-work in audio encoding and has a classical solution, which needs exponentional time and bits. (Although today, there exist more efficient versions on classical hardware, see Fast Fourier Transformations.)  \n",
    "Perhaps, you have heard of the Fourier Transformation in a math or physics lecture before. It is used to switch between different domains, like position and momentum in quantum mechanics or time and frequency in auditory processing. This can sound confusing and not very intuitive, so let me clear it up with a visual representation instead: \n",
    "\n",
    "![alt_text](./Fourier_transform.png)\n",
    "\n",
    "Source: Wikipedia (https://commons.wikimedia.org/wiki/File:FFT-Time-Frequency-View.png)",
    "\n",
    "Here, you can see the different domains represented as axes and the switch between them would be done with the Fourier transformation.  \n",
    "From a mathematical standpoint,  mostly the formulation for continuous functions is used: \n",
    "$$ f(x) = \\frac{1}{\\sqrt{2 \\pi}} \\int_{ - \\infty}^\\infty F(k) e^{ikx} dk$$\n",
    "\n",
    "Let's make this formula a little less scary: \n",
    "The $\\frac{1}{\\sqrt{2 \\pi}}$ acts as a normalizing factor, so for now, we don't need to pay too much attention to it. Next, we use an integral, since we look at continuous functions, as a way to add everything up (however, computers can't handle continuous functions, so we are looking at a discrete version later instead).    \n",
    "But what are we even adding up? Let's get away from functions and go to circles. A circle can be described using Euler's formula $e^{ix}= cos(x) + i*sin(x)$ in a way that uses sine and cosine. The amplitude is now translated to the radius of the circle and the frequency to the speed at which the circle is drawn.  These attributes can be filtered out. Take for example your favorite song: You could filter out the frequencies of the different instruments and voices. For an earthquake, we could analyse the vibrations and build houses that are resistant to them (we actually do that already!). We now want to filter out everything there is to know about the circles, and we add up the filters. Since one lousy circle doesn't catch the complexity of real life functions, we can now overlap different circles until we get our desired signal. The Fourier transform finds the amplitude, frequency and starting angle of every involved circle, so that we can switch from the time or spatial domain to the frequency domain, representing the signal as these attributes.\n",
    "The $F(k) e^{ikx}$ accounts for all contributions from different functions' frequencies at the time point $x$.\n",
    "\n",
    "Now that we covered the classical Fourier Transformation, we can take the next step to the quantum version.   \n",
    "The main secret of the Quantum Fourier Transformation (QFT) is a change of basis. Let's illustrate that on a one qubit example: The computational basis of that is $\\{\\ket0, \\ket1\\}$. To change it into the Fourier basis, we need to apply a Hadamard gate to reach the new basis $\\{\\ket+, \\ket-\\}$.   \n",
    "So what happens if we have more qubits? For $n$ qubits, there are $2^n = N$ possible computational basis states. These are considered each on their own: \n",
    "\n",
    "$$\\ket{\\tilde j} = QFT \\ket{j} = \\frac{1}{\\sqrt N}\\sum^{N-1}_{k=0} e^{\\frac{2 \\pi i j k}{N}} \\ket k$$\n",
    "\n",
    "Similar to the change of data domain, we perform a change of basis for the quantum system. \n",
    "\n",
    "As promised before, we changed to a discrete formulation. Our normalization factor changed to $\\frac{1}{\\sqrt N}$ (similar to a Hadamard transformation on multiple qubits). $j$ and $k$ represent indices of quantum states. $\\frac{2\\pi}{N}$ ensures an equal distribution over the Hilbert space of size $N$. \n",
    "\n",
    "To really see the change of basis in this equation, we can also write it as a tensor product. For that, let's consider our input as a binary integer $j = j_n..j_3j_2j_1$ (each $j_n$ is either 0 or 1, all together encode a number). \n",
    "$$ \\ket{\\tilde{j}} = QFT \\ket{j} = \\frac{1}{\\sqrt N} (\\ket 0 + e^{\\frac{2 \\pi i j_1}{2} } \\ket 1) \\otimes (\\ket 0 + e^{2 \\pi i(\\frac{j_2}{2}+ \\frac{j_1}{4})}  \\ket 1) \\otimes (\\ket 0 + e^{2 \\pi i (\\frac{j_3}{2}+ \\frac{j_2}{4} + \\frac{j_1}{8})}  \\ket 1) \\otimes ...$$\n",
    "\n",
    "To get an ever better notion of the basis change, we can use the Blochsphere, which you know from the previous sections:\n",
    "\n",
    "![alt_text](./Fourier_Blochsphere.png)\n",
    "\n",
    "In this example, we represent the number 3 in binary: 011. \n",
    "The equation is $$\\ket{\\tilde{3}} = QFT \\ket{3} = \\frac{1}{\\sqrt 8} (\\ket 0 + e^{\\pi i } \\ket 1) \\otimes (\\ket 0 + e^{2 \\pi i(\\frac{1}{2}+ \\frac{1}{4})}  \\ket 1) \\otimes (\\ket 0 + e^{2 \\pi i (\\frac{1}{4} + \\frac{1}{8})}  \\ket 1)$$\n",
    "$= \\frac{1}{\\sqrt 8} (\\ket 0 - \\ket 1) \\otimes (\\ket 0 - i  \\ket 1) \\otimes (\\ket 0 + ie^{ \\frac{\\pi i}{4} }  \\ket 1)$\n",
    "\n",
    "### Implementation\n",
    "\n",
    "Now let's get to the implementation: We can see in the first factor $\\ket 0 + e^{\\frac{2 \\pi i j_1}{2}}\\ket 1$, that the qubit is brought into superposition, so we need a Hadamard Gate. The phase $e^{\\frac{2 \\pi i j_1}{2}}$ is automatically added, since the Hadamard gate transforms $\\ket 1 \\rightarrow \\frac{\\ket 0 + \\ket 1}{\\sqrt 2}$ when $j_1 = 0$\n",
    "and $\\ket 0 \\rightarrow \\frac{\\ket 0 - \\ket 1}{\\sqrt 2}$ when $j_1 = 1$ (because of Euler's formular: $e^{\\frac{2 \\pi i j_1}{2}} =e^{\\pi i} = -1)$. \n",
    "For $j_1 =0$, we get $e^{\\frac{2 \\pi i j_1}{2}} = $ $e^{\\frac{2 \\pi i 0}{2}} = e^0 = 1$, which leads to the state $\\frac{\\ket 0 + 1*\\ket 1}{\\sqrt 2}$.  These transformations can be achieved by applying a Hadamard gate to the first qubit. \n",
    "\n",
    "The next factor also is in superposition, so we start again with a Hadamard gate. Additionally, a phase of $e^{\\frac{2 \\pi i}{4}}$ is added, if $j_2=1$ . We implement that with a controlled phase gate, which can be simulated by a CNOT and a regular phase gate.\n",
    "This process is repeated for every qubit, with different phases. These phase gates can be summarzied to the form $ U_{Rot_k}\\ket{x_j} =  e^{\\frac{2 \\pi i x_j }{2^k}} \\ket{x_j}$, where $k$ is the granularity of rotation (which depends on the number of the qubit) and $x$ is the value of this particular state. We can see that with every rotation, a phase is added to the state.\n",
    "\n",
    "Of course, the Quantum Fourier Transformation is already implemented in Qrisp, so you only have to plug in the values in the function. "
   ]
  },
  {
   "cell_type": "code",
   "execution_count": 3,
   "id": "43ec769b",
   "metadata": {},
   "outputs": [
    {
     "ename": "SyntaxError",
     "evalue": "invalid syntax (890578576.py, line 8)",
     "output_type": "error",
     "traceback": [
      "\u001b[1;36m  Cell \u001b[1;32mIn[3], line 8\u001b[1;36m\u001b[0m\n\u001b[1;33m    >>> {'0': 1.0}\u001b[0m\n\u001b[1;37m    ^\u001b[0m\n\u001b[1;31mSyntaxError\u001b[0m\u001b[1;31m:\u001b[0m invalid syntax\n"
     ]
    }
   ],
   "source": [
    "from qrisp import QuantumSession, QFT, QuantumVariable\n",
    "\n",
    "qv = QuantumVariable(1)\n",
    "print(\"QuantumVariable before QFT\", qv)\n",
    "QFT(qv)\n",
    "print(\"QuantumVariable after QFT\", qv)\n",
    "print(qv.qs.statevector())\n",
    ">>> {'0': 1.0}\n",
    ">>> {'0': 0.5, '1': 0.5}"
   ]
  },
  {
   "cell_type": "markdown",
   "id": "2143e15e",
   "metadata": {},
   "source": [
    "> $\\sqrt2 * \\frac{\\ket0 + \\ket 1}{2}$\n",
    "\n",
    "Try naming a faster way! As we can see, for our one qubit example, the result is as predicted: We transformed from the $\\{\\ket0, \\ket1\\}$ basis where our qubit is $\\ket 0$ to the $\\{\\ket+, \\ket-\\}$ basis where we get $\\ket +$. You can also try this with the qubit starting in $\\ket 1$ by applying an X-gate beforehand. \n",
    "\n",
    "We can also inspect the circuit without much extra work, by calling the QuantumSession `qs`: "
   ]
  },
  {
   "cell_type": "code",
   "execution_count": null,
   "id": "2ad49a35",
   "metadata": {},
   "outputs": [],
   "source": [
    "from qrisp import  x, h\n",
    "\n",
    "qv_1 = QuantumVariable(1)\n",
    "QFT(qv_1)\n",
    "print(qv_1.qs)"
   ]
  },
  {
   "cell_type": "code",
   "execution_count": null,
   "id": "3e020005",
   "metadata": {},
   "outputs": [],
   "source": [
    "QuantumCircuit:\n",
    "---------------\n",
    "        ┌─────┐\n",
    "qv_0.0: ┤ QFT ├\n",
    "        └─────┘\n",
    "Live QuantumVariables:\n",
    "----------------------\n",
    "QuantumVariable qv_0"
   ]
  },
  {
   "cell_type": "markdown",
   "id": "71b853dd",
   "metadata": {},
   "source": [
    "Okay, this might not be what you expected. This dense representation will be useful in more complicated algorithms later on, when you are already familiar with the QFT. For now, we can break it further down using the `transpile` function: "
   ]
  },
  {
   "cell_type": "code",
   "execution_count": null,
   "id": "643041b8",
   "metadata": {},
   "outputs": [],
   "source": [
    "qv_2 = QuantumVariable(1)\n",
    "QFT(qv_2)\n",
    "print(qv_2.qs.transpile())"
   ]
  },
  {
   "cell_type": "code",
   "execution_count": null,
   "id": "2d536f70",
   "metadata": {},
   "outputs": [],
   "source": [
    "        ┌───┐\n",
    "qv_0.0: ┤ H ├\n",
    "        └───┘"
   ]
  },
  {
   "cell_type": "markdown",
   "id": "eb7d814f",
   "metadata": {},
   "source": [
    "As anticipated before, the QFT on one qubit only consists of the Hadamard gate. "
   ]
  },
  {
   "cell_type": "code",
   "execution_count": null,
   "id": "8159bc18",
   "metadata": {},
   "outputs": [],
   "source": [
    "qv_3 = QuantumVariable(4)\n",
    "x(qv_3[2])\n",
    "print( qv_3)\n",
    "QFT(qv_3)\n",
    "print( qv_3)\n",
    "print(qv_3.qs.statevector())"
   ]
  },
  {
   "cell_type": "markdown",
   "id": "dc6d94da",
   "metadata": {},
   "source": [
    "That's more like it! With 4 qubits involved, we can see the QFT in full action: "
   ]
  },
  {
   "cell_type": "code",
   "execution_count": null,
   "id": "6f4d0c22",
   "metadata": {},
   "outputs": [],
   "source": [
    ">>> {'0010': 1.0}\n",
    ">>> {'0000': 0.0625, '1000': 0.0625, '0100': 0.0625, '1100': 0.0625, '0010': 0.0625, '1010': 0.0625, '0110': 0.0625, '1110': 0.0625, '0001': 0.0625, '1001': 0.0625, '0101': 0.0625, '1101': 0.0625, '0011': 0.0625, '1011': 0.0625, '0111': 0.0625, '1111': 0.0625}\n",
    ">>> (|0000> + |0001> + |0010> + |0011> - |0100> - |0101> - |0110> - |0111> + I*|1000> + I*|1001> + I*|1010> + I*|1011> - I*|1100> - I*|1101> - I*|1110> - I*|1111>)/4"
   ]
  },
  {
   "cell_type": "markdown",
   "id": "86deeba6",
   "metadata": {},
   "source": [
    "\n",
    "Our 4 qubits are initialized in the state $\\ket {0010}$ and after applying QFT, \n",
    "they are in an equal superposition. \n",
    "\n",
    "\n",
    "As in many cases, the quantum version offers an exponential speedup compared to the classical Fourier Transformation. In best cases, the Quantum Fourier Transform has a run time of $O(n~ log~ n)$ and use exponentally less gates. \n",
    "\n",
    "Now, as all unitary operations, the QFT is reversible. That property comes in very handy: We present the **Inverse Quantum Fourier Transformation (IQFT)**. \n",
    "\n",
    "The IQFT is quite similar to the regular QFT, with the difference of the exponential: \n",
    "\n",
    "$$\\ket{y} = QFT \\ket{\\tilde x} = \\frac{1}{\\sqrt N}\\sum^{N-1}_{y=0} e^{-\\frac{2 \\pi i \\tilde x y}{N}} \\ket{\\tilde x}$$\n",
    "\n",
    "With minimal effort, we can also change our programming example: "
   ]
  },
  {
   "cell_type": "code",
   "execution_count": null,
   "id": "65aadd49",
   "metadata": {},
   "outputs": [],
   "source": [
    "qv_4 = QuantumVariable(1)\n",
    "h(qv_4)\n",
    "print(\"QuantumVariable before IQFT\", qv_4)\n",
    "QFT(qv_4, inv=True)       # set inv=True for IQFT\n",
    "print(\"QuantumVariable after IQFT\", qv_4)\n",
    "print(qv_4.qs.statevector())\n",
    "\n",
    ">>>{'0': 0.5, '1': 0.5}\n",
    ">>>{'0': 1.0}\n",
    ">>>|0>"
   ]
  },
  {
   "cell_type": "markdown",
   "id": "1dcf2e34",
   "metadata": {},
   "source": [
    "As you can see, this is the retransformation from Fourier basis to the computational basis $\\{\\ket 0, \\ket 1\\}$. The IQFT is also a part of our next algorithm, the Quantum Phase Estimation. \n",
    "\n",
    "## Quantum Phase Estimation \n",
    "\n",
    "As the name Quantum Phase Estimation (or QPE, for short) suggests, this algorithm deals with the phase of a complex number (TODO: add link to math). As you of course remember, any quantum operation can be expressed as a unitary operator and its eigenstates and eigenvalues. For the QPE, we consider the operator:\n",
    "$$ U \\ket{u} = e^{2\\pi i \\phi} \\ket{u}$$\n",
    "\n",
    "Where we already know the eigenvector $\\ket u$. \n",
    "As a rule of quantum computing, all eigenvalues of unitary operators are of the form $e^{i\\phi}$ (this is equivalent to $e^{2\\pi i \\phi}$ since $e^{2\\pi}$ describes one full round on the unit circle. You get this by using Euler's formula and writing $e^{2\\pi i \\phi}$ as $cos(2\\pi i \\phi) + i~ sin(2\\pi i \\phi)$, then represent the real and imaginary part in a coordinate system). Therefore, $\\phi$ \n",
    "has to be between 0 and 1, since this descibes a full turn and all other solutions are equivalent to one between 0 and 1.   \n",
    "The goal of QPE is now to determine the phase $\\phi$, which has to be between 0 and 1.\n",
    "\n",
    "But why exactly is that supposed to be so complicated that we need a whole new algorithm? Let's revise some math concepts: \n",
    "In the earlier chapter (TODO: add link), we found that global phases are not detectable by measurement. For instance, the state\n",
    "$$ \\ket{\\psi} = \\frac{1}{\\sqrt 2} (\\ket 0 + \\ket 1)$$\n",
    "has the same probabilities for measuring 0 and 1 as the state\n",
    "$$ \\ket{\\psi'} = e^{ i \\pi}\\frac{1}{\\sqrt 2} (\\ket 0 + \\ket 1)$$\n",
    "and we can only measure a relative phase such as in $\\ket{\\phi} =\\frac{1}{\\sqrt 2}( \\ket 0 + e^{i \\pi} \\ket 1)$.\n",
    "\n",
    "However, QPE can turn that global phase into a relative phase and make it detectable. Magic isn't it? Not quite, but it certainly is a powerful tool in quantum computing and we want to show you how it's done.\n",
    "\n",
    "### Implementation\n",
    "\n",
    "\n",
    "Let's have a look at the implementation first and then work through the steps: "
   ]
  },
  {
   "cell_type": "code",
   "execution_count": null,
   "id": "d0a3458e",
   "metadata": {},
   "outputs": [],
   "source": [
    "from qrisp import p, QuantumVariable, QPE, multi_measurement, h\n",
    "import numpy as np\n",
    "\n",
    "def U(qv):\n",
    "    x = 0.5             \n",
    "    y = 0.125\n",
    "    # this is what we want to calculate \n",
    "\n",
    "    p(x*2*np.pi, qv[0]) # phase gate\n",
    "    p(y*2*np.pi, qv[1])\n",
    "\n",
    "qv = QuantumVariable(2)\n",
    "\n",
    "h(qv) # qv is put into superposition before QPE \n",
    "\n",
    "res = QPE(qv, U, precision = 3)\n",
    "print(multi_measurement([qv, res]))"
   ]
  },
  {
   "cell_type": "markdown",
   "id": "93360de0",
   "metadata": {},
   "source": [
    "With the output looking like: "
   ]
  },
  {
   "cell_type": "code",
   "execution_count": null,
   "id": "721d922e",
   "metadata": {},
   "outputs": [],
   "source": [
    "{('00', 0.0): 0.25, ('10', 0.5): 0.25, ('01', 0.125): 0.25, ('11', 0.625): 0.25}"
   ]
  },
  {
   "cell_type": "markdown",
   "id": "68237c8c",
   "metadata": {},
   "source": [
    "First, we define two custom phase gates with different phases. We also declare a QuantumVariable to apply the QPE on and apply a Hadamard gate on it. \n",
    "We then apply QPE with a single line and get the estimation of the previously defined phases (as fractions of $ 2\\pi$). \n",
    "\n",
    "As always, we want to inspect the circuit: "
   ]
  },
  {
   "cell_type": "code",
   "execution_count": null,
   "id": "b0dacf50",
   "metadata": {},
   "outputs": [],
   "source": [
    ">>> print(qv.qs)\n",
    "QuantumCircuit:\n",
    "---------------\n",
    "           ┌───┐                                                       »\n",
    "   qv_0.0: ┤ H ├─■───────────────■───────────────■───────────────■─────»\n",
    "           ├───┤ │               │               │               │     »\n",
    "   qv_0.1: ┤ H ├─┼──────■────────┼──────■────────┼──────■────────┼─────»\n",
    "           ├───┤ │P(π)  │P(π/4)  │      │        │      │        │     »\n",
    "qpe_res.0: ┤ H ├─■──────■────────┼──────┼────────┼──────┼────────┼─────»\n",
    "           ├───┤                 │P(π)  │P(π/4)  │P(π)  │P(π/4)  │     »\n",
    "qpe_res.1: ┤ H ├─────────────────■──────■────────■──────■────────┼─────»\n",
    "           ├───┤                                                 │P(π) »\n",
    "qpe_res.2: ┤ H ├─────────────────────────────────────────────────■─────»\n",
    "           └───┘                                                       »\n",
    "«                                                                    »\n",
    "«   qv_0.0: ──────────■───────────────■───────────────■──────────────»\n",
    "«                     │               │               │              »\n",
    "«   qv_0.1: ─■────────┼──────■────────┼──────■────────┼──────■───────»\n",
    "«            │        │      │        │      │        │      │       »\n",
    "«qpe_res.0: ─┼────────┼──────┼────────┼──────┼────────┼──────┼───────»\n",
    "«            │        │      │        │      │        │      │       »\n",
    "«qpe_res.1: ─┼────────┼──────┼────────┼──────┼────────┼──────┼───────»\n",
    "«            │P(π/4)  │P(π)  │P(π/4)  │P(π)  │P(π/4)  │P(π)  │P(π/4) »\n",
    "«qpe_res.2: ─■────────■──────■────────■──────■────────■──────■───────»\n",
    "«                                                                    »\n",
    "«                      \n",
    "«   qv_0.0: ───────────\n",
    "«                      \n",
    "«   qv_0.1: ───────────\n",
    "«           ┌─────────┐\n",
    "«qpe_res.0: ┤0        ├\n",
    "«           │         │\n",
    "«qpe_res.1: ┤1 QFT_dg ├\n",
    "«           │         │\n",
    "«qpe_res.2: ┤2        ├\n",
    "«           └─────────┘\n",
    "Live QuantumVariables:\n",
    "----------------------\n",
    "QuantumVariable qv_0\n",
    "QuantumFloat qpe_res"
   ]
  },
  {
   "cell_type": "markdown",
   "id": "e35ecd18",
   "metadata": {},
   "source": [
    "\n",
    "Here, we have two registers, implemented as two QuantumVariables. The first one, `qv_0`,  is initialized in $\\ket u$, the eigenvector. The second one, qpe_res, starts as $\\ket 0^{\\otimes j}$ (this just means all $j$ qubits of the register are initalised in $\\ket 0$) and is put into superposition with Hadamard gates. \n",
    "\n",
    "Controlled $U$ rotations are applied to `qv_0` with `qpe_res` as control. These won't have an effect on `qv_0`, because it is in the eigenstate of $U$. \n",
    "Finally, IQFT is applied to the second register and it's measured. \n",
    "\n",
    "Wait, what? Why would we apply the $U$ rotation to `qv_0`, when it doesn't have an impact? This is the perfect time to revise phase kickback (TODO: add link), which changes the control register instead of the target qubit.  \n",
    "\n",
    "Let's see a different example: If we apply a T-gate to a qubit in state $\\ket 1$, we get $T \\ket 1 = e^{\\frac{i \\pi}{4}} \\ket 1$, which results in a global phase that is  not measureable by itself.  \n",
    "However, if you apply a controlled T-gate with the control qubit in $\\ket +$ and the target qubit in $\\ket 1 $, you get $CT \\ket{1+} =\\frac{1}{\\sqrt 2} CT (\\ket{10} +  \\ket{11} ) = \\frac{1}{\\sqrt 2} (\\ket{10} + e^{i \\pi /4} \\ket{11} )= \\ket 1 \\otimes  \\frac{1}{\\sqrt 2} (\\ket{0} + e^{i \\pi /4} \\ket{1})$. So you can see that the control qubit is changed to aquire the extra phase of $ e^{i \\pi /4}$, which is now a relative phase. (Remember how I said QPE can turn a global phase into a relative phase and make it detectable?)\n",
    "As you can see, we need superposition and controlled gates to create phase kickback, which are both ingredients to QPE (and to a lot of other quantum algorithms, to be fair).\n",
    "\n",
    "Now, how can we interpret the output? \n",
    "In most frameworks, $\\phi$ is written in binary representation, so $\\phi = \\frac{\\phi_1}{2} + \\frac{\\phi_2}{4} + \\frac{\\phi_3}{8}...$. Lucky for you, Qrisp already takes care of that for you and displays the result in decimal system. Our specific solution consists of 4 states: This can be seen as a superposition, since we designed two unitaries. The first option, ('00', 0.0): 0.25, states that no phase is applied. The next two solutions cover that one of the phases is applied, and the last option carries out both phases (('11', 0.625): 0.25). All four options are equally probable, as we can see. \n",
    "\n",
    "As the name quantum phase estimation also suggests, the result will be an estimate of $\\phi$, and the precision depends on the number of qubits involved. In the Qrisp function, the precision is an argument. In this example, U is applied $2^{precision} -1 = 2^3 -1= 7 $ times. Therefore, `res` consists of precision = 3 qubits. For this example, 3 qubits are enough, but if your phases have values with more decimal places, you might need more for a higher precision. \n",
    "\n",
    "All of this sounds nice, but what would we even need that for? One example closer to real life would be to calculate the ground state energy of an atom or molecule. This calculation for quantum chemistry concerns itself with  finding the energy eigenstate of a Hamiltonian $H$ (you can imagine this like an energy function) for a given eigentstate $\\ket{\\lambda_j}$, the ground state. This formulation $$ e^{iH}\\ket{\\lambda_j} = e^{iE_j} \\ket{\\lambda_j}$$ can be solved by applying quantum phase estimation to the unitary $U=e^{iH}$ with the ground state as the initial state. Afterwards, the Energy for each phase can be calculated with $e^{iE_j} = e^{2 \\pi i\\theta_j}$, which would be the eigenvalue of our original problem. If you are more interested in this, there is an example with qrisp at  https://www.qrisp.eu/reference/Examples/GroundStateEnergyQPE.html . \n",
    "\n",
    "\n",
    "Summary \n",
    "-------\n",
    "\n",
    "- QFT desribes a change of basis from $\\ket 0/ \\ket 1$ to $\\ket +/\\ket -$\n",
    "- $QFT \\ket{j} = \\frac{1}{\\sqrt N}\\sum^{N-1}_{k=0} e^{\\frac{2 \\pi i j k}{N}} \\ket k$\n",
    "- QFT in Qrisp: ``QFT(qv)``\n",
    "- Inverse QFT works in the other direction \n",
    "- QPE: determine phase $\\phi$ in $U \\ket{u} = e^{2\\pi i \\phi} \\ket{u}$\n",
    "- QPE in Qrisp: ``QPE(qv, U, precision=3) # with U self defined`` \n",
    "\n",
    "\n",
    "More examples that make use of both of these routines will be in the\n",
    "next chapters, when we dive into more complicated algorithms, like\n",
    "Shor’s algorithm for factoring. Until then, stay qrispy!"
   ]
  }
 ],
 "metadata": {
  "kernelspec": {
   "display_name": "Python 3",
   "language": "python",
   "name": "python3"
  },
  "language_info": {
   "codemirror_mode": {
    "name": "ipython",
    "version": 3
   },
   "file_extension": ".py",
   "mimetype": "text/x-python",
   "name": "python",
   "nbconvert_exporter": "python",
   "pygments_lexer": "ipython3",
   "version": "3.10.9"
  }
 },
 "nbformat": 4,
 "nbformat_minor": 5
}
