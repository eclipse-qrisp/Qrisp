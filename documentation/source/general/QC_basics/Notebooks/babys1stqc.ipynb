{
 "cells": [
  {
   "cell_type": "markdown",
   "id": "6dd034a6-8074-4303-a6b9-722e29c2e38d",
   "metadata": {},
   "source": [
    "# Baby’s first Quantum Computing\n",
    "\n",
    "With a solid foundation in mathematics and physics, we are now ready to\n",
    "embark on our journey into the world of quantum computing. We will start\n",
    "with some theoretical considerations, as well as study and use the\n",
    "fundamental quantum operations. In the last section we will discuss\n",
    "today’s challenges to reliable quantum computers. To make it more\n",
    "interactive and practical, we sprinkled some qrisp code into the\n",
    "sections to help you get familiar with the coding style.\n",
    "\n",
    "## DiVincenzos Criteria for Quantum Computers\n",
    "\n",
    "But as always, we need to start with some theory. In 1996, the\n",
    "theoretical physicist David P. DiVincenzo proposed five requirements for\n",
    "the realization of quantum computing hardware that still hold today:\n",
    "\n",
    "1\\. **Scalability** Microscopic quantum objects, which can be precisely\n",
    "controlled, form the building block of quantum computers. The discrete\n",
    "energy levels in atoms (think of the Bohr model introduced before) or polarization\n",
    "states of photons are used to physically implement the basis states. A\n",
    "quantum computer needs the ability to scale the qubit count reliably\n",
    "without decoherence.\n",
    "\n",
    "2\\. **Initialization** The qubits need to be initialized accurately to\n",
    "perform computations. The basis states $\\ket{0}$ and $\\ket{1}$ are\n",
    "frequently used, but other linear independent states are possible.\n",
    "\n",
    "3\\. **Coherence** Coherence describes the time a qubit maintains its\n",
    "quantum properties before it follows the rules of classical mechanics\n",
    "and is useless for quantum computations (decoherence). To avoid\n",
    "decoherence, isolation from outer influences is necessary, but still\n",
    "maintaining accessible to implement the gate operation and measurements.\n",
    "This poses as one of the biggest challenges today. For effective\n",
    "computations, a long coherence time is necessary.\n",
    "\n",
    "4\\. **Universality** Quantum gates are the core elements of quantum\n",
    "computing, similar to the logic gates of classical computing. To build a\n",
    "universal quantum computer, you need a universal gate set. These gates,\n",
    "when combined in various ways, are able to approximate or simulate any\n",
    "other quantum gate; which means you can construct any quantum operation\n",
    "or gate you might need using this set of gates. We will study a basic\n",
    "universal quantum gate set down below.\n",
    "\n",
    "5\\. **Measurement** Quantum states need to be observed (measured) at the\n",
    "end of the algorithm to obtain classical information that we can\n",
    "interpret. For this purpose, every qubit needs to be accurately\n",
    "measured, which leads to decoherence. Therefore, a qubit can only be\n",
    "observed once, else the computation has to be repeated.\n",
    "\n",
    "## Introduction to Qrisp\n",
    "\n",
    "Qrisp is a high-level language to write programs for quantum computers.\n",
    "Much like in classical high-level languages like Python or C++, the main\n",
    "objects we’re working with in Qrisp are variables and functions instead\n",
    "of single qubits and gate operations. This means that you don’t have to\n",
    "study quantum mechanics for several years to program a quantum computer.\n",
    "In fact, the tutorial sections you have read so far are a very good\n",
    "starting point to dive into programming quantum computers with Qrisp.\n",
    "Let’s look at the structures you already know from classical computing.\n",
    "\n",
    "The main object we’re working with in Qrisp is the **QuantumVariable**,\n",
    "which acts like any other variable. It is assigned with a number\n",
    "corresponding to the amount of qubits used.\n"
   ]
  },
  {
   "cell_type": "code",
   "execution_count": null,
   "id": "87d0a1c5",
   "metadata": {
    "vscode": {
     "languageId": "plaintext"
    }
   },
   "outputs": [],
   "source": [
    "\n",
    "from qrisp import QuantumVariable\n",
    "qv = QuantumVariable(5) # 5 qubits are initialized with this variable. To access one specific qubit i, use qv[i]"
   ]
  },
  {
   "cell_type": "markdown",
   "id": "f89074a6",
   "metadata": {},
   "source": [
    "You can now perform any gate operation onto the QuantumVariable,\n",
    "harnessing the power of quantum computing without having to worry about\n",
    "any underlying qubit structures.\n",
    "\n",
    "If you’re familiar with programming, you might wonder what the type of\n",
    "this variable is. The simple answer is: none so far. But Qrisp has the\n",
    "common types already implemented. Those are QuantumBool, QuantumFloat,\n",
    "QuantumChar and QuantumString (which is an array of QuantumChars). All\n",
    "these types inherit from the QuantumVariable class, as in most\n",
    "programming languages. By this logic, you can also create your very own\n",
    "QuantumType.\n",
    "\n",
    "But let’s head back first to the already implemented QuantumTypes: The\n",
    "QuantumFloat for example is initialized like any floating point number.\n",
    "In the code example below the 3 indicates the mantissa qubits and -1 the\n",
    "exponent for the usual basis 2."
   ]
  },
  {
   "cell_type": "code",
   "execution_count": null,
   "id": "c9a42ca8",
   "metadata": {
    "vscode": {
     "languageId": "plaintext"
    }
   },
   "outputs": [],
   "source": [
    "from qrisp import QuantumFloat\n",
    "a = QuantumFloat(3, -1, signed = False)"
   ]
  },
  {
   "cell_type": "markdown",
   "id": "e31e03f2",
   "metadata": {},
   "source": [
    "All known operations like addition and division can be performed as\n",
    "usual. Keep in mind that division and inversion are approximated\n",
    "results.\n",
    "\n",
    "So far, the QuantumTypes very much acted like the classical types you’re\n",
    "used to, but since we have quantum computers, we can of course do more\n",
    "than that. For example the QuantumBool, like all QuantumTypes, can be\n",
    "put into a superposition. This also affects regular operations like\n",
    "numerical comparison or logical functions:"
   ]
  },
  {
   "cell_type": "code",
   "execution_count": null,
   "id": "2e5eed48",
   "metadata": {
    "vscode": {
     "languageId": "plaintext"
    }
   },
   "outputs": [],
   "source": [
    ">>> from qrisp import QuantumBool, h\n",
    ">>> q_bool_0 = QuantumBool()\n",
    ">>> h(q_bool_0)     # superposition\n",
    ">>> print(q_bool_0)\n",
    "{False: 0.5, True: 0.5}\n",
    ">>> q_bool_1 = QuantumBool()    # initialized as false per default \n",
    ">>> print(q_bool_1 | q_bool_0)      # q_bool_0 ist still in superposition, therefore there's a 0.5 chance it's true and the disjunction is true \n",
    "{False: 0.5, True: 0.5}\n",
    ">>> print(q_bool_1 & q_bool_0)      # q_bool_1 is initialized as false, so the conjunction is always false\n",
    "{False: 1.0}"
   ]
  },
  {
   "cell_type": "markdown",
   "id": "83389cc3",
   "metadata": {},
   "source": [
    "We have only looked at single QuantumVariables until now, but as in\n",
    "classical computing, we can also have an array of QuantumVariables. For\n",
    "example the QuantumString, briefly mentioned before, is such an array of\n",
    "QuantumChars. With this type, or more like array of variables, we can\n",
    "now recreate the world’s most popular computer program on a quantum\n",
    "computer:"
   ]
  },
  {
   "cell_type": "code",
   "execution_count": null,
   "id": "e2905bfa",
   "metadata": {
    "vscode": {
     "languageId": "plaintext"
    }
   },
   "outputs": [],
   "source": [
    ">>> from qrisp import QuantumString\n",
    ">>> q_str = QuantumString(size = len(\"hello world\"))        #initialize string with desired length\n",
    ">>> q_str[:] = \"hello world\"        #initialize String \n",
    ">>> print(q_str)\n",
    "{'hello world': 1.0}"
   ]
  },
  {
   "cell_type": "markdown",
   "id": "a0a670ce",
   "metadata": {},
   "source": [
    "As expected, we get ‘hello world’ with 100% certainty (since we so far\n",
    "only executed our programs on a simulator, more to that later). Because\n",
    "we want to use the quantum effects to spice up our hello world program,\n",
    "we implement another small program, but now split ‘hello world’ into\n",
    "three parts:"
   ]
  },
  {
   "cell_type": "code",
   "execution_count": null,
   "id": "8c7db080",
   "metadata": {
    "vscode": {
     "languageId": "plaintext"
    }
   },
   "outputs": [],
   "source": [
    ">>> q_str_0 = QuantumString()\n",
    ">>> q_str_1 = QuantumString()\n",
    ">>> q_str_2 = QuantumString()\n",
    ">>> q_str_0[:] = \"hello\"\n",
    ">>> q_str_1 += \" \"\n",
    ">>> q_str_2[:] = \"world\"\n",
    ">>> q_str_3 = q_str_1 + q_str_2     # concatenation\n",
    ">>> q_str_0 += q_str_3      # concatenation\n",
    ">>> print(q_str_0)\n",
    "{'hello world': 1.0}"
   ]
  },
  {
   "cell_type": "markdown",
   "id": "0f883be1",
   "metadata": {},
   "source": [
    "So far nothing really changed, besides that we split ‘hello world’ in\n",
    "three parts and glued them together. But now we want to add some\n",
    "superposition and apply a Hadamard gate to the first qubit of the second\n",
    "string:"
   ]
  },
  {
   "cell_type": "code",
   "execution_count": null,
   "id": "d08c3749",
   "metadata": {
    "vscode": {
     "languageId": "plaintext"
    }
   },
   "outputs": [],
   "source": [
    ">>> from qrisp import h\n",
    ">>> h(q_str_2[0][0])        # Hadamard gate. introduces supersposition \n",
    ">>> print(q_str_0)\n",
    "{'hello world': 0.5, 'hello xorld': 0.5}"
   ]
  },
  {
   "cell_type": "markdown",
   "id": "b805fce5",
   "metadata": {},
   "source": [
    "\n",
    "As you can see, we now have a superposition of `hello world` and\n",
    "`hello xorld`. The string is in both states simultaneously, which shows\n",
    "the power of Qrisp. We don’t just have some superposition of states, but\n",
    "really a superposition of string values. The Hadamard gate, which\n",
    "creates the superposition, is formally introduced down below.\n",
    "\n",
    "## Circuits\n",
    "\n",
    "To visualize quantum algorithms, the circuit representation is very\n",
    "commonly used, so we also want to introduce it here briefly. In a\n",
    "quantum circuit each (logical) qubit is represented by a wire, starting\n",
    "in the initialized state. Little boxes with the corresponding letter\n",
    "show the applied gate. We visualize a circuit with `print()`. Here is a\n",
    "simple example:"
   ]
  },
  {
   "cell_type": "code",
   "execution_count": null,
   "id": "ebf61eb6",
   "metadata": {
    "vscode": {
     "languageId": "plaintext"
    }
   },
   "outputs": [],
   "source": [
    "\n",
    "from qrisp import QuantumVariable\n",
    "qv = QuantumVariable(1)\n",
    "from qrisp import h\n",
    "h(qv[0])\n",
    "print(qv.qs) \n",
    "\n",
    "\n",
    "    QuantumCircuit:\n",
    "    ---------------\n",
    "          ┌───┐\n",
    "    qv.0: ┤ H ├\n",
    "          └───┘\n",
    "    Live QuantumVariables:\n",
    "    ----------------------\n",
    "    QuantumVariable qv\n"
   ]
  },
  {
   "cell_type": "markdown",
   "id": "3a9de1ac",
   "metadata": {},
   "source": [
    "The `print()` function should be used with a QuantumSession of the corresponding QuantumVariable (`qv.qs`). You can imagine the QuantumSession like the bigger picture that contains all QuantumVariables and constructs the circuit.\n",
    "\n",
    "Multi-qubit gates that contain target and control qubits are visualized with a crosshair or a labelled box on the target. The control is stylized into a little dot. We will find out more about multi-qubit gates a few sentences below in the next section.\n",
    "\n",
    "In Qrisp, commonly used sub-routines are not broken down to their core gates, but instead represented by a box with a label of the algorithm. This helps you construct complex circuits without having to worry about the foundational gates, but you can break them down to a gate level, if you wish, using the `transpile()` function.\n",
    "\n",
    "For example, this popular sub-routine (that we will explore in a later section)"
   ]
  },
  {
   "cell_type": "code",
   "execution_count": null,
   "id": "2bb2cd88",
   "metadata": {
    "vscode": {
     "languageId": "plaintext"
    }
   },
   "outputs": [],
   "source": [
    "\n",
    "from qrisp import QuantumVariable, h, QFT\n",
    "qv1 = QuantumVariable(2)\n",
    "QFT(qv1)\n",
    "print(qv1.qs)\n",
    "```\n",
    "\n",
    "    QuantumCircuit:\n",
    "    ---------------\n",
    "            ┌──────┐\n",
    "    qv_0.0: ┤0     ├\n",
    "            │  QFT │\n",
    "    qv_0.1: ┤1     ├\n",
    "            └──────┘\n",
    "    Live QuantumVariables:\n",
    "    ----------------------\n",
    "    QuantumVariable qv_0"
   ]
  },
  {
   "cell_type": "markdown",
   "id": "fb634d5b",
   "metadata": {},
   "source": [
    "can be broken down to:"
   ]
  },
  {
   "cell_type": "code",
   "execution_count": null,
   "id": "b89bdef0",
   "metadata": {
    "vscode": {
     "languageId": "plaintext"
    }
   },
   "outputs": [],
   "source": [
    "\n",
    "    >>> print(qv1.qs.transpile())\n",
    "            ┌────────┐          ┌───┐┌─────────┐┌───┐┌───┐┌───┐     ┌───┐\n",
    "    qv_0.0: ┤ P(π/4) ├──────────┤ X ├┤ P(-π/4) ├┤ X ├┤ H ├┤ X ├──■──┤ X ├\n",
    "            └─┬───┬──┘┌────────┐└─┬─┘└─────────┘└─┬─┘└───┘└─┬─┘┌─┴─┐└─┬─┘\n",
    "    qv_0.1: ──┤ H ├───┤ P(π/4) ├──■───────────────■─────────■──┤ X ├──■──\n",
    "              └───┘   └────────┘                               └───┘   "
   ]
  },
  {
   "cell_type": "markdown",
   "id": "91cdbaad",
   "metadata": {},
   "source": [
    "If you’re all hot for Qrisp programming now, there’s good news: The next chapter is completely focused on implementing simple programs and diving deeper into the Qrisp language. For now, we will introduce the most common quantum gates with their effect on the qubits.\n",
    "\n",
    "## Quantum Gates \n",
    "\n",
    "In the above section, we have already seen some quantum gates. We now\n",
    "briefly want to review them and see how they look in a circuit\n",
    "representation and learn more about their effect on the qubits. And of\n",
    "course we will also get to know more common quantum gates, which will be\n",
    "useful later, when we are going to implement the first quantum\n",
    "algorithms.\n",
    "\n",
    "All quantum gates are represented by a matrix. This makes more sense\n",
    "than a traditional truth table, since we don’t have distinct values like\n",
    "1 and 0. Furthermore, as we already learned, they are reversible. That\n",
    "means, if you show me your final state and the gates you used, I can\n",
    "tell you which state you started in. In classical computing, this would\n",
    "be like trying to unmix a bunch of colored paints – it’s just not\n",
    "possible.\n",
    "\n",
    "We already encountered the **Pauli-X gate** or simply **X gate** ,\n",
    "operating as a bit-flip. The corresponding matrix looks like an\n",
    "anti-identity matrix, as it switches the values:\n",
    "\n",
    "$$\\begin{aligned}\n",
    "X =\\left (\\begin{array}{rrr}\n",
    "    0 & 1\\\\\n",
    "    1 & 0\\\\\n",
    "\\end{array} \\right)\n",
    "\\end{aligned}$$"
   ]
  },
  {
   "cell_type": "code",
   "execution_count": null,
   "id": "482bc896",
   "metadata": {
    "vscode": {
     "languageId": "plaintext"
    }
   },
   "outputs": [],
   "source": [
    "from qrisp import QuantumVariable, x\n",
    "qv = QuantumVariable(1)\n",
    "x(qv)"
   ]
  },
  {
   "cell_type": "markdown",
   "id": "2ebfce19",
   "metadata": {},
   "source": [
    "On the Blochsphere, the state vector is rotated by angle $\\pi$ (or 180°)\n",
    "around the x-axis, hence the name “X gate”:\n",
    "\n",
    "![image](./BlochsphereX.png)\n",
    "\n",
    "Notice that if we start in a state where both outcomes are equally\n",
    "probable (in superposition), the X gate has no effect. The Pauli-X gate\n",
    "exchanges the probabilities for $\\ket{0}$ with $\\ket{1}$, but since both\n",
    "states have the same probability, it stays the same. Here is a\n",
    "visualization for the state\n",
    "$\\frac{1}{\\sqrt{2}} \\ket{0} + \\frac{1}{\\sqrt{2}} \\ket{1}$:\n",
    "\n",
    "![image1](./BlochsphereXSuperposition.png)\n",
    "\n",
    "Since this vector stays unaffected by the linear transformation of the\n",
    "X-gate, it is its eigenvector.\n",
    "\n",
    "Other Pauli gates are Y and Z. The **Pauli-Y** gate is comparable with\n",
    "the X gate, but instead of a bit-flip, a phase-flip is applied. As the\n",
    "name reveals, it performs a $\\pi$ angle (180°) rotation around the\n",
    "y-axis:\n",
    "\n",
    "$$\\begin{aligned}\n",
    "Y=\\left (\\begin{array}{rrr}\n",
    "   0 & -i\\\\\n",
    "   i & 0\\\\\n",
    "\\end{array} \\right)\n",
    "\\end{aligned}$$"
   ]
  },
  {
   "cell_type": "code",
   "execution_count": null,
   "id": "eb7225ef",
   "metadata": {
    "vscode": {
     "languageId": "plaintext"
    }
   },
   "outputs": [],
   "source": [
    "from qrisp import QuantumVariable, y, QuantumSession\n",
    "qv = QuantumVariable(1)\n",
    "y(qv)\n",
    "print(qv.qs)"
   ]
  },
  {
   "cell_type": "code",
   "execution_count": null,
   "id": "01a59efb",
   "metadata": {
    "vscode": {
     "languageId": "plaintext"
    }
   },
   "outputs": [],
   "source": [
    "    QuantumCircuit:\n",
    "    ---------------\n",
    "          ┌───┐\n",
    "    qv.0: ┤ Y ├\n",
    "          └───┘\n",
    "    Live QuantumVariables:\n",
    "    ----------------------\n",
    "    QuantumVariable qv"
   ]
  },
  {
   "cell_type": "markdown",
   "id": "72cd1b50",
   "metadata": {},
   "source": [
    "The **Pauli Z-gate** (you guessed it!) rotates around the z-axis by the\n",
    "angle $\\pi$. It leaves the qubit $\\ket{0}$ unchanged, but changes the\n",
    "sign of $\\ket{1}$, so it maps $\\ket{1} \\rightarrow -\\ket{1}$.\n",
    "\n",
    "$$\\begin{aligned}\n",
    "Z=\\left (\\begin{array}{rrr}\n",
    "    1 & 0\\\\\n",
    "    0 & -1\\\\\n",
    "\\end{array} \\right)\n",
    "\\end{aligned}$$"
   ]
  },
  {
   "cell_type": "code",
   "execution_count": null,
   "id": "9c7a2714",
   "metadata": {
    "vscode": {
     "languageId": "plaintext"
    }
   },
   "outputs": [],
   "source": [
    "from qrisp import QuantumVariable, z\n",
    "qv = QuantumVariable(1)\n",
    "z(qv)"
   ]
  },
  {
   "cell_type": "markdown",
   "id": "b718ea2e",
   "metadata": {},
   "source": [
    "(The circuits for the X and Z-gate look exactly like the Y-gate, with\n",
    "their respective letter instead. You can also print them for yourself.)\n",
    "\n",
    "The general **phase shift gate** is represented by the matrix:\n",
    "\n",
    "$$\\begin{aligned}\n",
    "\\left (\\begin{array}{rrr}\n",
    "1 & 0\\\\ \n",
    "0 & e^{i\\theta}\\\\ \n",
    "\\end{array} \\right),\n",
    "\\end{aligned}$$\n",
    "\n",
    "where $\\theta$ denotes the phase. The $\\ket{0}$ state stays unchanged,\n",
    "and $\\ket{1}$ is mapped to $e^{i\\theta} \\ket{1}$, changing the relative\n",
    "phase of $\\ket{1}$. Specific phase gates are: \\* Pauli Z-gate with\n",
    "$\\theta = \\pi$ \\* S-gate with the matrix\n",
    "\n",
    "$$\\begin{aligned}\n",
    "\\left (\\begin{array}{rrr}\n",
    "1 & 0\\\\\n",
    "0 & i\\\\\n",
    "\\end{array} \\right)\n",
    "\\end{aligned}$$\n",
    "\n",
    "with $\\theta = \\frac{\\pi}{2}$ + T-gate with $\\theta = \\frac{\\pi}{4}$\n",
    "\n",
    "Next, we are having a look at **rotation gates**. They can be seen as a\n",
    "generalized approach to the Pauli matrices, since they are not limiting\n",
    "the degree of rotation.\n",
    "\n",
    "$$\\begin{aligned}\n",
    "R_x (\\theta)= \\left (\\begin{array}{rrr}\n",
    "cos(\\frac{\\theta}{2}) &-i*sin(\\frac{\\theta}{2})\\\\\n",
    "-i*sin(\\frac{\\theta}{2})& cos(\\frac{\\theta}{2})\\\\\n",
    "\\end{array} \\right)\n",
    "\\end{aligned}$$\n",
    "\n",
    "$$\\begin{aligned}\n",
    "R_y (\\theta)= \\left (\\begin{array}{rrr}\n",
    "cos(\\frac{\\theta}{2}) &-sin(\\frac{\\theta}{2})\\\\\n",
    "sin(\\frac{\\theta}{2})& cos(\\frac{\\theta}{2})\\\\\n",
    "\\end{array} \\right)\n",
    "\\end{aligned}$$\n",
    "\n",
    "$$\\begin{aligned}\n",
    "R_z(\\lambda)= \\left (\\begin{array}{rrr}\n",
    "e^{-i\\frac{\\lambda}{2}} &0\\\\\n",
    "0& e^{i\\frac{\\lambda}{2}}\\\\\n",
    "\\end{array} \\right)\n",
    "\\end{aligned}$$\n",
    "\n",
    "As stated previously, the Pauli matrices perform a rotation around their\n",
    "respective axis for $\\pi$. Let’s test that:"
   ]
  },
  {
   "cell_type": "code",
   "execution_count": null,
   "id": "87d77471",
   "metadata": {
    "vscode": {
     "languageId": "plaintext"
    }
   },
   "outputs": [],
   "source": [
    "from qrisp import QuantumVariable, measure, x, rx\n",
    "import numpy as np\n",
    "qv3 = QuantumVariable(1)\n",
    "qv4 = QuantumVariable(1)\n",
    "x(qv3)              # pauli x gate \n",
    "rx(np.pi, qv4)      # rotation gate around the x axis for angle pi\n",
    "print(qv3)\n",
    "print(qv4)\n",
    "\n",
    "\n",
    "    {'1': 1.0}                                                  \n",
    "    {'1': 1.0} "
   ]
  },
  {
   "cell_type": "markdown",
   "id": "86264e4a",
   "metadata": {},
   "source": [
    "\n",
    "As you can see, both are equivalent for $\\theta= \\pi$. Notice that we\n",
    "might have caught some global phase in the process, but that shouldn’t\n",
    "bother us.\n",
    "\n",
    "Last, but certainly not least, we have the **Hadamard** gate: When\n",
    "starting in state $\\ket{0}$ it creates an equal superposition. To\n",
    "harness the power of quantum computing, the Hadamard gate is often used\n",
    "in the beginning of circuits to put all qubits in superposition.\n",
    "\n",
    "$$\\begin{aligned}\n",
    "H= \\frac{1}{\\sqrt{2}}\\left (\\begin{array}{rrr}\n",
    "   1 & 1\\\\\n",
    "   1 & -1\\\\\n",
    "\\end{array} \\right)\n",
    "\\end{aligned}$$"
   ]
  },
  {
   "cell_type": "code",
   "execution_count": null,
   "id": "e99687c5",
   "metadata": {
    "vscode": {
     "languageId": "plaintext"
    }
   },
   "outputs": [],
   "source": [
    ">>> from qrisp import QuantumVariable, QuantumSession,h\n",
    ">>> qv = QuantumVariable(1)\n",
    ">>> h(qv)\n",
    ">>> print(qv.qs.statevector()) # another useful function to get the vector in the Bloch sphere \n",
    "sqrt(2)*(|0> + |1>)/2"
   ]
  },
  {
   "cell_type": "markdown",
   "id": "711b96db",
   "metadata": {},
   "source": [
    "Have you noticed the factor of $\\frac{1}{\\sqrt{2}}$ before the matrix?\n",
    "Since we are always working with normalised quantum states,\n",
    "this factor makes sure that also after applying the Hadamard gate, the\n",
    "qubit states are still normalised.\n",
    "\n",
    "After studying all these gates individually, let’s see an example where\n",
    "some gates are applied successively: We initialize a qubit in the\n",
    "fiducial state $\\ket{0}$, apply a Hadamard gate for equal superposition,\n",
    "oppose a bit-flip with Pauli-X and a phase shift with S:\n",
    "\n",
    "$$\\begin{aligned}\n",
    "SXH\\ket{0} = \\frac{1}{\\sqrt{2}} \\left (\\begin{array}{rrr}\n",
    "1 & 0\\\\\n",
    "0 & i\\\\\n",
    "\\end{array} \\right)\\left (\\begin{array}{rrr}\n",
    "0 & 1\\\\\n",
    "1 & 0\\\\\n",
    "\\end{array} \\right)\\left (\\begin{array}{rrr}\n",
    "1 & 1\\\\\n",
    "1 & -1\\\\\n",
    "\\end{array} \\right)\\left (\\begin{array}{c}\n",
    "1 \\\\ 0\\\\\n",
    "\\end{array} \\right) \\\\ =  \\frac{1}{\\sqrt{2}} \\left (\\begin{array}{rrr}\n",
    "1 & 0\\\\\n",
    "0 & i\\\\\n",
    "\\end{array} \\right)\\left (\\begin{array}{rrr}\n",
    "0 & 1\\\\\n",
    "1 & 0\\\\\n",
    "\\end{array} \\right)\\left(\\begin{array}{c}\n",
    "1 \\\\ 1\\\\\n",
    "\\end{array} \\right) \\\\ =\\frac{1}{\\sqrt{2}} \\left (\\begin{array}{rrr}\n",
    "1 & 0\\\\\n",
    "0 & i\\\\\n",
    "\\end{array} \\right)\\left(\\begin{array}{c}\n",
    "1 \\\\ 1\\\\\n",
    "\\end{array} \\right) \\\\ =\\frac{1}{\\sqrt{2}}\\left(\\begin{array}{c}\n",
    "1 \\\\ i\\\\\n",
    "\\end{array} \\right)\n",
    "\\end{aligned}$$\n",
    "\n",
    "It is important to reverse the order of the gates, so that the gates\n",
    "closest to the qubit are applied first, since matrix multiplication does\n",
    "not commute and we start at the end. The normalization factor\n",
    "$\\frac{1}{\\sqrt{2}}$ from the Hadamard gate however can be written in\n",
    "front of the calculation.\n",
    "\n",
    "Let’s have a look at how to implement this calculation:"
   ]
  },
  {
   "cell_type": "code",
   "execution_count": null,
   "id": "c94fcf65",
   "metadata": {
    "vscode": {
     "languageId": "plaintext"
    }
   },
   "outputs": [],
   "source": [
    "from qrisp import x, s,QuantumSession\n",
    "qv = QuantumVariable(1) \n",
    "h(qv)\n",
    "x(qv)\n",
    "s(qv)\n",
    "print(qv)\n",
    "print(qv.qs)\n",
    "print(qv.qs.statevector())\n",
    "\n",
    "\n",
    "\n",
    "{'0': 0.5, '1': 0.5}                                                \n",
    "QuantumCircuit:\n",
    "--------------\n",
    "      ┌───┐┌───┐┌───┐\n",
    "qv.0: ┤ H ├┤ X ├┤ S ├\n",
    "      └───┘└───┘└───┘\n",
    "Live QuantumVariables:\n",
    "--------------------\n",
    "QuantumVariable qv\n",
    "sqrt(2)*(|0> + I*|1>)/2\n"
   ]
  },
  {
   "cell_type": "markdown",
   "id": "703a73ff",
   "metadata": {},
   "source": [
    "\n",
    "The measurements {‘0’: 0.5, ‘1’: 0.5} are the probabilities, the\n",
    "statevector function $\\frac{\\sqrt{2} (\\ket 0 + i \\ket 1)}{2}$ is\n",
    "providing us our initial solution.\n",
    "\n",
    "As mentioned in the 4th DiVincenzo criterium, a set of universal quantum\n",
    "gates is required to perform arbitrary computations. One commonly used\n",
    "universal set consists of the rotation, phase shift and CNOT gate. By\n",
    "using combinations of these gates, you can effectively simulate or\n",
    "approximate any other unitary quantum gate. The key word here is\n",
    "approximate, since some gates connot be recreated 100% accurately. The\n",
    "Solovay-Kitaev theorem is giving us more information about that: Any\n",
    "quantum circuit containing $m$ CNOTs and single qubit gates can be\n",
    "approximated to an accuracy $\\epsilon$ using only\n",
    "$\\mathcal(O)(m* log^c (\\frac{m}{\\epsilon}))$ gates from a certain set.  \n",
    "Why is this useful? When implementing quantum algorithms on real quantum\n",
    "computers, you often have to work with specific gates provided by the\n",
    "hardware. The Solovay-Kitaev theorem helps compile your quantum programs\n",
    "into sequences of these available gates, ensuring that your computation\n",
    "is performed accurately and efficiently. Furthermore, it can be used in\n",
    "high-level programming languages like Qrisp, that have to break down\n",
    "your written code into gates to apply them.\n",
    "\n",
    "### Multi-qubit gates\n",
    "\n",
    "To really harness the power of entanglement, we need multi-qubit gates.\n",
    "The most famous one is the **CNOT** (controlled-not) gate: As the name\n",
    "suggests, it works conditional. It is applied to two qubits, one acts as\n",
    "the control qubit and the other as target qubit. Is the control qubit in\n",
    "state $\\ket{0}$, nothing changes. However, is the control qubit in state\n",
    "$\\ket{1}$, a bit-flip is applied to the target qubit. The values of the\n",
    "qubits depend on each other, therefore they can be entangled. Since a\n",
    "bitflip is applied, the gate is also called CX (controlled X gate).  \n",
    "If we apply this gate to two qubits in the initial state $\\ket{00}$, we\n",
    "get the underwhelming result of… still $\\ket{00}$. The control qubit\n",
    "needs to be in the state $\\ket{1}$ for the gate to show its effect. But\n",
    "even when starting in $\\ket{01}$, our result would be $\\ket{11}$,\n",
    "however we haven’t seen any entanglement yet. To achieve that, we need\n",
    "the control qubit to start in superposition\n",
    "$\\frac{1}{\\sqrt{2}}\\ket{00} +\\frac{1}{\\sqrt{2}}\\ket{01}$. The first\n",
    "number represents the target qubit, the second the control. As you can\n",
    "see, the control qubit is in a superposition, we only wrote the target\n",
    "qubit into the ket as well to simplify. Of course we could also choose\n",
    "any other superposition state. When we apply the CX gate now, we get the\n",
    "Bell state $\\frac{1}{\\sqrt{2}}\\ket{00} +\\frac{1}{\\sqrt{2}}\\ket{11}$,\n",
    "which is in fact entangled."
   ]
  },
  {
   "cell_type": "code",
   "execution_count": null,
   "id": "9b39e9cd",
   "metadata": {
    "vscode": {
     "languageId": "plaintext"
    }
   },
   "outputs": [],
   "source": [
    "from qrisp import QuantumVariable, h, cx, QuantumSession\n",
    "qv5 = QuantumVariable(1)\n",
    "qv6 = QuantumVariable(1)\n",
    "h(qv5)\n",
    "cx(qv5, qv6)\n",
    "print(qv5)\n",
    "print(qv5.qs)\n",
    " \n",
    "\n",
    "    {'0': 0.5, '1': 0.5}                                                     \n",
    "    QuantumCircuit:\n",
    "    ---------------\n",
    "           ┌───┐     \n",
    "    qv5.0: ┤ H ├──■──\n",
    "           └───┘┌─┴─┐\n",
    "    qv6.0: ─────┤ X ├\n",
    "                └───┘\n",
    "    Live QuantumVariables:\n",
    "    ----------------------\n",
    "    QuantumVariable qv5\n",
    "    QuantumVariable qv6\n",
    "    sqrt(2)*(|0>**2 + |1>**2)/2"
   ]
  },
  {
   "cell_type": "markdown",
   "id": "0499f0a8",
   "metadata": {},
   "source": [
    "This state is per definition entangled, and you can not find any product\n",
    "state of two independent qubits that add up to this state.  \n",
    "The Bell state is the easiest way to reach maximum entanglement for two\n",
    "qubits and is essential, for example in superdense coding. This quantum\n",
    "communication protocol relies on two entangled qubits that are shared\n",
    "between two parties, usually Alice and Bob; by sending only one qubit\n",
    "Alice can convey the same information as with two classical bits.\n",
    "\n",
    "can lead to them switching the values. This is known as a **phase\n",
    "kickback**. See this example:\n",
    "$\\frac{1}{2}\\ket{00} -\\frac{1}{2}\\ket{01} +\\frac{1}{2}\\ket{10}-\\frac{1}{2}\\ket{11} \\xrightarrow{CNOT}\\frac{1}{2}\\ket{00} -\\frac{1}{2}\\ket{01} -\\frac{1}{2}\\ket{10}+\\frac{1}{2}\\ket{11}$\n",
    "This will be an essential step in the Quantum Phase Estimation Algorithm. To further understand these\n",
    "propteries, let’s have a look at the matrix:\n",
    "\n",
    "$$\\begin{aligned}\n",
    "CNOT=\\left (\\begin{array}{rrr} 1 & 0 & 0 & 0\\\\0 & 1 & 0 & 0\\\\0 & 0 & 0 & 1\\\\0 & 0 & 1 & 0\\\\ \\end{array} \\right)\n",
    "\\end{aligned}$$\n",
    "\n",
    "Note that the upper part resembles an identity matrix, since the control\n",
    "qubit is left unchanged. The lower part looks like the X gate, flipping\n",
    "the values. With this structure, we can construct new controlled\n",
    "versions of abitrary matrices in the bottom right part. Other well-known\n",
    "examples are the CY or CZ gates, including the respective Pauli matrix\n",
    "in the target part.\n",
    "\n",
    "The CNOT gate can also be expanded to include more control qubits,\n",
    "leading to our next operation: The **Toffoli**- or CCNOT-gate is a\n",
    "quantum equivalent of a classical gate. It extends the CNOT gate to\n",
    "include two control qubits, meaning the upper part is repeated:\n",
    "\n",
    "$$\\begin{aligned}\n",
    "TOFFOLI=\\left (\\begin{array}{rrr}\n",
    "1 & 0 & 0 & 0 & 0 & 0 & 0 & 0\\\\\n",
    "0 & 1 & 0 & 0& 0 & 0 & 0 & 0\\\\\n",
    "0 & 0 & 1 & 0& 0 & 0 & 0 & 0\\\\\n",
    "0 & 0 & 0 & 1& 0 & 0 & 0 & 0\\\\\n",
    "0 & 0 & 0 & 0& 1 & 0 & 0 & 0\\\\\n",
    "0 & 0 & 0 & 0& 0 & 1 & 0 & 0\\\\\n",
    "0 & 0 & 0 & 0& 0 & 0 & 0 & 1\\\\\n",
    "0 & 0 & 0 & 0& 0 & 0 & 1 & 0\\\\\n",
    "\\end{array} \\right)\n",
    "\\end{aligned}$$\n",
    "\n",
    "Due to the exponential growth of qubits, the three qubit gate needs\n",
    "$2^3 = 8$ rows and columns.\n",
    "\n",
    "The **swap** gate changes the values of two qubits. In contrast to the\n",
    "CNOT, it is not conditional, and works on two whole qubits instead of\n",
    "the two states of one qubits (that would be a X gate).\n",
    "\n",
    "$$\\begin{aligned}\n",
    "SWAP =\\left (\\begin{array}{rrr}\n",
    "    1 & 0 & 0 & 0\\\\\n",
    "    0 & 0 & 1 & 0\\\\\n",
    "    0 & 1 & 0 & 0\\\\\n",
    "    0 & 0 & 0 & 1\\\\\n",
    "\\end{array} \\right)\n",
    "\\end{aligned}$$"
   ]
  },
  {
   "cell_type": "code",
   "execution_count": null,
   "id": "6e453801",
   "metadata": {
    "vscode": {
     "languageId": "plaintext"
    }
   },
   "outputs": [],
   "source": [
    "\n",
    "from qrisp import QuantumVariable, QuantumSession,swap, multi_measurement\n",
    "qv0 = QuantumVariable(1)\n",
    "qv1 = QuantumVariable(1)\n",
    "x(qv0)      #0 -> 1\n",
    "swap(qv0, qv1)\n",
    "print(qv0.qs)\n",
    "print(qv0)\n",
    "print(qv1)"
   ]
  },
  {
   "cell_type": "code",
   "execution_count": null,
   "id": "c2146fc4",
   "metadata": {
    "vscode": {
     "languageId": "plaintext"
    }
   },
   "outputs": [],
   "source": [
    "\n",
    "    QuantumCircuit:\n",
    "    ---------------\n",
    "           ┌───┐   \n",
    "    qv0.0: ┤ X ├─X─\n",
    "           └───┘ │ \n",
    "    qv1.0: ──────X─\n",
    "\n",
    "    Live QuantumVariables:\n",
    "    ----------------------\n",
    "    QuantumVariable qv0\n",
    "    QuantumVariable qv1\n",
    "    {'0': 1.0} 2 qubits                                                    \n",
    "    {'1': 1.0} 2 qubits"
   ]
  },
  {
   "cell_type": "markdown",
   "id": "6aa5c424",
   "metadata": {},
   "source": [
    "\n",
    "## Challenges\n",
    "\n",
    "The reason we put so much effort into developing a new programming\n",
    "paradigm is the promised quatum advantage. This describes the hope that\n",
    "a quantum computer can solve problems that no classical computer can\n",
    "solve in feasible time. This advantage has not been proven so far, but\n",
    "we have evidence to believe in it, such as clever engineered algorithms\n",
    "that make use of quantum phenomena and can already solve specific\n",
    "problems faster (that we will look at in the next sections).  \n",
    "However, there are still challenges we face before quantum advantage is\n",
    "reached. In this section we will go through some major challenges\n",
    "physicists and engineers are facing when building quantum computers.\n",
    "\n",
    "For example the **connectivity** between qubits plays a vital role. When\n",
    "two qubits need to be adressed together, e.g. with a CNOT gate, but are\n",
    "not connected to each other, the qubits need to be permuted via SWAP\n",
    "operations which costs valuable computation time and thus increases the\n",
    "probability of quantum noise effects (errors). However, a well-connected\n",
    "qubit system can lead to unwanted qubit interactions, termed as\n",
    "cross-talk between qubits, which induce decoherence.\n",
    "\n",
    "Quantum systems are extremly fragile and prone to **decoherence**. The\n",
    "slightest change in temperature, humidity, electromagnetic influences\n",
    "(even in another room) or even the qubits themselves as just established\n",
    "can lead to information loss. Of course, these challenges are kept in\n",
    "mind when designing the hardware, but it is still hard to completely\n",
    "isolate the qubits from the evironment, especially since we need to\n",
    "manipulate them via gate functions.\n",
    "\n",
    "Similar, decoherence limits the **scalability**, as bigger quantum\n",
    "circuits offer more chances to induce noise. A higher qubit count\n",
    "however is needed to tackle interesting problems that are\n",
    "computationally too expensive on classical computers.\n",
    "\n",
    "These effects often prohibit as many qubit connections as mathematically\n",
    "or physically possible, or require additional qubits for error\n",
    "correction. This leads to the logical qubit to physical qubit trade-off.\n",
    "You can therefore often only implement algorithms using fewer logical\n",
    "qubits than available physical qubits. This relationship is estimated to\n",
    "be 10:1 to 1.000:1, depending on the algorithm, the error correction\n",
    "method and the fault-tolerance of the computation.\n",
    "\n",
    "To actually be able to build elaborate quantum computers and hopefully\n",
    "achieve quantum advantage, error handling techniques arised, so we can\n",
    "reduce these effects. In the section error handling (comming soon), we\n",
    "have a closer look at different techniques. You can now decide if yo\n",
    "want to read up more on that, or get practical with your first Qrisp\n",
    "programming.\n",
    "\n",
    "## Summary\n",
    "\n",
    "-   The five basic requirements for quantum computers are scalability,\n",
    "    coherence, universal gates, precise measurement and reliable\n",
    "    initialization\n",
    "-   The most important single qubit gates are the Pauli X, Y, Z gates,\n",
    "    the phase shift gates, the rotation operations and the Hadamard gate\n",
    "-   The most important mulit qubits gates are the SWAP, the CNOT-gate\n",
    "    and its extension, the Toffoli gate.\n",
    "-   In Qrisp, QuantumTypes, the quantum counterparts to classical\n",
    "    programming types, can be used without explicitly initializing the\n",
    "    qubit structure\n",
    "-   Quantum circuits visualize an algorithm. With `print(qv.qs)`, they\n",
    "    can be drawn with Qrisp.\n",
    "-   Current problems in the development of quantum computers include\n",
    "    connectivity, scalability and noise due to decoherence.\n",
    "\n",
    "In the next chapter, we will use these basics to\n",
    "implement our first programs in Qrisp!"
   ]
  }
 ],
 "metadata": {
  "language_info": {
   "name": "python"
  }
 },
 "nbformat": 4,
 "nbformat_minor": 5
}
