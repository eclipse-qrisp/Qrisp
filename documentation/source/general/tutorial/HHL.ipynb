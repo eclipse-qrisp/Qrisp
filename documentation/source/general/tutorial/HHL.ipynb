{
 "cells": [
  {
   "cell_type": "markdown",
   "id": "dca67693",
   "metadata": {},
   "source": [
    "# Solving linear system problems with HHL\n",
    "\n",
    "The Harrow-Hassidim-Lloyd (HHL) quantum algorithm offers an exponential speed-up over classical methods for solving linear system problems $Ax=b$ for certain sparse matrices $A$. \n",
    "\n",
    "The implementation features hybrid quantum-classical workflows and is compiled using [Catalyst](https://docs.pennylane.ai/projects/catalyst/en/stable/index.html), a quantum just-in-time (QJIT) compiler framework.\n",
    "\n",
    "The goal of this demo is to showcase how Qrisp and Catalyst complement each other for implemententing advanced quantum algorithms and compling them for practically relevant problem sizes through the Jasp compilation pipeline."
   ]
  },
  {
   "cell_type": "markdown",
   "id": "7b2fc5f6",
   "metadata": {},
   "source": [
    "## HHL algorithm in theory\n",
    "\n",
    "Given an $N$-by-$N$ Hermitian matrix $A$ and an $N$-dimensional vector $b$, the Quantum Linear Systems Problem (QSLP) consists of preparing a quantum state $\\ket{x}$ with amplitudes proportional to the solution $x$ of the linear system of equations $Ax=b$. \n",
    "Thereby, it can exhibit an exponential speedup over classical methods for certain sparse matrices $A$. The HHL quantum algorithm and, more generally, quantum linear systems algorithms, hold significant promise for accelerating computations in fields that rely \n",
    "heavily on solving linear systems of equations, such as [solving differential equations](https://arxiv.org/abs/2202.01054v4), or accelerating machine learning.\n",
    "\n",
    "In its eigenbasis, the matrix $A$ can be written as \n",
    "$$ A = \\sum_i \\lambda_i\\ket{u_i}\\bra{u_i} $$\n",
    "where $\\ket{u_i}$ is an eigenvector of $A$ corresponding to the eigenvalue $\\lambda_i$.\n",
    "\n",
    "We define the quantum states $\\ket{b}$ and $\\ket{x}$ as\n",
    "$$ \\ket{b} = \\dfrac{\\sum_i b_i\\ket{i}}{\\|\\sum_i b_i\\ket{i}\\|} = \\sum_i \\beta_i\\ket{u_i} \\quad\\text{and}\\quad \\ket{x} = \\dfrac{\\sum_i x_i\\ket{i}}{\\|\\sum_i x_i\\ket{i}\\|} = \\sum_i \\gamma_i\\ket{u_i} $$\n",
    "where $\\ket{b}$ and $\\ket{x}$ are expressed in the eigenbasis of $A$.\n",
    "\n",
    "Solving the linerar system amounts to\n",
    "$$\\begin{align}\\ket{x}&=A^{-1}\\ket{b}\\\\&=\\bigg(\\sum_{i=0}^{N-1}\\lambda_i^{-1}\\ket{u_i}\\bra{u_i}\\bigg)\\sum_j\\beta_j\\ket{u_j}\\\\&=\\sum_{i=0}^{N-1}\\lambda_i^{-1}\\beta_i\\ket{u_i}\\end{align}$$\n",
    "\n",
    "You might wonder why we can't just apply $A^{-1}$ directly to $\\ket{b}$? This is because, in general, the matix $A$ is not unitary. \n",
    "However, we will circumnavigate this by exploiting that the Hamiltonian evolution $U=e^{itA}$ is unitary for a Hemitian matrix $A$. And this brings us to the HHL algorithm."
   ]
  },
  {
   "cell_type": "markdown",
   "id": "beca2188",
   "metadata": {},
   "source": [
    "In theory, the HHL algorithm can be described as follows:\n",
    "\n",
    "* Step 1: We start by preparing the state \n",
    "  $$ \\ket{\\Psi_1} = \\ket{b} = \\sum_i \\beta_i\\ket{u_i}$$\n",
    "\n",
    "* Step 2: Applying quantum phase estimation with respect to the Hamiltonian evolution $U=e^{itA}$ yields the state \n",
    "  $$ \\ket{\\Psi_2} = \\sum_i \\beta_i\\ket{u_i}\\ket{\\lambda_it/2\\pi} = \\sum_i \\beta_i\\ket{u_i}\\ket{\\widetilde{\\lambda}_i} $$ \n",
    "  To simplify notation, we write $\\widetilde{\\lambda}_i=\\lambda_it/2\\pi$.\n",
    "  \n",
    "\n",
    "* Step 3: Performing the inversion of the eigenvalues $\\widetilde{\\lambda}_i\\rightarrow\\widetilde{\\lambda}_i^{-1}$ yields the state\n",
    "  $$ \\ket{\\Psi_3} = \\sum_i \\beta_i\\ket{u_i}\\ket{\\widetilde{\\lambda}_i}\\ket{\\widetilde{\\lambda}_i^{-1}} $$\n",
    "\n",
    "* Step 4: The amplitudes are multiplied by the inverse eigenvalues $\\widetilde{\\lambda}_i^{-1}$ to obtain the state\n",
    "  $$ \\ket{\\Psi_4} = \\sum_i \\lambda_i^{-1}\\beta_i\\ket{u_i}\\ket{\\widetilde{\\lambda}_i}\\ket{\\widetilde{\\lambda}_i^{-1}} $$\n",
    "  This is achieved by means of a repeat-until-success procedure that applies **Steps 1-3** as a subroutine. Stay tuned for more details below!\n",
    "\n",
    "\n",
    "* Step 5: As a final step, we uncompute the variables $\\ket{\\widetilde{\\lambda}^{-1}}$ and $\\ket{\\widetilde{\\lambda}}$, and obtain the state\n",
    "  $$ \\ket{\\Psi_5} = \\sum_i \\lambda_i^{-1}\\beta_i\\ket{u_i} = \\ket{x} $$\n",
    "\n",
    "And that's the HHL algorithm. The variable initialized in state $\\ket{b}$ is now found in state $\\ket{x}$! \n",
    "\n",
    "As shown in the [original paper](https://arxiv.org/pdf/0811.3171), the runtime of this algorithm is $\\mathcal{O}(\\log(N)s^2\\kappa^2/\\epsilon)$ \n",
    "where $s$ and $\\kappa$ are the sparsity and condition number of the matrix $A$, respectively, and $\\epsilon$ is the precison of the solution. The logarithmic dependence on the dimension $N$ is the source of an exponential advantage over classical methods."
   ]
  },
  {
   "cell_type": "markdown",
   "id": "9f50328f",
   "metadata": {},
   "source": [
    "## HHL implementation in practice\n",
    "\n",
    "Let's put theory into practice and dive into an implementation of the HHL algorithm.\n",
    "\n",
    "As a first step, we define a function `fake_inversion` that performs the inversion $\\lambda\\mapsto\\lambda^{-1}$. In this example, we restrict ourselves to an implementation that works for values $\\lambda=2^{-k}$ for $k\\in\\mathbb{N}$.\n",
    "(A general inversion is available in Qrisp and will soon be updated to be compatible with QJIT compilation!)"
   ]
  },
  {
   "cell_type": "code",
   "execution_count": 1,
   "id": "23a7d966",
   "metadata": {},
   "outputs": [],
   "source": [
    "from qrisp import *\n",
    "\n",
    "\n",
    "def fake_inversion(qf, res=None):\n",
    "    if res is None:\n",
    "        res = QuantumFloat(qf.size + 1)\n",
    "\n",
    "    for i in jrange(qf.size):\n",
    "        cx(qf[i], res[qf.size - i])\n",
    "\n",
    "    return res"
   ]
  },
  {
   "cell_type": "markdown",
   "id": "d50f38c7",
   "metadata": {},
   "source": [
    "> **Note**: Essentially, the controlled-NOT operations in the loop reverse the positions of the bits in input variable and place them in the result variable in the opposite order. \n",
    "> For example, for $\\lambda=2^{-3}$, which is $0.001$ in binary, the function would produce $\\lambda^{-1}=2^3$, which in binary is 1000.\n",
    "\n",
    "Let's see if it works as intended!"
   ]
  },
  {
   "cell_type": "code",
   "execution_count": 2,
   "id": "684a6c4f",
   "metadata": {},
   "outputs": [
    {
     "name": "stdout",
     "output_type": "stream",
     "text": [
      "{(0.125, 8): 0.3333333333333333, (0.25, 4): 0.3333333333333333, (0.5, 2): 0.3333333333333333}\n"
     ]
    }
   ],
   "source": [
    "qf = QuantumFloat(3, -3)\n",
    "x(qf[2])\n",
    "dicke_state(qf, 1)\n",
    "res = fake_inversion(qf)\n",
    "print(multi_measurement([qf, res]))"
   ]
  },
  {
   "cell_type": "markdown",
   "id": "945547a0",
   "metadata": {},
   "source": [
    "Next, we define the function `HHL_encoding` that performs **Steps 1-4** and prepares the state $\\ket{\\Psi_4}$.\n",
    "But, how do we get the values $\\widetilde{\\lambda}^{-1}_i$ into the amplitudes of the states, i.e. how do we go from $\\ket{\\Psi_3}$ to $\\ket{\\Psi_4}$?\n",
    "\n",
    "Recently, efficient methods for black-box quantum state preparation that avoid arithmetic were proposed, see [Bausch](https://quantum-journal.org/papers/q-2022-08-04-773/#), [Sanders et al.](https://journals.aps.org/prl/abstract/10.1103/PhysRevLett.122.020502) In this demo, we use a routine proposed in the latter reference which is based on a comparison between integers. This is implemented via the aforementioned comparisons of QuantumFloats.\n",
    "\n",
    "To simplify the notation, we write $y^{(i)}=\\widetilde{\\lambda}^{-1}_i$. Recall that the values $y^{(i)}$ represent unsigned integers between $0$ and $2^n-1$. \n",
    "\n",
    "Starting from the state\n",
    "$$ \\ket{\\Psi_3} = \\sum_i \\beta_i\\ket{u_i}\\ket{\\widetilde{\\lambda}_i}\\ket{y^{(i)}}_{{\\text{res}}} $$\n",
    "\n",
    "we prepare a uniform superposition of $2^n$ states in a `case_indicator` QuantumFloat.\n",
    "$$ \\ket{\\Psi_3'} = \\sum_i \\beta_i\\ket{u_i}\\ket{\\widetilde{\\lambda}_i}\\ket{y^{(i)}}_{{\\text{res}}}\\otimes\\frac{1}{\\sqrt{2^n}}\\sum_{x=0}^{2^n-1}\\ket{x}_{{\\text{case}}} $$\n",
    "\n",
    "Next we calculate the comparison $a\\geq b$ between the `res` and the `case_indicator` into a QuantumBool `qbl`.\n",
    "$$ \\ket{\\Psi_3''} = \\sum_i \\beta_i\\ket{u_i}\\ket{\\widetilde{\\lambda}_i}\\ket{y^{(i)}}_{{\\text{res}}}\\otimes\\frac{1}{\\sqrt{2^n}}\\left(\\sum_{x=0}^{y^{(i)}-1}\\ket{x}_{{\\text{case}}}\\ket{0}_{{\\text{qbl}}} + \\sum_{x=y^{(i)}}^{2^n-1}\\ket{x}_{{\\text{case}}}\\ket{1}_{{\\text{qbl}}}\\right) $$\n",
    "\n",
    "Finally, the `case_indicator` is unprepared with $n$ Hadamards and we obtain the state\n",
    "$$ \\ket{\\Psi_3'''} = \\sum_i \\dfrac{y^{(i)}}{2^n}\\beta_i\\ket{u_i}\\ket{\\widetilde{\\lambda}_i}\\ket{y^{(i)}}_{{\\text{res}}}\\ket{0}_{{\\text{case}}}\\ket{0}_{{\\text{qbl}}} + \\ket{\\Phi} $$\n",
    "\n",
    "where $\\ket{\\Phi}$ is an orthogonal state with the last variables not in $\\ket{0}_{\\text{case}}\\ket{0}_{\\text{qbl}}$.\n",
    "\n",
    "Hence, upon measuring the `case_indicator` in state $\\ket{0}$ and the target `qbl` in state $\\ket{0}$, the desired state is prepared. \n",
    "\n",
    "**Steps 1-4** are preformed as a repeat-until-success (RUS) routine. This decorator converts the function to be executed within a repeat-until-success (RUS) procedure. The function must return a boolean value as first return value and is repeatedly executed until the first return value is True."
   ]
  },
  {
   "cell_type": "code",
   "execution_count": null,
   "id": "338702b1",
   "metadata": {},
   "outputs": [],
   "source": [
    "@RUS(static_argnums=[0, 1])\n",
    "def HHL_encoding(b, hamiltonian_evolution, n, precision):\n",
    "\n",
    "    # Prepare the state |b>. Step 1\n",
    "    qf = QuantumFloat(n)\n",
    "    # Reverse the endianness for compatibility with Hamiltonian simulation.\n",
    "    prepare(qf, b, reversed=True)\n",
    "\n",
    "    qpe_res = QPE(qf, hamiltonian_evolution, precision=precision)  # Step 2\n",
    "    inv_res = fake_inversion(qpe_res)  # Step 3\n",
    "\n",
    "    case_indicator = QuantumFloat(inv_res.size)\n",
    "\n",
    "    with conjugate(h)(case_indicator):\n",
    "        qbl = case_indicator >= inv_res\n",
    "\n",
    "    cancellation_bool = (measure(case_indicator) == 0) & (measure(qbl) == 0)\n",
    "\n",
    "    # The first return value is a boolean.\n",
    "    # Additional return values are QuantumVariables.\n",
    "    return cancellation_bool, qf, qpe_res, inv_res"
   ]
  },
  {
   "cell_type": "markdown",
   "id": "9132e3cb",
   "metadata": {},
   "source": [
    "The probability of success could be further increased by oblivious amplitude amplification in order to obain an optimal asymptotic scaling.\n",
    "\n",
    "Finally, we put all things together into the **HHL** function.\n",
    "\n",
    "This function takes the follwoing arguments:\n",
    "\n",
    "* `b` The vector $b$.\n",
    "* `hamiltonian_evolution` A function performing hamiltonian_evolution $e^{itA}$.\n",
    "* `n` The number of qubits encoding the state $\\ket{b}$ ($N=2^n$).\n",
    "* `precision` The precison of the quantum phase estimation.\n",
    "\n",
    "The HHL function uses the previously defined subroutine to prepare the state $\\ket{\\Psi_4}$ and subsequently uncomputes the $\\ket{\\widetilde{\\lambda}}$ and $\\ket{\\lambda}$ quantum variables leaving the first variable, \n",
    "that was initialized in state $\\ket{b}$, in the target state $\\ket{x}$."
   ]
  },
  {
   "cell_type": "code",
   "execution_count": 4,
   "id": "0e2ccb91",
   "metadata": {},
   "outputs": [],
   "source": [
    "def HHL(b, hamiltonian_evolution, n, precision):\n",
    "\n",
    "    qf, qpe_res, inv_res = HHL_encoding(b, hamiltonian_evolution, n, precision)\n",
    "\n",
    "    with invert():\n",
    "        QPE(qf, hamiltonian_evolution, target=qpe_res)\n",
    "        fake_inversion(qpe_res, res=inv_res)\n",
    "\n",
    "    # Reverse the endianness for compatibility with Hamiltonian simulation.\n",
    "    for i in jrange(qf.size // 2):\n",
    "        swap(qf[i], qf[n - i - 1])\n",
    "\n",
    "    return qf"
   ]
  },
  {
   "cell_type": "markdown",
   "id": "8084ca6b",
   "metadata": {},
   "source": [
    "## Applying HHL to solve systems of linear equations\n",
    "\n",
    "Let's try a first simple example. First, the matrix $A$ is repesented as a Pauli operator $H$ and the Hamiltonian evolution unitary $U=e^{itH}$ is obtained by [trotterization](../../reference/Operators/generated/qrisp.operators.qubit.QubitOperator.trotterization.rst) with 1 step \n",
    "(as the Pauli terms commute in this case). We choose $t=\\pi$ to ensure that $\\widetilde{\\lambda}_i=\\lambda_i t/2\\pi$ are of the form $2^{-k}$ for a positive integer $k$.\n",
    "\n",
    "This is enabled by the Qrisp's [QubitOperator](../../reference/Operators/QubitOperator.rst) class providing the tools to describe, optimize and efficiently simulate quantum Hamiltonians."
   ]
  },
  {
   "cell_type": "code",
   "execution_count": null,
   "id": "ceafaee3",
   "metadata": {},
   "outputs": [],
   "source": [
    "from qrisp.operators import QubitOperator\n",
    "import numpy as np\n",
    "\n",
    "A = np.array([[3 / 8, 1 / 8], [1 / 8, 3 / 8]])\n",
    "\n",
    "b = np.array([1, 1])\n",
    "\n",
    "H = QubitOperator.from_matrix(A).to_pauli()\n",
    "\n",
    "\n",
    "def U(qf):\n",
    "    # By default e^{-itH} is performed. Therefore, we set t=-pi.\n",
    "    H.trotterization()(qf, t=-np.pi, steps=1)"
   ]
  },
  {
   "cell_type": "markdown",
   "id": "da1a6f84",
   "metadata": {},
   "source": [
    "The [terminal_sampling](../../reference/Jasp/Simulation%20Tools/Terminal%20Sampling.rst) decorator performs a hybrid simulation and afterwards samples from the resulting quantum state. We convert the resulting measurement probabilities \n",
    "to amplitudes by appling the square root. Note that, minus signs of amplitudes cannot be recovered from measurement probabilities."
   ]
  },
  {
   "cell_type": "code",
   "execution_count": 6,
   "id": "e4303530",
   "metadata": {},
   "outputs": [
    {
     "name": "stdout",
     "output_type": "stream",
     "text": [
      "{0.0: 0.7071067811865476, 1.0: 0.7071067811865476}                                   \u001b[2K\n"
     ]
    }
   ],
   "source": [
    "@terminal_sampling\n",
    "def main():\n",
    "\n",
    "    x = HHL(tuple(b), U, 1, 3)\n",
    "    return x\n",
    "\n",
    "\n",
    "res_dict = main()\n",
    "\n",
    "for k, v in res_dict.items():\n",
    "    res_dict[k] = v**0.5\n",
    "\n",
    "print(res_dict)"
   ]
  },
  {
   "cell_type": "markdown",
   "id": "5ab066fe",
   "metadata": {},
   "source": [
    "Finally, let's compare to the classical result."
   ]
  },
  {
   "cell_type": "code",
   "execution_count": 7,
   "id": "f60f6c40",
   "metadata": {},
   "outputs": [
    {
     "name": "stdout",
     "output_type": "stream",
     "text": [
      "[0.70710678 0.70710678]\n"
     ]
    }
   ],
   "source": [
    "x = (np.linalg.inv(A) @ b) / np.linalg.norm(np.linalg.inv(A) @ b)\n",
    "print(x)"
   ]
  },
  {
   "cell_type": "markdown",
   "id": "85e16fe0",
   "metadata": {},
   "source": [
    "And voila! Now, let's tackle some more complicated examples! Next, we try some randomly generated matrices whose eigenvalues are inverse powers of 2, i.e. of the form $2^{-k}$ for $k<K$.\n",
    "\n",
    "To facilitate fast simulations, we restrict ourselves to $K=4$ (required `precision` of QPE) as the runtime of the HHL algorithm scales linearly in the inverse precision $\\epsilon=2^{-K}$ (and therefore exponentially in $K$)."
   ]
  },
  {
   "cell_type": "code",
   "execution_count": 8,
   "id": "f922ac48",
   "metadata": {},
   "outputs": [
    {
     "name": "stdout",
     "output_type": "stream",
     "text": [
      "Hermitian matrix A:\n",
      "[[ 0.27161849  0.04084016 -0.02994612 -0.01343795  0.00456208 -0.02389833\n",
      "  -0.03865614 -0.01028375]\n",
      " [ 0.04084016  0.35006745 -0.06348883  0.04375543  0.00892184 -0.05256036\n",
      "  -0.05969854 -0.03136835]\n",
      " [-0.02994612 -0.06348883  0.39879834  0.02868921 -0.05439778  0.0555282\n",
      "  -0.05704449  0.00337529]\n",
      " [-0.01343795  0.04375543  0.02868921  0.47607339 -0.01603151 -0.00157681\n",
      "   0.03290459 -0.0338936 ]\n",
      " [ 0.00456208  0.00892184 -0.05439778 -0.01603151  0.27284976 -0.01434681\n",
      "   0.04061657  0.00427224]\n",
      " [-0.02389833 -0.05256036  0.0555282  -0.00157681 -0.01434681  0.2826893\n",
      "   0.01797763  0.01245469]\n",
      " [-0.03865614 -0.05969854 -0.05704449  0.03290459  0.04061657  0.01797763\n",
      "   0.43479804  0.02610161]\n",
      " [-0.01028375 -0.03136835  0.00337529 -0.0338936   0.00427224  0.01245469\n",
      "   0.02610161  0.26310524]]\n",
      "Eigenvalues:\n",
      "[0.25 0.25 0.5  0.5  0.5  0.25 0.25 0.25]\n",
      "b:\n",
      "[0 0 0 1 0 0 1 1]\n"
     ]
    }
   ],
   "source": [
    "def hermitian_matrix_with_power_of_2_eigenvalues(n):\n",
    "    # Generate eigenvalues as inverse powers of 2.\n",
    "    eigenvalues = 1 / np.exp2(np.random.randint(1, 4, size=n))\n",
    "\n",
    "    # Generate a random unitary matrix.\n",
    "    Q, _ = np.linalg.qr(np.random.randn(n, n))\n",
    "\n",
    "    # Construct the Hermitian matrix.\n",
    "    A = Q @ np.diag(eigenvalues) @ Q.conj().T\n",
    "\n",
    "    return A\n",
    "\n",
    "\n",
    "# Example\n",
    "n = 3\n",
    "A = hermitian_matrix_with_power_of_2_eigenvalues(2**n)\n",
    "\n",
    "H = QubitOperator.from_matrix(A).to_pauli()\n",
    "\n",
    "\n",
    "def U(qf):\n",
    "    H.trotterization()(qf, t=-np.pi, steps=5)\n",
    "\n",
    "\n",
    "b = np.random.randint(0, 2, size=2**n)\n",
    "\n",
    "print(\"Hermitian matrix A:\")\n",
    "print(A)\n",
    "\n",
    "print(\"Eigenvalues:\")\n",
    "print(np.linalg.eigvals(A))\n",
    "\n",
    "print(\"b:\")\n",
    "print(b)"
   ]
  },
  {
   "cell_type": "code",
   "execution_count": 9,
   "id": "2c548c3e",
   "metadata": {},
   "outputs": [
    {
     "name": "stdout",
     "output_type": "stream",
     "text": [
      "                                                                                     \u001b[2K\r"
     ]
    },
    {
     "data": {
      "text/plain": [
       "array([0.09903807, 0.08063741, 0.03992062, 0.43921894, 0.04622294,\n",
       "       0.04614081, 0.40873337, 0.78603666])"
      ]
     },
     "execution_count": 9,
     "metadata": {},
     "output_type": "execute_result"
    }
   ],
   "source": [
    "@terminal_sampling\n",
    "def main():\n",
    "\n",
    "    x = HHL(tuple(b), U, n, 4)\n",
    "    return x\n",
    "\n",
    "\n",
    "res_dict = main()\n",
    "\n",
    "for k, v in res_dict.items():\n",
    "    res_dict[k] = v**0.5\n",
    "\n",
    "np.array([res_dict[key] for key in sorted(res_dict)])"
   ]
  },
  {
   "cell_type": "markdown",
   "id": "0eaec520",
   "metadata": {},
   "source": [
    "Let's compare to the classical solution:"
   ]
  },
  {
   "cell_type": "code",
   "execution_count": 10,
   "id": "1d6c3f7c",
   "metadata": {},
   "outputs": [
    {
     "name": "stdout",
     "output_type": "stream",
     "text": [
      "[ 0.09933223  0.0753401   0.03977885  0.43778338 -0.04595318 -0.04595032\n",
      "  0.40797335  0.7877531 ]\n"
     ]
    }
   ],
   "source": [
    "x = (np.linalg.inv(A) @ b) / np.linalg.norm(np.linalg.inv(A) @ b)\n",
    "print(x)"
   ]
  },
  {
   "cell_type": "markdown",
   "id": "a9e1d32b",
   "metadata": {},
   "source": [
    "Yup, close enough... That's all folks!\n",
    "\n",
    "## Step-by-step recap\n",
    "\n",
    "Let's rewind for a second, take a deep breath, and go through the steps and concepts you learned so far.\n",
    "\n",
    "Equipped with a theoretical introduction to HHL and outlining the steps required to perform this algorithm, you got to see how to first encode the first 4 steps and making use of the repeat until success feature of Jasp.\n",
    "Then, putting everything together, we combined the previously defined building blocks (read: Python functions) - the HHL_encoding and QPE - into a simple function. With a brief feature apperance of Hamiltonian simulation you then successfully managed to solve two systems of linear equations.\n",
    "\n",
    "In conclusion, let's take a moment to appreciate one last time how elegantly we can call the HHL algorithm:\n",
    "\n",
    "```\n",
    "x = HHL(b, hamiltonian_evolution, n, precision)\n",
    "```"
   ]
  },
  {
   "cell_type": "markdown",
   "id": "3af57a00",
   "metadata": {},
   "source": [
    "As qrispy as always!"
   ]
  },
  {
   "cell_type": "markdown",
   "id": "d778a6fc",
   "metadata": {},
   "source": [
    "## QJIT compilation with Catalyst\n",
    "\n",
    "The solution that we saw so far only ran within the Python-based Qrisp\n",
    "internal simulator, which doesn't have to care about silly things such\n",
    "as coherence time. Unfortunately, this is not (yet) the case for real\n",
    "quantum hardware so it is of paramount importance that the classical\n",
    "real-time computations (such as the while loop within the\n",
    "repeat-until-success steps) are executed as fast as possible. For this\n",
    "reason the QIR specification was created.\n",
    "\n",
    "QIR essentially embeds quantum aspects into\n",
    "[LLVM](https://llvm.org/docs/), which is the foundation of a lot of\n",
    "modern compiler infrastructure. This implies QIR based software stacks\n",
    "are able to integrate a large part of established classical software and\n",
    "also express real-time control structures. Read more about QIR at the\n",
    "[QIR Alliance website](https://www.qir-alliance.org/) and the [Advancing\n",
    "hybrid quantum--classical computation with real-time execution\n",
    "paper](https://www.frontiersin.org/journals/physics/articles/10.3389/fphy.2022.940293/full).\n",
    "\n",
    "Jasp has been built with a direct Catalyst integration implying Jasp\n",
    "programs can be converted to QIR via the Catalyst pipeline. This\n",
    "conversion is straightforward: You simply capture the Qrisp computation\n",
    "using the `make_jaspr` function and then call `to_qir`."
   ]
  },
  {
   "cell_type": "code",
   "execution_count": 11,
   "id": "4bf49e00",
   "metadata": {},
   "outputs": [
    {
     "name": "stdout",
     "output_type": "stream",
     "text": [
      "; ModuleID = 'LLVMDialectModule'                                                     \u001b[2K\n",
      "source_filename = \"LLVMDialectModule\"\n",
      "target datalayout = \"e-m:o-i64:64-i128:128-n32:64-S128-Fn32\"\n",
      "target triple = \"arm64-apple-darwin24.5.0\"\n",
      "\n",
      "@\"{'shots': 0, 'mcmc': False, 'num_burnin': 0, 'kernel_name': None}\" = internal constant [66 x i8] c\"{'shots': 0, 'mcmc': False, 'num_burnin': 0, 'kernel_name': None}\\00\"\n",
      "@LightningSimulator = internal constant [19 x i8] c\"LightningSimulator\\00\"\n",
      "@\"/opt/anaconda3/envs/qrisp/lib/python3.10/site-packages/pennylane_lightning/liblightning_qubit_catalyst.dylib\" = internal constant [109 x i8] c\"/opt/anaconda3/envs/qrisp/lib/python3.10/site-packages/pennylane_lightning/liblightning_qubit_catalyst.dylib\\00\"\n",
      "@__constant_xi64_3 = private constant i64 1\n",
      "@__constant_xi1 = private constant i1 false\n",
      "@__constant_xi64_2 = private constant i64 0\n",
      "@__constant_1024xi64 = private constant [1024 x i64] zeroinitializer\n",
      "@__constant_xi64_1 = private constant i64 30\n",
      "@__constant_xi64_0 = private constant i64 4\n",
      "@__constant_xi64 = private constant i64 3\n",
      "@__constant_30xi64 = private constant [30 x i64] [i64 30, i64 29, i64 28, i64 27, i64 26, i64 25, i64 24, i64 23, i64 22, i64 21, i64 20, i64 19, i64 18, i64 17, i64 16, i64 15, i64 14, i64 13, i64 12, i64 11, i64 10, i64 9, i64 8, i64 7, i64 6, i64 5, i64 4, i64 3, i64 2, i64 1]\n",
      "@__constant_xf64_34 = private constant double 0xBF8D02B4A78574FA\n",
      "@__constant_xf64_33 = private constant double 0xBFCBA5614317CB35\n",
      "@__constant_xf64_32 = private constant double 0x3F998A8430AEF7BA\n",
      "@__constant_xf64_31 = private constant double 0x3F9FCFE0804A8850\n",
      "@__constant_xf64_30 = private constant double 0x3F807D3742E47A2C\n",
      "@__constant_xf64_29 = private constant double 0xBF6B69C1DC783640\n",
      "@__constant_xf64_28 = private constant double 0xBF40F04DDF80EBDC\n",
      "@__constant_xf64_27 = private constant double 0xBF840EC9BEB08EA8\n",
      "@__constant_xf64_26 = private constant double 0xBF80EBD1A8EC99B0\n",
      "@__constant_xf64_25 = private constant double 0xBF8296060CFC377A\n",
      "@__constant_xf64_24 = private constant double 0x3F7234DFA\n"
     ]
    }
   ],
   "source": [
    "def main():\n",
    "    x = HHL(tuple(b), U, n, 4)\n",
    "    # Note that we have to return a classical value\n",
    "    # (in this case the measurement result of the\n",
    "    # quantum variable returned by the HHL algorithm)\n",
    "    # Within the above examples, we used the terminal_sampling\n",
    "    # decorator, which is a convenience feature and allows\n",
    "    # a much faster sampling procedure.\n",
    "    # The terminal_sampling decorator expects a function returning\n",
    "    # quantum variables, while most other evaluation modes require\n",
    "    # classical return values.\n",
    "    return measure(x)\n",
    "\n",
    "\n",
    "jaspr = make_jaspr(main)()\n",
    "qir_str = jaspr.to_qir()\n",
    "# Print only the first few lines - the whole string is very long.\n",
    "print(qir_str[:2000])"
   ]
  },
  {
   "cell_type": "markdown",
   "id": "ba037ef8",
   "metadata": {},
   "source": [
    "## The Catalyst runtime\n",
    "\n",
    "Jasp is also capable of targeting the Catalyst execution runtime\n",
    "(i.e., the Lightning simulator). There are, however, still some\n",
    "simulator features to be implemented on Jasp side, which prevents\n",
    "efficient sampling. We restrict the demonstration to the smaller\n",
    "examples from above to limit the overall execution time required.\n",
    "(Warning: The execution may take more than 15 minutes.)"
   ]
  },
  {
   "cell_type": "code",
   "execution_count": 12,
   "id": "286b2c59",
   "metadata": {},
   "outputs": [
    {
     "name": "stdout",
     "output_type": "stream",
     "text": [
      "[0.0, 0.0, 1.0, 0.0, 0.0]                                                            \u001b[2K\n"
     ]
    }
   ],
   "source": [
    "A = np.array([[3 / 8, 1 / 8], [1 / 8, 3 / 8]])\n",
    "\n",
    "b = np.array([1, 1])\n",
    "\n",
    "H = QubitOperator.from_matrix(A).to_pauli()\n",
    "\n",
    "\n",
    "# By default e^{-itH} is performed. Therefore, we set t=-pi.\n",
    "def U(qf):\n",
    "    H.trotterization()(qf, t=-np.pi, steps=1)\n",
    "\n",
    "\n",
    "@qjit\n",
    "def main():\n",
    "    x = HHL(tuple(b), U, 1, 3)\n",
    "\n",
    "    return measure(x)\n",
    "\n",
    "\n",
    "samples = []\n",
    "for i in range(5):\n",
    "    samples.append(float(main()))\n",
    "\n",
    "print(samples)"
   ]
  },
  {
   "cell_type": "markdown",
   "id": "330e2404",
   "metadata": {},
   "source": [
    "Scrolling back to the `terminal_sampling`\n",
    "cell, we see that the expected distribution is 50/50 between one and\n",
    "zero, which roughly agrees to the result of the previous cell and\n",
    "concludes this demo.\n",
    "\n",
    "## Conclusion\n",
    "\n",
    "In this demo, we have shown how to implement the HHL algorithm featuring\n",
    "classical real-time computations in the high-level language Qrisp. This\n",
    "algorithm is important in a variety of use cases such as solving\n",
    "differential equations, accelerating machine learning, and more\n",
    "generally, any task that involves solving linear systems of equations.\n",
    "Along the way, we have dipped into advanced concepts such as Linear\n",
    "Combination of Unitaries and Hamiltonian simulation. Moreover, we have\n",
    "demonstrated how Qrisp and Catalyst complement each other for\n",
    "translating a high-level implementation into low-level QIR."
   ]
  }
 ],
 "metadata": {
  "kernelspec": {
   "display_name": "qrisp",
   "language": "python",
   "name": "python3"
  },
  "language_info": {
   "codemirror_mode": {
    "name": "ipython",
    "version": 3
   },
   "file_extension": ".py",
   "mimetype": "text/x-python",
   "name": "python",
   "nbconvert_exporter": "python",
   "pygments_lexer": "ipython3",
   "version": "3.10.16"
  }
 },
 "nbformat": 4,
 "nbformat_minor": 5
}
