{
 "cells": [
  {
   "cell_type": "markdown",
   "id": "77417525",
   "metadata": {},
   "source": [
    "# Solving the Traveling Salesman Problem\n",
    "\n",
    "While the previous examples contained a complexity, that could in principle still be managed with a low level QuantumCircuit creation framework, our next problem contains much more conceptual complexity. We believe that this example clearly displays the neccessity of a higher-level language like Qrisp in order to tackle problems of similar or even higher complexity.\n",
    "\n",
    "The [traveling salesman problem](https://en.wikipedia.org/wiki/Travelling_salesman_problem) is a common example of an NP-hard problem. The task is to find the shortest round trip through a set of cities, which are described by a weighted graph. As shown in [this tutorial](https://qiskit.org/documentation/optimization/tutorials/06_examples_max_cut_and_tsp.html) the traveling salesman problem can be reformulated in terms of a [QUBO problem](https://en.wikipedia.org/wiki/Quadratic_unconstrained_binary_optimization) instance and then solved using either VQE or QAOA. A certain disadvantage of this approach is that the amount of binary variables grows as $\\mathcal{O}(n^2)$ where $n$ is the amount of cities.\n",
    "Another approach has been demonstrated [in this paper](https://arxiv.org/pdf/1805.10928.pdf) (which has also been implemented in a [Qiskit tutorial](https://qiskit.org/textbook/ch-paper-implementations/tsp.html)). The idea is to use quantum phase estimation on successive diagonal operators to retrieve the route distance. The amount of qubits here grows as $\\mathcal{O}(n log(n))$. Unfortunately the paper provides no details on how to perform the actual quantum search.\n",
    "\n",
    "We will now introduce a solution that resembles the second method including the quantum search. This involves creating a superposition of all possible routes (excluding those that repeat cities), assessing the distance of the routes, and determining whether the distance is below a certain threshold. The use of Qrisp's high-level language features simplifies many of these steps. Moreover, employing Qrisp not only streamlines the process, but also greatly improves resource efficiency: The presented code includes more than 10 distinct QuantumVariables distributed across 41 qubits which compiles into a QuantumCircuit that uses only 23 qubits."
   ]
  },
  {
   "cell_type": "code",
   "execution_count": 1,
   "id": "05f981be",
   "metadata": {},
   "outputs": [],
   "source": [
    "import numpy as np\n",
    "from qrisp import *\n",
    "\n",
    "city_amount = 4\n",
    "\n",
    "distance_matrix = (\n",
    "    np.array(\n",
    "        [\n",
    "            [0, 0.25, 0.125, 0.5],\n",
    "            [0.25, 0, 0.625, 0.375],\n",
    "            [0.125, 0.625, 0, 0.75],\n",
    "            [0.5, 0.375, 0.75, 0],\n",
    "        ]\n",
    "    )\n",
    "    / city_amount\n",
    ")"
   ]
  },
  {
   "cell_type": "markdown",
   "id": "42421cfb",
   "metadata": {},
   "source": [
    "## Setting up a superposition of all routes\n",
    "\n",
    "Unlike Qiskit's solution, we will not search the space of **every** combination of cities but only the permutations (ie. the combinations, which contain each city only once). To do this we need to set up a superposition, where only the permutations are present. We achieve this by bringing a set of QuantumVariables $s_0, s_1, .. s_k$, which we call ``perm_specifiers`` into uniform superposition. Each computational basis-state of these variables specifies a permutation. We then call a function ``eval_perm``, which creates a [QuantumArray](../../reference/Core/QuantumArray.rst) containing that permutation.\n",
    "\n",
    "$$U_{\\text{eval perm}} \\sum_{s_0 = 0}^n \\sum_{s_1 = 0}^n \\dotsc \\sum_{s_k = 0}^n \\left( \\bigotimes_{i = 0}^k \\ket{s_i} \\right) \\ket{0}\\\\\n",
    "= \\sum_{s_0 = 0}^n \\sum_{s_1 = 0}^n \\dotsc \\sum_{s_k = 0}^n \\left( \\bigotimes_{i = 0}^k \\ket{s_i} \\right) \\ket{\\text{eval perm}(s_0, s_1, \\dotsc s_n)}$$\n",
    "   \n",
    "The first task in creating the oracle is therefore to code the function ``eval_perm``. The idea here is to use \"reverse\" [selection sort](https://en.wikipedia.org/wiki/Selection_sort). What does that mean? A sorting algorithm is basically a procedure that reverts every permutation to its ordered state. The reversal of this procedure therefore transforms the ordered state (ie. (1,2,3..)) to a permutation, based on a set of variables. For selection sort this set of variables is the index of the minimum element of each iteration. This index specifies, which element is swapped to the first position. Swapping a QuantumArray entry specified by a [QuantumFloat](../../reference/Quantum%20Types/QuantumFloat.rst) to the first position can be achieved by inverting the [demux](../../reference/Primitives/demux.rst) function:"
   ]
  },
  {
   "cell_type": "code",
   "execution_count": 2,
   "id": "4df5380b",
   "metadata": {},
   "outputs": [],
   "source": [
    "# Receives a QuantumArray qa and a QuantumFloat index and\n",
    "# then swaps the entry specified by index to the first position of the QuantumArray\n",
    "def swap_to_front(qa, index):\n",
    "    with invert():\n",
    "        demux(qa[0], index, qa, permit_mismatching_size=True)"
   ]
  },
  {
   "cell_type": "markdown",
   "id": "b15daf12",
   "metadata": {},
   "source": [
    "We can now define ``eval_perm``:"
   ]
  },
  {
   "cell_type": "code",
   "execution_count": 3,
   "id": "55705f9c",
   "metadata": {},
   "outputs": [],
   "source": [
    "# Receives a list of QuantumFloats, which specify a permuation\n",
    "# and then returns QuantumArray holding that permutation\n",
    "def eval_perm(perm_specifiers):\n",
    "\n",
    "    # Specify the size of the QuantumFloats, which will represent the cities\n",
    "    city_specifier_size = int(np.ceil(np.log2(city_amount)))\n",
    "\n",
    "    # Create the QuantumArray, which will hold the permutations\n",
    "    qa = QuantumArray(QuantumFloat(city_specifier_size), city_amount)\n",
    "\n",
    "    # Initialize the QuantumArray with the identity permutation, ie. (0,1,2..)\n",
    "    qa[:] = np.arange(city_amount)\n",
    "\n",
    "    # Iteratively swap\n",
    "    for i in range(city_amount - 1):\n",
    "        swap_to_front(qa[i:], perm_specifiers[i])\n",
    "\n",
    "    return qa"
   ]
  },
  {
   "cell_type": "markdown",
   "id": "6ee02fdb",
   "metadata": {},
   "source": [
    "In this function we first determine, how big the QuantumFloat needs to be in order to represent every city. If we had $8 = 2^3$ cities, we would need 3 qubits. We then create a QuantumArray with qtype QuantumFloat and size ``city_amount``. This array will hold the resulting permutation, which is why we initialize the identity permutation. The final part of the function is to iterate through the array and swap the entry specified by ``perm_specifiers`` to the i-th entry.\n",
    "\n",
    "Before we test this function, we create another helper function, which creates the ``perm_specifiers``."
   ]
  },
  {
   "cell_type": "code",
   "execution_count": 4,
   "id": "8964bde5",
   "metadata": {},
   "outputs": [],
   "source": [
    "# Function that returns a list of QuantumFloats,\n",
    "# specifying the permutations (these will be in uniform superposition)\n",
    "def create_perm_specifiers(city_amount):\n",
    "\n",
    "    perm_specifiers = []\n",
    "\n",
    "    for i in range(city_amount - 1):\n",
    "\n",
    "        qf_size = int(np.ceil(np.log2(city_amount - i)))\n",
    "\n",
    "        temp_qf = QuantumFloat(qf_size)\n",
    "\n",
    "        perm_specifiers.append(temp_qf)\n",
    "\n",
    "    return perm_specifiers"
   ]
  },
  {
   "cell_type": "markdown",
   "id": "eaa75ada",
   "metadata": {},
   "source": [
    "Note that we dynamically redetermine the size of the QuantumFloat before each iteration. To understand why we can do this, consider the last iteration of ``eval_perm``. Here we treat a QuantumArray with only 2 entries. Therefore the last specifier only needs the size of a single qubit.\n",
    "\n",
    "We can now test our results so far:"
   ]
  },
  {
   "cell_type": "code",
   "execution_count": 5,
   "id": "68228ed1",
   "metadata": {},
   "outputs": [
    {
     "name": "stdout",
     "output_type": "stream",
     "text": [
      "                                                                                     \u001b[2K\r"
     ]
    },
    {
     "data": {
      "text/plain": [
       "{(0, 0, 0, OutcomeArray([0, 1, 2, 3])): 0.03125,\n",
       " (0, 0, 1, OutcomeArray([0, 1, 3, 2])): 0.03125,\n",
       " (0, 1, 0, OutcomeArray([0, 2, 1, 3])): 0.03125,\n",
       " (0, 1, 1, OutcomeArray([0, 2, 3, 1])): 0.03125,\n",
       " (0, 2, 0, OutcomeArray([0, 3, 2, 1])): 0.03125,\n",
       " (0, 2, 1, OutcomeArray([0, 3, 1, 2])): 0.03125,\n",
       " (0, 3, 0, OutcomeArray([0, 3, 1, 2])): 0.03125,\n",
       " (0, 3, 1, OutcomeArray([0, 3, 2, 1])): 0.03125,\n",
       " (1, 0, 0, OutcomeArray([1, 0, 3, 2])): 0.03125,\n",
       " (1, 0, 1, OutcomeArray([1, 0, 2, 3])): 0.03125,\n",
       " (1, 1, 0, OutcomeArray([1, 3, 0, 2])): 0.03125,\n",
       " (1, 1, 1, OutcomeArray([1, 3, 2, 0])): 0.03125,\n",
       " (1, 2, 0, OutcomeArray([1, 2, 3, 0])): 0.03125,\n",
       " (1, 2, 1, OutcomeArray([1, 2, 0, 3])): 0.03125,\n",
       " (1, 3, 0, OutcomeArray([1, 2, 0, 3])): 0.03125,\n",
       " (1, 3, 1, OutcomeArray([1, 2, 3, 0])): 0.03125,\n",
       " (2, 0, 0, OutcomeArray([2, 1, 0, 3])): 0.03125,\n",
       " (2, 0, 1, OutcomeArray([2, 1, 3, 0])): 0.03125,\n",
       " (2, 1, 0, OutcomeArray([2, 0, 1, 3])): 0.03125,\n",
       " (2, 1, 1, OutcomeArray([2, 0, 3, 1])): 0.03125,\n",
       " (2, 2, 0, OutcomeArray([2, 3, 0, 1])): 0.03125,\n",
       " (2, 2, 1, OutcomeArray([2, 3, 1, 0])): 0.03125,\n",
       " (2, 3, 0, OutcomeArray([2, 3, 1, 0])): 0.03125,\n",
       " (2, 3, 1, OutcomeArray([2, 3, 0, 1])): 0.03125,\n",
       " (3, 0, 0, OutcomeArray([3, 0, 1, 2])): 0.03125,\n",
       " (3, 0, 1, OutcomeArray([3, 0, 2, 1])): 0.03125,\n",
       " (3, 1, 0, OutcomeArray([3, 1, 0, 2])): 0.03125,\n",
       " (3, 1, 1, OutcomeArray([3, 1, 2, 0])): 0.03125,\n",
       " (3, 2, 0, OutcomeArray([3, 2, 1, 0])): 0.03125,\n",
       " (3, 2, 1, OutcomeArray([3, 2, 0, 1])): 0.03125,\n",
       " (3, 3, 0, OutcomeArray([3, 2, 0, 1])): 0.03125,\n",
       " (3, 3, 1, OutcomeArray([3, 2, 1, 0])): 0.03125}"
      ]
     },
     "execution_count": 5,
     "metadata": {},
     "output_type": "execute_result"
    }
   ],
   "source": [
    "perm_specifiers = create_perm_specifiers(city_amount)\n",
    "for qv in perm_specifiers:\n",
    "    h(qv)\n",
    "perm = eval_perm(perm_specifiers)\n",
    "multi_measurement(perm_specifiers + [perm])"
   ]
  },
  {
   "cell_type": "markdown",
   "id": "84d0f82c",
   "metadata": {},
   "source": [
    "In this code snipped, we first create the ``perm_specifiers`` and set them to uniform superposition by applying an H gate onto every participating qubit. We then call the ``eval_perm`` function to receive a QuantumArray containing the corresponding permutations. Finally we measure all of these variables together using the ``multi_measurement`` method. This function allows to measure multiple QuantumVariables at once and returns the results as a dictionary of tuples.\n",
    "\n",
    "The first 3 numbers within the keys of this dictionary are the permutation specifiers. We see that the 3rd number only varies between 0 and 1, which is due to the previously mentioned dynamic size determination. The values denoted with ``OutcomeArray`` denote the permutation. Note that these permutations indeed never contain the same city twice.\n",
    "\n",
    "## Evaluating route distance\n",
    "\n",
    "Now that we have a superposition of states describing every possible route, we have to evaluate the distance of them. \n",
    "\n",
    "On a classical computer, this function is rather simple"
   ]
  },
  {
   "cell_type": "code",
   "execution_count": 6,
   "id": "8e8e256d",
   "metadata": {},
   "outputs": [],
   "source": [
    "def cl_route_distance(itinerary):\n",
    "    res = 0\n",
    "    for i in range(city_amount):\n",
    "        res += distance_matrix[itinerary[i], itinerary[(i + 1) % city_amount]]\n",
    "    return res"
   ]
  },
  {
   "cell_type": "markdown",
   "id": "cbc08096",
   "metadata": {},
   "source": [
    "We present two approaches to perform this function on a quantum computer. One is based one quantum phase estimation and the other one on loading the distance matrix from a [QuantumDictionary](../../reference/Core/QuantumDictionary.rst).\n",
    "\n",
    "**Quantum Phase Estimation based evaluation**\n",
    "\n",
    "The idea here is to make use of [Quantum Phase Estimation](../../reference/Primitives/QPE.rst) while abusing the additive properties of successive phase functions.\n",
    "\n",
    "We realize these phase functions using the [as_hamiltonian](../../reference/generated/qrisp.as_hamiltonian.rst) decorator. This decorator turns Python functions of ordinary variables into functions of QuantumVariables. The effect of these functions is to apply the result of the original function as a phase onto the quantum state."
   ]
  },
  {
   "cell_type": "code",
   "execution_count": 7,
   "id": "6dc2d93d",
   "metadata": {},
   "outputs": [],
   "source": [
    "@as_hamiltonian\n",
    "def trip_distance(i, j, iter=1):\n",
    "    return distance_matrix[i, j] * 2 * np.pi * iter"
   ]
  },
  {
   "cell_type": "markdown",
   "id": "9e31c060",
   "metadata": {},
   "source": [
    "In mathematical terms, this function performs the following operation\n",
    "\n",
    "$$\\mathrm{U}_{\\text{trip distance}} \\ket{i} \\ket{j} = \\exp(i \\cdot \\text{trip distance}(i, j, \\text{iter})) \\ket{i} \\ket{j}$$\n",
    "   \n",
    "Therefore, having several of these applied iteratively yields the summed distance as a phase:\n",
    "\n",
    "$$\\mathrm{U}_{\\text{td}}\\mathrm{U}_{\\text{td}}\\mathrm{U}_{\\text{td}}\\mathrm{U}_{\\text{td}} \\ket{\\sigma(0)} \\ket{\\sigma(1)} \\ket{\\sigma(2)} \\ket{\\sigma(3)}\\\\\n",
    "= \\exp(i \\sum_{i = 0}^{3} \\text{trip distance}(\\sigma(i), \\sigma((i+1)\\%4), \\text{iter})) \\ket{\\sigma(0)} \\ket{\\sigma(1)} \\ket{\\sigma(2)} \\ket{\\sigma(3)}$$\n",
    "\n",
    "Where $\\sigma$ is the permutation.\n",
    "\n",
    "We set up the function for performing the successive phase application"
   ]
  },
  {
   "cell_type": "code",
   "execution_count": 8,
   "id": "1c02eac5",
   "metadata": {},
   "outputs": [],
   "source": [
    "def phase_apply_summed_distance(itinerary, iter=1):\n",
    "\n",
    "    n = len(itinerary)\n",
    "    for i in range(n):\n",
    "        trip_distance(itinerary[i], itinerary[(i + 1) % n], iter=iter)"
   ]
  },
  {
   "cell_type": "markdown",
   "id": "f6d683d4",
   "metadata": {},
   "source": [
    "This function can now be used as an input for the quantum phase estimation algorithm."
   ]
  },
  {
   "cell_type": "code",
   "execution_count": 9,
   "id": "fe72a477",
   "metadata": {},
   "outputs": [],
   "source": [
    "@lifted\n",
    "def qpe_calc_perm_travel_distance(itinerary, precision):\n",
    "\n",
    "    return QPE(\n",
    "        itinerary, phase_apply_summed_distance, precision=precision, iter_spec=True\n",
    "    )"
   ]
  },
  {
   "cell_type": "markdown",
   "id": "38deb135",
   "metadata": {},
   "source": [
    "Note the keyword ``iter_spec`` which indicates that, instead of repeatedly evaluating ``phase_apply_summed_distance``, the algorithm supplies the amount of iterations as the keyword ``iter``. This reduces the required resources significantly. Of further interest is the [lifted](../../reference/generated/qrisp.lifted.rst) decorator. This decorator tells the compiler that this function is ``qfree`` and permeable on its inputs and thus can be automatically uncomputed, even though it contains subroutines (QFT!) which aren't ``qfree``.\n",
    "\n",
    "To verify our results we evaluate our function on a randomly chosen itinerary and compare with the classical result:"
   ]
  },
  {
   "cell_type": "code",
   "execution_count": 10,
   "id": "91f472f6",
   "metadata": {},
   "outputs": [
    {
     "name": "stdout",
     "output_type": "stream",
     "text": [
      "                                                                                     \u001b[2K\r"
     ]
    },
    {
     "data": {
      "text/plain": [
       "np.float64(0.53125)"
      ]
     },
     "execution_count": 10,
     "metadata": {},
     "output_type": "execute_result"
    }
   ],
   "source": [
    "test_itinerary = QuantumArray(qtype=QuantumFloat(2), shape=(4))\n",
    "test_itinerary[:] = [2, 3, 0, 1]\n",
    "cl_route_distance(test_itinerary.most_likely())"
   ]
  },
  {
   "cell_type": "code",
   "execution_count": 11,
   "id": "357036fb",
   "metadata": {},
   "outputs": [
    {
     "name": "stdout",
     "output_type": "stream",
     "text": [
      "{0.53125: 1.0}                                                                       \u001b[2K\n"
     ]
    }
   ],
   "source": [
    "qpe_res = qpe_calc_perm_travel_distance(test_itinerary, 5)\n",
    "print(qpe_res)"
   ]
  },
  {
   "cell_type": "markdown",
   "id": "ac5a1def",
   "metadata": {},
   "source": [
    "**Quantum Dictionary based evaluation**\n",
    "\n",
    "Another approach to evaluate the route distance is to load the data of the distance matrix into the superposition using a QuantumDictionary."
   ]
  },
  {
   "cell_type": "code",
   "execution_count": 12,
   "id": "b8da2b1f",
   "metadata": {},
   "outputs": [],
   "source": [
    "def qdict_calc_perm_travel_distance(itinerary, precision):\n",
    "\n",
    "    # A QuantumFloat with n qubits and exponent -n\n",
    "    # can represent values between 0 and 1\n",
    "    res = QuantumFloat(precision, -precision)\n",
    "\n",
    "    # Fill QuantumDictionary with values\n",
    "    qd = QuantumDictionary(return_type=res)\n",
    "    for i in range(city_amount):\n",
    "        for j in range(city_amount):\n",
    "            qd[i, j] = distance_matrix[i, j]\n",
    "\n",
    "    # Evaluate result\n",
    "    for i in range(city_amount):\n",
    "        trip_distance = qd[itinerary[i], itinerary[(i + 1) % city_amount]]\n",
    "        res += trip_distance\n",
    "        trip_distance.uncompute(recompute=True)\n",
    "\n",
    "    return res"
   ]
  },
  {
   "cell_type": "markdown",
   "id": "0508c44d",
   "metadata": {},
   "source": [
    "Here, ``trip_distance`` is a QuantumFloat which contains the distance between the i-th city and its successor. This QuantumFloat then gets added to the result and afterwards uncomputed. The uncomputation allows the qubit manager to reuse the qubits of ``trip_distance`` after each iteration. \n",
    "\n",
    "> **Note**: The keyword ``recompute = True`` is a bit more involved: Since this function will be embedded into an oracle, the result will be uncomputed at some later point. There are now two ways to deal with the uncomputation of the ``trip_distance`` QuantumVariables inside the uncomputation of the ``res`` QuantumVariable.\n",
    ">\n",
    "> * Delay the uncomputation of ``trip_distance`` such that the information can be used to uncompute ``res``.\n",
    ">\n",
    "> * Recompute ``trip_distance`` and use the recomputed value for the uncomputation of ``res``.\n",
    ">\n",
    "> There is pros and cons for both strategies. By default the underlying algorithm of Qrisp's automatic uncomputation will always go for option 1. The main drawback of this approach is that delaying the uncomputation blocks the involved qubits for the time of the delay. This implies that the qubits of the ``trip_distance`` QuantumFloat from each iteration will be blocked, which is not the behavior we want. Much rather we would like to reuse the qubits of iteration 0 for iteration 1 and so on. Because of this, we set ``recompute = True`` which will perform the uncomputation immediately and automatically recompute if needed at a later point. All of this might seem complicated but simply setting ``recompute = True`` is enough - the rest is handled by the compiler. Once you reach the end of the tutorial, we invite you to compare the qubit count when setting this keyword to ``False``!\n",
    "\n",
    "We verify our function on our established example."
   ]
  },
  {
   "cell_type": "code",
   "execution_count": 13,
   "id": "801c102a",
   "metadata": {},
   "outputs": [
    {
     "name": "stdout",
     "output_type": "stream",
     "text": [
      "{0.53125: 1.0}                                                                       \u001b[2K\n"
     ]
    }
   ],
   "source": [
    "test_itinerary = QuantumArray(qtype=QuantumFloat(2), shape=(4))\n",
    "test_itinerary[:] = [2, 3, 0, 1]\n",
    "qdict_res = qdict_calc_perm_travel_distance(test_itinerary, 5)\n",
    "print(qdict_res)"
   ]
  },
  {
   "cell_type": "markdown",
   "id": "f05e8e34",
   "metadata": {},
   "source": [
    "We can now compare the required resources for both approaches. We do this by calling the [compile](../../reference/Core/generated/qrisp.QuantumSession.compile.rst) method of the [QuantumSession](../../reference/Core/QuantumSession.rst), the result is registered in. This method dynamically (de)allocates qubits and returns a [QuantumCircuit](../../reference/Circuit%20Manipulation/QuantumCircuit.rst)."
   ]
  },
  {
   "cell_type": "code",
   "execution_count": 14,
   "id": "13a95289",
   "metadata": {},
   "outputs": [
    {
     "data": {
      "text/plain": [
       "428"
      ]
     },
     "execution_count": 14,
     "metadata": {},
     "output_type": "execute_result"
    }
   ],
   "source": [
    "qdict_compiled_qc = qdict_res.qs.compile()\n",
    "qdict_compiled_qc.cnot_count()"
   ]
  },
  {
   "cell_type": "code",
   "execution_count": 15,
   "id": "c5444bed",
   "metadata": {},
   "outputs": [
    {
     "data": {
      "text/plain": [
       "299"
      ]
     },
     "execution_count": 15,
     "metadata": {},
     "output_type": "execute_result"
    }
   ],
   "source": [
    "qdict_compiled_qc.depth()"
   ]
  },
  {
   "cell_type": "code",
   "execution_count": 16,
   "id": "56eb009c",
   "metadata": {},
   "outputs": [
    {
     "data": {
      "text/plain": [
       "18"
      ]
     },
     "execution_count": 16,
     "metadata": {},
     "output_type": "execute_result"
    }
   ],
   "source": [
    "qdict_compiled_qc.num_qubits()"
   ]
  },
  {
   "cell_type": "code",
   "execution_count": 17,
   "id": "d066e659",
   "metadata": {},
   "outputs": [
    {
     "data": {
      "text/plain": [
       "626"
      ]
     },
     "execution_count": 17,
     "metadata": {},
     "output_type": "execute_result"
    }
   ],
   "source": [
    "qpe_compiled_qc = qpe_res.qs.compile()\n",
    "qpe_compiled_qc.cnot_count()"
   ]
  },
  {
   "cell_type": "code",
   "execution_count": 18,
   "id": "09f6a531",
   "metadata": {},
   "outputs": [
    {
     "data": {
      "text/plain": [
       "731"
      ]
     },
     "execution_count": 18,
     "metadata": {},
     "output_type": "execute_result"
    }
   ],
   "source": [
    "qpe_compiled_qc.depth()"
   ]
  },
  {
   "cell_type": "code",
   "execution_count": 19,
   "id": "068a1c21",
   "metadata": {},
   "outputs": [
    {
     "data": {
      "text/plain": [
       "13"
      ]
     },
     "execution_count": 19,
     "metadata": {},
     "output_type": "execute_result"
    }
   ],
   "source": [
    "qpe_compiled_qc.num_qubits()"
   ]
  },
  {
   "cell_type": "markdown",
   "id": "f84cd1e2",
   "metadata": {},
   "source": [
    "We see that the QuantumDictionary based function is about twice as fast, takes a comparable amount of CNOT gates and needs about 50% more qubits. The qubit overhead is due to the fact that during each iteration, the QuantumFloat ``trip_distance`` is allocated and eventually uncomputed. These extra qubits are not present in the QPE based approach.\n",
    "\n",
    "## Creating the oracle\n",
    "\n",
    "The next step is to create the oracle function. For this, we put everything together we have create so far:"
   ]
  },
  {
   "cell_type": "code",
   "execution_count": 20,
   "id": "f4e37ba1",
   "metadata": {},
   "outputs": [],
   "source": [
    "from qrisp import auto_uncompute, z\n",
    "\n",
    "\n",
    "@auto_uncompute\n",
    "def eval_distance_threshold(perm_specifiers, precision, threshold, method=\"qpe\"):\n",
    "\n",
    "    itinerary = eval_perm(perm_specifiers)\n",
    "\n",
    "    if method == \"qdict\":\n",
    "        distance = qdict_calc_perm_travel_distance(itinerary, precision)\n",
    "    elif method == \"qpe\":\n",
    "        distance = qpe_calc_perm_travel_distance(itinerary, precision)\n",
    "    else:\n",
    "        raise Exception(f\"Don't know method {method}\")\n",
    "\n",
    "    is_below_treshold = distance <= threshold\n",
    "\n",
    "    z(is_below_treshold)"
   ]
  },
  {
   "cell_type": "markdown",
   "id": "18690882",
   "metadata": {},
   "source": [
    "The line ``distance <= threshold`` returns a [QuantumBool](../../reference/Quantum%20Types/QuantumBool.rst) that is in the state $\\ket{\\text{True}}$ if the condition is met. The last line applies a z-gate, to perform the necessary phase flip. \n",
    "Note the ``auto_uncompute`` decorator, which all local QuantumVariables that have been created inside this function. \n",
    "\n",
    "\n",
    "## Evaluating the oracle\n",
    "\n",
    "Finally, we can evaluate the oracle and find a solution to our pet problem. We do this by calling the prebuild [Grover's algorithm](../../reference/Algorithms/Grover.rst) function."
   ]
  },
  {
   "cell_type": "code",
   "execution_count": 21,
   "id": "2dbc002c",
   "metadata": {},
   "outputs": [
    {
     "name": "stdout",
     "output_type": "stream",
     "text": [
      "                                                                                     \u001b[2K\r"
     ]
    },
    {
     "data": {
      "text/plain": [
       "{(0, 0, 1): 0.09570338281353126,\n",
       " (0, 1, 1): 0.09570338281353126,\n",
       " (1, 0, 1): 0.09570338281353126,\n",
       " (1, 1, 1): 0.09570338281353126,\n",
       " (2, 1, 0): 0.09570338281353126,\n",
       " (2, 2, 1): 0.09570338281353126,\n",
       " (2, 3, 0): 0.09570338281353126,\n",
       " (3, 1, 0): 0.09570338281353126,\n",
       " (3, 2, 1): 0.09570338281353126,\n",
       " (3, 3, 0): 0.09570338281353126,\n",
       " (0, 0, 0): 0.0019530078120312485,\n",
       " (0, 1, 0): 0.0019530078120312485,\n",
       " (0, 2, 0): 0.0019530078120312485,\n",
       " (0, 2, 1): 0.0019530078120312485,\n",
       " (0, 3, 0): 0.0019530078120312485,\n",
       " (0, 3, 1): 0.0019530078120312485,\n",
       " (1, 0, 0): 0.0019530078120312485,\n",
       " (1, 1, 0): 0.0019530078120312485,\n",
       " (1, 2, 0): 0.0019530078120312485,\n",
       " (1, 2, 1): 0.0019530078120312485,\n",
       " (1, 3, 0): 0.0019530078120312485,\n",
       " (1, 3, 1): 0.0019530078120312485,\n",
       " (2, 0, 0): 0.0019530078120312485,\n",
       " (2, 0, 1): 0.0019530078120312485,\n",
       " (2, 1, 1): 0.0019530078120312485,\n",
       " (2, 2, 0): 0.0019530078120312485,\n",
       " (2, 3, 1): 0.0019530078120312485,\n",
       " (3, 0, 0): 0.0019530078120312485,\n",
       " (3, 0, 1): 0.0019530078120312485,\n",
       " (3, 1, 1): 0.0019530078120312485,\n",
       " (3, 2, 0): 0.0019530078120312485,\n",
       " (3, 3, 1): 0.0019530078120312485}"
      ]
     },
     "execution_count": 21,
     "metadata": {},
     "output_type": "execute_result"
    }
   ],
   "source": [
    "# Create permutation specifiers\n",
    "perm_specifiers = create_perm_specifiers(city_amount)\n",
    "\n",
    "from math import factorial\n",
    "\n",
    "# Determine an estimate for the amount of winner states\n",
    "# (Average number of computational basis states per permutation) * (4 cyclic shifts)*(2 directions)\n",
    "winner_state_amount = (\n",
    "    (2 ** sum([qv.size for qv in perm_specifiers]) / factorial(city_amount))\n",
    "    * city_amount\n",
    "    * 2\n",
    ")\n",
    "\n",
    "from qrisp.grover import grovers_alg\n",
    "\n",
    "# Evaluate Grovers algorithm\n",
    "grovers_alg(\n",
    "    perm_specifiers,  # Permutation specifiers\n",
    "    eval_distance_threshold,  # Oracle function\n",
    "    kwargs={\n",
    "        \"threshold\": 0.4,\n",
    "        \"precision\": 5,\n",
    "        \"method\": \"qpe\",\n",
    "    },  # Specify the keyword arguments for the Oracle\n",
    "    winner_state_amount=winner_state_amount,\n",
    ")  # Specify the estimated amount of winners\n",
    "\n",
    "# Retrieve measurement\n",
    "res = multi_measurement(perm_specifiers)\n",
    "res"
   ]
  },
  {
   "cell_type": "markdown",
   "id": "1a6f9f0a",
   "metadata": {},
   "source": [
    "We see that we have 10 states that have been amplified. This is no surprise as different permutations can represent the same route (and therefore result in the same travel distance). Indeed our estimate for the amount of winner states was pretty good:"
   ]
  },
  {
   "cell_type": "code",
   "execution_count": 22,
   "id": "a3ec2b55",
   "metadata": {},
   "outputs": [
    {
     "data": {
      "text/plain": [
       "10.666666666666666"
      ]
     },
     "execution_count": 22,
     "metadata": {},
     "output_type": "execute_result"
    }
   ],
   "source": [
    "winner_state_amount"
   ]
  },
  {
   "cell_type": "markdown",
   "id": "53ca1328",
   "metadata": {},
   "source": [
    "To extract the final solution, we need to evaluate the permuation given by one of the solutions for the ``permutation_specifiers``. A resource efficient possibility would be to recreate the algorithm classically, however we will just evaluate it once more on the simulator"
   ]
  },
  {
   "cell_type": "code",
   "execution_count": 23,
   "id": "89c70dc7",
   "metadata": {},
   "outputs": [],
   "source": [
    "winning_specifiers = create_perm_specifiers(city_amount)\n",
    "\n",
    "winning_specifiers[0][:] = 0\n",
    "winning_specifiers[1][:] = 0\n",
    "winning_specifiers[2][:] = 1\n",
    "\n",
    "winning_itinerary = eval_perm(winning_specifiers)"
   ]
  },
  {
   "cell_type": "code",
   "execution_count": 24,
   "id": "fbefa46e",
   "metadata": {},
   "outputs": [
    {
     "name": "stdout",
     "output_type": "stream",
     "text": [
      "                                                                                     \u001b[2K\r"
     ]
    },
    {
     "data": {
      "text/plain": [
       "OutcomeArray([0, 1, 3, 2])"
      ]
     },
     "execution_count": 24,
     "metadata": {},
     "output_type": "execute_result"
    }
   ],
   "source": [
    "winning_itinerary.most_likely()"
   ]
  },
  {
   "cell_type": "markdown",
   "id": "4fb89d9f",
   "metadata": {},
   "source": [
    "## Benchmarking Performance\n",
    "\n",
    "Last but not least, we evaluate some performance indicators. For this, we again compile the QuantumSession to a QuantumCircuit."
   ]
  },
  {
   "cell_type": "code",
   "execution_count": 25,
   "id": "946cf836",
   "metadata": {},
   "outputs": [
    {
     "data": {
      "text/plain": [
       "1989"
      ]
     },
     "execution_count": 25,
     "metadata": {},
     "output_type": "execute_result"
    }
   ],
   "source": [
    "qpe_compiled_qc = perm_specifiers[0].qs.compile()\n",
    "qpe_compiled_qc.depth()"
   ]
  },
  {
   "cell_type": "code",
   "execution_count": 26,
   "id": "aea330d7",
   "metadata": {},
   "outputs": [
    {
     "data": {
      "text/plain": [
       "1804"
      ]
     },
     "execution_count": 26,
     "metadata": {},
     "output_type": "execute_result"
    }
   ],
   "source": [
    "qpe_compiled_qc.cnot_count()"
   ]
  },
  {
   "cell_type": "code",
   "execution_count": 27,
   "id": "7603ae94",
   "metadata": {},
   "outputs": [
    {
     "data": {
      "text/plain": [
       "18"
      ]
     },
     "execution_count": 27,
     "metadata": {},
     "output_type": "execute_result"
    }
   ],
   "source": [
    "qdict_compiled_qc.num_qubits()"
   ]
  },
  {
   "cell_type": "markdown",
   "id": "2e02542b",
   "metadata": {},
   "source": [
    "These are the values for the quantum phase estimation based approach. To evaluate the QuantumDictionary based algorithm, we set ``\"method\" : \"qdict\"`` in the ``grovers_alg`` call."
   ]
  },
  {
   "cell_type": "code",
   "execution_count": 28,
   "id": "e67057f0",
   "metadata": {},
   "outputs": [
    {
     "data": {
      "text/plain": [
       "1989"
      ]
     },
     "execution_count": 28,
     "metadata": {},
     "output_type": "execute_result"
    }
   ],
   "source": [
    "qdict_compiled_qc = perm_specifiers[0].qs.compile()\n",
    "qdict_compiled_qc.depth()"
   ]
  },
  {
   "cell_type": "code",
   "execution_count": 29,
   "id": "e575c4ce",
   "metadata": {},
   "outputs": [
    {
     "data": {
      "text/plain": [
       "1804"
      ]
     },
     "execution_count": 29,
     "metadata": {},
     "output_type": "execute_result"
    }
   ],
   "source": [
    "qdict_compiled_qc.cnot_count()"
   ]
  },
  {
   "cell_type": "code",
   "execution_count": 30,
   "id": "eecb88b8",
   "metadata": {},
   "outputs": [
    {
     "data": {
      "text/plain": [
       "21"
      ]
     },
     "execution_count": 30,
     "metadata": {},
     "output_type": "execute_result"
    }
   ],
   "source": [
    "qdict_compiled_qc.num_qubits()"
   ]
  },
  {
   "cell_type": "markdown",
   "id": "25da4a33",
   "metadata": {},
   "source": [
    "If you are interested in ways to improve the performance even further, we recommend checking the [efficient solution for the TSP](../../reference/Examples/EfficientTSP.rst). This solution slightly tweeks the one presented here but roughly halves the required resources."
   ]
  }
 ],
 "metadata": {
  "kernelspec": {
   "display_name": "qrisp",
   "language": "python",
   "name": "python3"
  },
  "language_info": {
   "codemirror_mode": {
    "name": "ipython",
    "version": 3
   },
   "file_extension": ".py",
   "mimetype": "text/x-python",
   "name": "python",
   "nbconvert_exporter": "python",
   "pygments_lexer": "ipython3",
   "version": "3.10.16"
  }
 },
 "nbformat": 4,
 "nbformat_minor": 5
}
