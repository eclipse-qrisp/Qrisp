{
 "cells": [
  {
   "cell_type": "markdown",
   "id": "091df914",
   "metadata": {},
   "source": [
    "# How to think in Jasp\n",
    "\n",
    "## What is Jasp and why do we need it?\n",
    "\n",
    "Jasp is a submodule of Qrisp that allows you to scale up your Qrisp code to to practically relevant problem sizes. The fundamental problem that many Python based quantum frameworks face is that the Python interpreter is slow compared to what is possible with compiled languages. As an example:"
   ]
  },
  {
   "cell_type": "code",
   "execution_count": 1,
   "id": "2e7faa7f",
   "metadata": {},
   "outputs": [],
   "source": [
    "from qrisp import *\n",
    "\n",
    "N = 19326409253\n",
    "qm = QuantumModulus(N, inpl_adder=gidney_adder)\n",
    "qm[:] = 293587334\n",
    "qm *= 2345747462"
   ]
  },
  {
   "cell_type": "markdown",
   "id": "47154a84",
   "metadata": {},
   "source": [
    "This snippet demonstrates a 35 bit modular in-place multiplication which already takes ~20 seconds to compile. Considering typical RSA key sizes contain up to 2000 bits, compiling a circuit addressing practically relevant problem scales therefore seems unlikely. Note that this issue is not restricted to Qrisp. We can also observe the same in Qiskit."
   ]
  },
  {
   "cell_type": "code",
   "execution_count": 2,
   "id": "22167c8d",
   "metadata": {},
   "outputs": [],
   "source": [
    "from qiskit.circuit.library import RGQFTMultiplier\n",
    "\n",
    "n = 50\n",
    "multiplication_circuit = RGQFTMultiplier(n, 2 * n)"
   ]
  },
  {
   "cell_type": "markdown",
   "id": "a7465fd4",
   "metadata": {},
   "source": [
    "This snippet compiles a 50 bit (non-modular) multiplication circuit using Qiskit and also takes approximately 20 seconds. Using classical compilation infrastructure, a classical 64 bit multiplication can be compiled within micro-seconds, which hints at the large disparity in compilation speed.\n",
    "\n",
    "### Real-time computations\n",
    "\n",
    "Apart from the compilation scaling issues, many frameworks (Qrisp included) suffer from the inability to integrate classical real-time computations. What is a real-time computation? A classical computation that happens during the quantum computation, while the quantum computer stays in superposition. This computation has to happen much faster than the coherence time, so performing that computation by waiting for the Python interpreter is impossible. Real-time computations are essential for many techniques in error correction, such as [syndrom decoding](https://thesis.library.caltech.edu/2900/2/THESIS.pdf) or [magic state distillation](https://journals.aps.org/prxquantum/abstract/10.1103/PRXQuantum.2.020341). On the algorithmic level, real-time computations also become more popular since they are so much cheaper than the quantum equivalent. Examples are [Gidney's adder](https://arxiv.org/abs/1709.06648) or repeat until success protocols like [HHL](https://arxiv.org/abs/0811.3171).\n",
    "\n",
    "Within Qiskit, real-time computations are in principle achievable by preparing a look-up table using the [c_if](https://docs.quantum.ibm.com/api/qiskit/qiskit.circuit.Instruction#c_if) feature. Next to the clunkiness there are however scalability questions: For an error correction code that can extract $2^{100}$ possible syndroms, a single round of error correction would require a look-up table with $2^{100}$ entries, which is clearly not feasible. The [OpenQASM 3 specification](https://arxiv.org/abs/2104.14722) elaborates the importance of real-time computations and defines the ``extern`` keyword. So far however neither Qiskit nor the OpenQASM demonstrate how the ``extern`` keyword can be used for executing classically established functions.\n",
    "\n",
    "A more promising approach is the [QIR specification](https://www.qir-alliance.org/) which integrates quantum related data-types into the widely used [LLVM IR](https://en.wikipedia.org/wiki/LLVM). Compiling QIR not only has the advantage of incorporating a wide ecosystem of classically established code but also leveraging highly optimized compilation libraries.\n",
    "\n",
    "With Jasp, we therefore aim to tackle both problems - compilation speed and lack of real-time computations - by targeting the established LLVM toolchain.\n",
    "\n",
    "Ideally we want you to keep all your Qrisp code the same and simply enable the Jasp.\n",
    "\n",
    "> **Note:**\n",
    ">\n",
    "> Does this make \"regular\" Qrisp old news? Absolutely not! \n",
    ">\n",
    "> As with many Pythonic ``jit`` compilation approaches, a vitally important feature is to execute the code in non-jitted mode for development/maintainance. This is because code introspection is much harder in ``jit`` mode since it is difficult to investigate intermediate results for bug-fixing purposes. The same applies to Jasp: Most Jasp and Qrisp code is interoperable, such that it is very easy to identify bugs using Qrisp mode. The relationship between the two compilation pipelines is therefore:\n",
    ">\n",
    "> | **Qrisp** | **Jasp** |\n",
    "> |---|---|\n",
    "> | Development | Scalability |\n",
    "> | Maintainance | Compilation performance |\n",
    "> | Fast prototyping | Real-time computation embedding |\n",
    "\n",
    "### What is Jax?\n",
    "\n",
    "To understand how to fully leverage the Jasp module, you need a basic understanding of [Jax](https://jax.readthedocs.io/en/latest/notebooks/thinking_in_jax.html). Jax is a framework developed by Google, which aims to address a similar set of problems as described above but in the context of machine learning. Essentially Jax makes Python code for ML applications run faster, by leveraging a mechanism called tracing. Tracing means that instead of executing a Python function with actual values, Jax sends so called Tracers through the function, which keep a \"record\" of what would have happened to the values. This record is a mini functional programming language called [Jaxpr](https://docs.jax.dev/en/latest/jaxpr.html). Creating a Jaxprs can be achieved by calling the ``make_jaxpr`` function."
   ]
  },
  {
   "cell_type": "code",
   "execution_count": 3,
   "id": "2435d8bc",
   "metadata": {},
   "outputs": [
    {
     "name": "stdout",
     "output_type": "stream",
     "text": [
      "{ \u001b[34m\u001b[22m\u001b[1mlambda \u001b[39m\u001b[22m\u001b[22m; a\u001b[35m:f64[3]\u001b[39m. \u001b[34m\u001b[22m\u001b[1mlet\n",
      "    \u001b[39m\u001b[22m\u001b[22mb\u001b[35m:f64[3]\u001b[39m = add a 2.0\n",
      "    c\u001b[35m:f64[3]\u001b[39m = sin b\n",
      "    d\u001b[35m:f64[3]\u001b[39m = mul b c\n",
      "  \u001b[34m\u001b[22m\u001b[1min \u001b[39m\u001b[22m\u001b[22m(d,) }\n"
     ]
    }
   ],
   "source": [
    "import jax.numpy as jnp\n",
    "\n",
    "\n",
    "def test_f(x):\n",
    "    y = x + 2\n",
    "    z = jnp.sin(y)\n",
    "    return y * z\n",
    "\n",
    "\n",
    "from jax import make_jaxpr\n",
    "\n",
    "x = jnp.array([1.0, 2.0, 3.0])\n",
    "print(make_jaxpr(test_f)(x))"
   ]
  },
  {
   "cell_type": "markdown",
   "id": "d28dfa54",
   "metadata": {},
   "source": [
    "Note the ``jax.numpy`` import! This module is a ``numpy`` clone that is Jax traceable. This module is particularly helpful for Jasp algorithms, since it exposes the power of numpy for classical real-time computations in the middle of a quantum algorithm.\n",
    "\n",
    "Jax not only allows us to represent (classical) computations in a more simplified and easier-to-process form but also provides a [matured ecosystem](https://www.educative.io/courses/intro-jax-deep-learning/awesome-jax-libraries) of libraries. \n",
    "\n",
    "### What is Jasp?\n",
    "\n",
    "Jasp is a module that provides Jax primitives for Qrisp syntax and therefore makes Qrisp Jax-traceable. How does this work in practice? The central class here is the [Jaspr](../../reference/Jasp/Jaspr.rst), which is a subtype of the ClosedJaxpr. Similarly to ClosedJaxprs, Jasprs can be created using the ``make_jaspr`` function."
   ]
  },
  {
   "cell_type": "code",
   "execution_count": 4,
   "id": "354c9f02",
   "metadata": {},
   "outputs": [
    {
     "name": "stdout",
     "output_type": "stream",
     "text": [
      "{ \u001b[34m\u001b[22m\u001b[1mlambda \u001b[39m\u001b[22m\u001b[22m; a\u001b[35m:i64[]\u001b[39m b\u001b[35m:QuantumCircuit\u001b[39m. \u001b[34m\u001b[22m\u001b[1mlet\n",
      "    \u001b[39m\u001b[22m\u001b[22mc\u001b[35m:QubitArray\u001b[39m d\u001b[35m:QuantumCircuit\u001b[39m = jasp.create_qubits a b\n",
      "    e\u001b[35m:Qubit\u001b[39m = jasp.get_qubit c 0\n",
      "    f\u001b[35m:QuantumCircuit\u001b[39m = jasp.h e d\n",
      "    g\u001b[35m:Qubit\u001b[39m = jasp.get_qubit c 1\n",
      "    h\u001b[35m:QuantumCircuit\u001b[39m = jasp.cx e g f\n",
      "    i\u001b[35m:i64[]\u001b[39m j\u001b[35m:QuantumCircuit\u001b[39m = jasp.measure c h\n",
      "    k\u001b[35m:QuantumCircuit\u001b[39m = jasp.reset c j\n",
      "    l\u001b[35m:QuantumCircuit\u001b[39m = jasp.delete_qubits c k\n",
      "  \u001b[34m\u001b[22m\u001b[1min \u001b[39m\u001b[22m\u001b[22m(i, l) }\n"
     ]
    }
   ],
   "source": [
    "from qrisp import *\n",
    "\n",
    "\n",
    "def main(i):\n",
    "    qf = QuantumFloat(i)\n",
    "    h(qf[0])\n",
    "    cx(qf[0], qf[1])\n",
    "\n",
    "    meas_float = measure(qf)\n",
    "\n",
    "    return meas_float\n",
    "\n",
    "\n",
    "jaspr = make_jaspr(main)(5)\n",
    "\n",
    "print(jaspr)"
   ]
  },
  {
   "cell_type": "markdown",
   "id": "021a32d1",
   "metadata": {},
   "source": [
    "Jasp programs can be executed with the Jasp interpreter by calling them like a function"
   ]
  },
  {
   "cell_type": "code",
   "execution_count": 5,
   "id": "986419ec",
   "metadata": {},
   "outputs": [
    {
     "name": "stdout",
     "output_type": "stream",
     "text": [
      "3                                                                                    \u001b[2K\n"
     ]
    }
   ],
   "source": [
    "print(jaspr(5))\n",
    "# Yields: 0 or 3"
   ]
  },
  {
   "cell_type": "markdown",
   "id": "47757d11",
   "metadata": {},
   "source": [
    "A quicker way to do this is to use the jaspify decorator. This decorator automatically transforms the function into a Jaspr and calls the simulator"
   ]
  },
  {
   "cell_type": "code",
   "execution_count": 6,
   "id": "f3e46987",
   "metadata": {},
   "outputs": [
    {
     "name": "stdout",
     "output_type": "stream",
     "text": [
      "3                                                                                    \u001b[2K\n"
     ]
    }
   ],
   "source": [
    "@jaspify\n",
    "def main(i):\n",
    "    qf = QuantumFloat(i)\n",
    "    h(qf[0])\n",
    "    cx(qf[0], qf[1])\n",
    "\n",
    "    meas_float = measure(qf)\n",
    "\n",
    "    return meas_float\n",
    "\n",
    "\n",
    "print(main(5))\n",
    "# Yields: 0 or 3"
   ]
  },
  {
   "cell_type": "markdown",
   "id": "ff8cf814",
   "metadata": {},
   "source": [
    "Jasp programs can be compiled to [QIR](https://github.com/qir-alliance/qir-spec), which is one of the most popular low-level representations for quantum computers. This possible because Jasp has a deeply integrated support for [Catalyst](https://docs.pennylane.ai/projects/catalyst/en/stable/index.html). In order to compile to QIR please install the package (only on Mac & Linux)."
   ]
  },
  {
   "cell_type": "code",
   "execution_count": 7,
   "id": "6d306758",
   "metadata": {},
   "outputs": [],
   "source": [
    "try:\n",
    "    import catalyst\n",
    "except:\n",
    "    !pip install pennylane-catalyst"
   ]
  },
  {
   "cell_type": "code",
   "execution_count": 8,
   "id": "2402190e",
   "metadata": {},
   "outputs": [
    {
     "name": "stdout",
     "output_type": "stream",
     "text": [
      "; ModuleID = 'LLVMDialectModule'\n",
      "source_filename = \"LLVMDialectModule\"\n",
      "target datalayout = \"e-m:o-p270:32:32-p271:32:32-p272:64:64-i64:64-i128:128-n32:64-S128-Fn32\"\n",
      "target triple = \"arm64-apple-darwin24.5.0\"\n",
      "\n",
      "@\"{'mcmc': False, 'num_burnin': 0, 'kernel_name': None}\" = internal constant [54 x i8] c\"{'mcmc': False, 'num_burnin': 0, 'kernel_name': None}\\00\"\n",
      "@LightningSimulator = internal constant [19 x i8] c\"LightningSimulator\\00\"\n",
      "@\"/Qrisp/.venv/lib/python3.11/site-packages/pennylane_lightning/liblightning_qubit_catalyst.dylib\" = internal constant [110 x i8] c\"/Qrisp/.venv/lib/python3.11/site-packages/pennylane_lightning/liblightning_qubit_catalyst.dylib\\00\"\n",
      "@__constant_1024xi64 = private constant [1024 x i64] zeroinitializer, align 64\n",
      "@__constant_30xi64 = private constant [30 x i64] [i64 30, i64 29, i64 28, i64 27, i64 26, i64 25, i64 24, i64 23, i64 22, i64 21, i64 20, i64 19, i64 18, i64 17, i64 16, i64 15, i64 14, i64 13, i64 12, i64 11, i64 10, i64 9, i64 8, i64 7, i64 6, i64 5, i64 4, i64 3, i64 2, i64 1], align 64\n",
      "\n",
      "declare void @__catalyst__rt__finalize()\n",
      "\n",
      "declare void @__catalyst__rt__initialize(ptr)\n",
      "\n",
      "declare void @__catalyst__qis__PauliX(ptr, ptr)\n",
      "\n",
      "declare ptr @__catalyst__qis__Measure(ptr, i32)\n",
      "\n",
      "declare void @__catalyst__qis__CNOT(ptr, ptr, ptr)\n",
      "\n",
      "declare void @__catalyst__qis__Hadamard(ptr, ptr)\n",
      "\n",
      "declare ptr @__catalyst__rt__array_get_element_ptr_1d(ptr, i64)\n",
      "\n",
      "declare ptr @__catalyst__rt__qubit_allocate_array(i64)\n",
      "\n",
      "declare void @__catalyst__rt__device_init(ptr, ptr, ptr, i64, i1)\n",
      "\n",
      "declare void @_mlir_memref_to_llvm_free(ptr)\n",
      "\n",
      "declare ptr @_mlir_memref_to_llvm_alloc(i64)\n",
      "\n",
      "define { ptr, ptr, i64 } @jit_jaspr_function(ptr %0, ptr %1, i64 %2) {\n",
      "  call void @__catalyst__rt__device_init(ptr @\"/Qrisp/.venv/lib/python3.11/site-packages/pennylane_lightning/liblightning_qubit_catalyst.dylib\", ptr @LightningSimulator, ptr @\"{'mcmc': False, 'num_burnin': 0, 'kernel_name': None}\", i64 0, i1 true)\n",
      "  %4 = call ptr @__catalyst__rt__qubit_allocate_array(i64 20)\n",
      "  %5 = load i64, ptr %1, align 4\n",
      "  %6 = call ptr @_mlir_memref_to_llvm_alloc(i64 8256)\n",
      "  %7 = ptrtoint ptr %6 to i64\n",
      "  %8 = add i64 %7, 63\n",
      "  %9 = urem i64 %8, 64\n",
      "  %10 = sub i64 %8, %9\n",
      "  %11 = inttoptr i64 %10 to ptr\n",
      "  call void @llvm.memcpy.p0.p0.i64(ptr %11, ptr @__constant_1024xi64, i64 8192, i1 false)\n",
      "  %12 = call ptr @_mlir_memref_to_llvm_alloc(i64 8192)\n",
      "  %13 = insertvalue { ptr, ptr, i64, [1 x i64], [1 x i64] } poison, ptr %12, 0\n",
      "  %14 = insertvalue { ptr, ptr, \n"
     ]
    }
   ],
   "source": [
    "qir_string = jaspr.to_qir()\n",
    "print(qir_string[:2500])"
   ]
  },
  {
   "cell_type": "markdown",
   "id": "cd9264fc",
   "metadata": {},
   "source": [
    "Here we printed only the first \"few\" lines since the entire string is very long.\n",
    "\n",
    "## The Qache decorator\n",
    "\n",
    "One of the most powerful features of Jasp is that it is fully dynamic, allowing many functions to be cached and reused. For this we have the qache decorator. Qached functions are only excuted once (per calling signature) and otherwise retrieved from cache."
   ]
  },
  {
   "cell_type": "code",
   "execution_count": 9,
   "id": "2b2e55c9",
   "metadata": {},
   "outputs": [
    {
     "name": "stdout",
     "output_type": "stream",
     "text": [
      "1.0215339660644531\n"
     ]
    }
   ],
   "source": [
    "import time\n",
    "\n",
    "\n",
    "@qache\n",
    "def inner_function(qv, i):\n",
    "    cx(qv[0], qv[1])\n",
    "    h(qv[i])\n",
    "    # Complicated compilation, that takes a lot of time\n",
    "    time.sleep(1)\n",
    "\n",
    "\n",
    "def main(i):\n",
    "    qv = QuantumFloat(i)\n",
    "\n",
    "    inner_function(qv, 0)\n",
    "    inner_function(qv, 1)\n",
    "    inner_function(qv, 2)\n",
    "\n",
    "    return measure(qv)\n",
    "\n",
    "\n",
    "t0 = time.time()\n",
    "jaspr = make_jaspr(main)(5)\n",
    "print(time.time() - t0)\n",
    "# Yields:\n",
    "# 1.0196595191955566"
   ]
  },
  {
   "cell_type": "markdown",
   "id": "ae4c1942",
   "metadata": {},
   "source": [
    "If a cached function is called with a different type (classical or quantum) the function will not be retrieved from cache but instead retraced. If called with the same signature, the appropriate implementation will be retrieved from the cache."
   ]
  },
  {
   "cell_type": "code",
   "execution_count": 10,
   "id": "71af110a",
   "metadata": {},
   "outputs": [
    {
     "name": "stdout",
     "output_type": "stream",
     "text": [
      "2.0441527366638184\n"
     ]
    }
   ],
   "source": [
    "@qache\n",
    "def inner_function(qv):\n",
    "    x(qv)\n",
    "    time.sleep(1)\n",
    "\n",
    "\n",
    "def main():\n",
    "    qf = QuantumFloat(5)\n",
    "    qbl = QuantumBool()\n",
    "\n",
    "    inner_function(qf)\n",
    "    inner_function(qf)\n",
    "    inner_function(qbl)\n",
    "    inner_function(qbl)\n",
    "\n",
    "    return measure(qf)\n",
    "\n",
    "\n",
    "t0 = time.time()\n",
    "jaspr = make_jaspr(main)()\n",
    "print(time.time() - t0)\n",
    "# Yields:\n",
    "# 2.044877767562866"
   ]
  },
  {
   "cell_type": "markdown",
   "id": "0eac3d41",
   "metadata": {},
   "source": [
    "We see 2 seconds now because the ``inner_function`` has been traced twice: Once for the [QuantumFloat](../../reference/Quantum%20Types/QuantumFloat.rst) and once for the [QuantumBool](../../reference/Quantum%20Types/QuantumBool.rst).\n",
    "\n",
    "Another important concept are dynamic values. Dynamic values are values that are only known at runtime (i.e. when the program is actually executed). This could be because the value is coming from a quantum measurement. Every QuantumVariable and its ``.size`` attribute are dynamic. Furthermore classical values can also be dynamic. For classical values, we can use the Python native ``isinstance`` check for the ``jax.core.Tracer`` class, whether a variable is dynamic. Note that even though ``QuantumVariables`` behave dynamic, they are not tracers themselves."
   ]
  },
  {
   "cell_type": "code",
   "execution_count": 11,
   "id": "7256b3ba",
   "metadata": {},
   "outputs": [
    {
     "name": "stdout",
     "output_type": "stream",
     "text": [
      "i is dynamic?:  True\n",
      "j is dynamic?:  True\n",
      "k is dynamic?:  True\n",
      "l is dynamic?:  False\n",
      "G is dynamic?:  False\n"
     ]
    }
   ],
   "source": [
    "from jax.core import Tracer\n",
    "\n",
    "\n",
    "def main(i):\n",
    "    print(\"i is dynamic?: \", isinstance(i, Tracer))\n",
    "\n",
    "    qf = QuantumFloat(5)\n",
    "    j = qf.size\n",
    "    print(\"j is dynamic?: \", isinstance(i, Tracer))\n",
    "\n",
    "    h(qf)\n",
    "    k = measure(qf)\n",
    "    print(\"k is dynamic?: \", isinstance(k, Tracer))\n",
    "\n",
    "    # Regular Python integers are not dynamic\n",
    "    l = 5\n",
    "    print(\"l is dynamic?: \", isinstance(l, Tracer))\n",
    "\n",
    "    # Arbitrary Python objects can be used within Jasp\n",
    "    # but they are not dynamic\n",
    "    import networkx as nx\n",
    "\n",
    "    G = nx.DiGraph()\n",
    "    G.add_edge(1, 2)\n",
    "    print(\"G is dynamic?: \", isinstance(l, Tracer))\n",
    "\n",
    "    return k\n",
    "\n",
    "\n",
    "jaspr = make_jaspr(main)(5)\n",
    "# Yields:\n",
    "# i is dynamic?:  True\n",
    "# j is dynamic?:  True\n",
    "# k is dynamic?:  True\n",
    "# l is dynamic?:  False\n",
    "# G is dynamic?:  False"
   ]
  },
  {
   "cell_type": "markdown",
   "id": "03bb1311",
   "metadata": {},
   "source": [
    "What is the advantage of dynamic values? Dynamical code is **scale invariant**! For this we can use the [jrange](../../reference/Jasp/Control%20Flow/jrange.rst) iterator, which allows you to execute a dynamic amount of loop iterations. Some restrictions apply however (check the docs to see which)."
   ]
  },
  {
   "cell_type": "code",
   "execution_count": 12,
   "id": "ca9c49cb",
   "metadata": {},
   "outputs": [
    {
     "name": "stdout",
     "output_type": "stream",
     "text": [
      "24                                                                                   \u001b[2K\n"
     ]
    }
   ],
   "source": [
    "@jaspify\n",
    "def main(k):\n",
    "\n",
    "    a = QuantumFloat(k)\n",
    "    b = QuantumFloat(k)\n",
    "\n",
    "    # Brings a into uniform superposition via Hadamard\n",
    "    h(a)\n",
    "\n",
    "    c = measure(a)\n",
    "\n",
    "    # Excutes c iterations (i.e. depending the measurement outcome)\n",
    "    for i in jrange(c):\n",
    "\n",
    "        # Performs a quantum incrementation on b based on the measurement outcome\n",
    "        b += c // 5\n",
    "\n",
    "    return measure(b)\n",
    "\n",
    "\n",
    "print(main(5))"
   ]
  },
  {
   "cell_type": "markdown",
   "id": "e1e9b0ef",
   "metadata": {},
   "source": [
    "It is possible to execute a multi-controlled X gate with a dynamic amount of controls."
   ]
  },
  {
   "cell_type": "code",
   "execution_count": 13,
   "id": "a1107b16",
   "metadata": {},
   "outputs": [],
   "source": [
    "@jaspify\n",
    "def main(i, j, k):\n",
    "\n",
    "    a = QuantumFloat(5)\n",
    "    a[:] = i\n",
    "\n",
    "    qbl = QuantumBool()\n",
    "\n",
    "    # a[:j] is a dynamic amount of controls\n",
    "    mcx(a[:j], qbl[0], ctrl_state=k)\n",
    "\n",
    "    return measure(qbl)"
   ]
  },
  {
   "cell_type": "markdown",
   "id": "351fcb87",
   "metadata": {},
   "source": [
    "This function encodes the integer ``i`` into a ``QuantumFloat`` and subsequently performs an MCX gate with control state ``k``. Therefore, we expect the function to return ``True`` if ``i == k`` and ``j > 5``."
   ]
  },
  {
   "cell_type": "code",
   "execution_count": 14,
   "id": "4155783f",
   "metadata": {},
   "outputs": [
    {
     "name": "stdout",
     "output_type": "stream",
     "text": [
      "True                                                                                 \u001b[2K\n",
      "False                                                                                \u001b[2K\n",
      "False                                                                                \u001b[2K\n"
     ]
    }
   ],
   "source": [
    "print(main(1, 6, 1))\n",
    "print(main(3, 6, 1))\n",
    "print(main(2, 1, 1))"
   ]
  },
  {
   "cell_type": "markdown",
   "id": "0e584a98",
   "metadata": {},
   "source": [
    "## Classical control flow\n",
    "\n",
    "Jasp code can be conditioned on classically known values. For that we simply use the control feature from base-Qrisp but with dynamical, classical bools. Some restrictions apply (check the docs for more details)."
   ]
  },
  {
   "cell_type": "code",
   "execution_count": 15,
   "id": "8e6d3dc9",
   "metadata": {},
   "outputs": [
    {
     "name": "stdout",
     "output_type": "stream",
     "text": [
      "3                                                                                    \u001b[2K\n",
      "1                                                                                    \u001b[2K\n",
      "3                                                                                    \u001b[2K\n",
      "0                                                                                    \u001b[2K\n",
      "3                                                                                    \u001b[2K\n"
     ]
    }
   ],
   "source": [
    "@jaspify\n",
    "def main():\n",
    "\n",
    "    qf = QuantumFloat(3)\n",
    "    h(qf)\n",
    "\n",
    "    # This is a classical, dynamical int\n",
    "    meas_res = measure(qf)\n",
    "\n",
    "    # This is a classical, dynamical bool\n",
    "    ctrl_bl = meas_res >= 4\n",
    "\n",
    "    with control(ctrl_bl):\n",
    "        qf -= 4\n",
    "\n",
    "    return measure(qf)\n",
    "\n",
    "\n",
    "for i in range(5):\n",
    "    print(main())"
   ]
  },
  {
   "cell_type": "markdown",
   "id": "84e888ed",
   "metadata": {},
   "source": [
    "## The Repeat-Until-Success (RUS) decorator\n",
    "\n",
    "RUS stands for Repeat-Until-Success and is an essential part for many quantum algorithms such as HHL or Linear Combination of Unitaries (LCU). As the name says the RUS component repeats a certain subroutine until a measurement yields ``True``. The RUS decorator should be applied to a ``trial_function``, which returns a classical bool as the first return value and some arbitrary other values. The trial function will be repeated until the classical bool is ``True``.\n",
    "\n",
    "To demonstrate the RUS behavior, we initialize a GHZ state \n",
    "\n",
    "$\\ket{\\psi} = \\frac{1}{\\sqrt{2}} (\\ket{00000} + \\ket{11111})$\n",
    "\n",
    "and measure the first qubit into a boolean value. This will be the value to cancel the repetition. This will collapse the GHZ state into either $\\ket{00000}$ (which will cause a new repetition) or $\\ket{11111} = \\ket{31}$, which cancels the loop. After the repetition is canceled we are therefore guaranteed to have the latter state."
   ]
  },
  {
   "cell_type": "code",
   "execution_count": null,
   "id": "fc71751c",
   "metadata": {},
   "outputs": [
    {
     "name": "stdout",
     "output_type": "stream",
     "text": [
      "31.0                                                                                 \u001b[2K\n"
     ]
    }
   ],
   "source": [
    "from qrisp.jasp import RUS, make_jaspr\n",
    "from qrisp import QuantumFloat, h, cx, measure\n",
    "\n",
    "\n",
    "def init_GHZ(qf):\n",
    "    h(qf[0])\n",
    "    for i in jrange(1, qf.size):\n",
    "        cx(qf[0], qf[i])\n",
    "\n",
    "\n",
    "@RUS\n",
    "def rus_trial_function():\n",
    "    qf = QuantumFloat(5)\n",
    "\n",
    "    init_GHZ(qf)\n",
    "\n",
    "    cancelation_bool = measure(qf[0])\n",
    "\n",
    "    return cancelation_bool, qf\n",
    "\n",
    "\n",
    "@jaspify\n",
    "def main():\n",
    "\n",
    "    qf = rus_trial_function()\n",
    "\n",
    "    return measure(qf)\n",
    "\n",
    "\n",
    "print(main())\n",
    "# Yields:\n",
    "# 31.0 (the decimal equivalent of 11111)"
   ]
  },
  {
   "cell_type": "markdown",
   "id": "1229e161",
   "metadata": {},
   "source": [
    "## Terminal sampling\n",
    "\n",
    "The [jaspify](../../reference/Jasp/Simulation%20Tools/Jaspify.rst) decorator executes one \"shot\". For many quantum algorithms we however need the distribution of shots. In principle we could execute a bunch of \"jaspified\" function calls, which is however not as scalable. For this situation we have the [terminal_sampling](../../reference/Jasp/Simulation%20Tools/Terminal%20Sampling.rst) decorator. To use this decorator we need a function that returns a ``QuantumVariable`` (instead of a classical measurement result). The decorator will then perform a (hybrid) simulation of the given script and subsequently sample from the distribution at the end."
   ]
  },
  {
   "cell_type": "code",
   "execution_count": 17,
   "id": "506760c3",
   "metadata": {},
   "outputs": [
    {
     "name": "stdout",
     "output_type": "stream",
     "text": [
      "{30.0: 0.5, 31.0: 0.5}                                                               \u001b[2K\u001b[2K\n"
     ]
    }
   ],
   "source": [
    "@RUS\n",
    "def rus_trial_function():\n",
    "    qf = QuantumFloat(5)\n",
    "\n",
    "    init_GHZ(qf)\n",
    "\n",
    "    cancelation_bool = measure(qf[0])\n",
    "\n",
    "    return cancelation_bool, qf\n",
    "\n",
    "\n",
    "@terminal_sampling\n",
    "def main():\n",
    "\n",
    "    qf = rus_trial_function()\n",
    "    h(qf[0])\n",
    "\n",
    "    return qf\n",
    "\n",
    "\n",
    "print(main())\n",
    "# Yields:\n",
    "# {30.0: 0.5, 31.0: 0.5}"
   ]
  },
  {
   "cell_type": "markdown",
   "id": "6f2ac500",
   "metadata": {},
   "source": [
    "The ``terminal_sampling`` decorator requires some care however. Remember that it only samples from the distribution at the end of the algorithm. This distribution can depend on random chances that happened during the execution. We demonstrate faulty use in the following example."
   ]
  },
  {
   "cell_type": "code",
   "execution_count": 18,
   "id": "3969b513",
   "metadata": {},
   "outputs": [
    {
     "name": "stdout",
     "output_type": "stream",
     "text": [
      "{1.0: 0.5, 5.0: 0.5}                                                                 \u001b[2K\n",
      "{1.0: 0.5, 5.0: 0.5}                                                                 \u001b[2K\n",
      "{0.0: 1.0}                                                                           \u001b[2K\n",
      "{0.0: 1.0}                                                                           \u001b[2K\n",
      "{0.0: 1.0}                                                                           \u001b[2K\n"
     ]
    }
   ],
   "source": [
    "from qrisp import QuantumBool, measure, control\n",
    "\n",
    "\n",
    "@terminal_sampling\n",
    "def main():\n",
    "\n",
    "    qbl = QuantumBool()\n",
    "    qf = QuantumFloat(4)\n",
    "\n",
    "    # Bring qbl into superposition\n",
    "    h(qbl)\n",
    "\n",
    "    # Perform a measure\n",
    "    cl_bl = measure(qbl)\n",
    "\n",
    "    # Perform a conditional operation based on the measurement outcome\n",
    "    with control(cl_bl):\n",
    "        qf[:] = 1\n",
    "        h(qf[2])\n",
    "\n",
    "    return qf\n",
    "\n",
    "\n",
    "for i in range(5):\n",
    "    print(main())\n",
    "# Yields either {0.0: 1.0} or {1.0: 0.5, 5.0: 0.5} (with a 50/50 probability)"
   ]
  },
  {
   "cell_type": "markdown",
   "id": "a5022857",
   "metadata": {},
   "source": [
    "## Boolean simulation\n",
    "The tight Jax integration of Jasp enables some powerful features such as a highly performant simulator of purely boolean circuits. This simulator works by transforming Jaspr objects that contain only X, CX, MCX etc. into boolean Jax logic. Subsequently this is inserted into the Jax pipeline, which yields a highly scalable simulator for purely classical Jasp functions.\n",
    "\n",
    "To call this simulator, we simply use the ``boolean_simulation`` decorator like we did with the ``jaspify`` decorator."
   ]
  },
  {
   "cell_type": "code",
   "execution_count": 19,
   "id": "17679085",
   "metadata": {},
   "outputs": [],
   "source": [
    "from qrisp import *\n",
    "from qrisp.jasp import *\n",
    "\n",
    "\n",
    "def quantum_mult(a, b):\n",
    "    return a * b\n",
    "\n",
    "\n",
    "@boolean_simulation(bit_array_padding=2**10)\n",
    "def main(i, j, iterations):\n",
    "\n",
    "    a = QuantumFloat(10)\n",
    "    b = QuantumFloat(10)\n",
    "\n",
    "    a[:] = i\n",
    "    b[:] = j\n",
    "\n",
    "    c = QuantumFloat(30)\n",
    "\n",
    "    for i in jrange(iterations):\n",
    "\n",
    "        # Compute the quantum product\n",
    "        temp = quantum_mult(a, b)\n",
    "\n",
    "        # add into c\n",
    "        c += temp\n",
    "\n",
    "        # Uncompute the quantum product\n",
    "        with invert():\n",
    "            # The << operator \"injects\" the quantum variable into\n",
    "            # the function. This means that the quantum_mult\n",
    "            # function, which was originally out-of-place, is\n",
    "            # now an in-place function operating on temp.\n",
    "\n",
    "            # It can therefore be used for uncomputation\n",
    "            # Automatic uncomputation is not yet available within Jasp.\n",
    "            (temp << quantum_mult)(a, b)\n",
    "\n",
    "        # Delete temp\n",
    "        temp.delete()\n",
    "\n",
    "    return measure(c)"
   ]
  },
  {
   "cell_type": "markdown",
   "id": "add42830",
   "metadata": {},
   "source": [
    "Note the [injection](../../reference/Core/Function%20Injection.rst) operator, which allows us to transform the out-of-place multiplication function into an in-place version (required for uncomputation of the temporary result).\n",
    "\n",
    "The first call needs some time for compilation"
   ]
  },
  {
   "cell_type": "code",
   "execution_count": 20,
   "id": "83145c64",
   "metadata": {},
   "outputs": [
    {
     "name": "stdout",
     "output_type": "stream",
     "text": [
      "6.799551010131836\n"
     ]
    }
   ],
   "source": [
    "import time\n",
    "\n",
    "t0 = time.time()\n",
    "main(1, 2, 5)\n",
    "print(time.time() - t0)"
   ]
  },
  {
   "cell_type": "markdown",
   "id": "55a03fce",
   "metadata": {},
   "source": [
    "Any subsequent call is super fast"
   ]
  },
  {
   "cell_type": "code",
   "execution_count": 21,
   "id": "68165cb0",
   "metadata": {},
   "outputs": [
    {
     "name": "stdout",
     "output_type": "stream",
     "text": [
      "1440.0\n",
      "Took 0.0810539722442627 to simulate 120 iterations\n"
     ]
    }
   ],
   "source": [
    "t0 = time.time()\n",
    "print(main(3, 4, 120))  # Expected to be 3*4*120 = 1440\n",
    "print(f\"Took {time.time()-t0} to simulate 120 iterations\")"
   ]
  },
  {
   "cell_type": "markdown",
   "id": "f6a217d7",
   "metadata": {},
   "source": [
    "Compile and simulate A MILLION QFLOPs!"
   ]
  },
  {
   "cell_type": "code",
   "execution_count": 22,
   "id": "8e5f4abe",
   "metadata": {},
   "outputs": [
    {
     "name": "stdout",
     "output_type": "stream",
     "text": [
      "475690240.0\n"
     ]
    }
   ],
   "source": [
    "print(main(532, 233, 1000000))"
   ]
  },
  {
   "cell_type": "markdown",
   "id": "ef9a9fb2",
   "metadata": {},
   "source": [
    "## Letting a classical neural network decide when to stop\n",
    "\n",
    "The following example showcases how a simple neural network can decide (in real-time) whether to go on or break the RUS iteration. For that we create a simple binary classifier and train it on dummy data (disclaimer: ML code by ChatGPT). This is code is not really useful in anyway and the classifier is classifying random data, but it shows how such an algorithm can be constructed and evaluated."
   ]
  },
  {
   "cell_type": "code",
   "execution_count": 23,
   "id": "5e6b00cc",
   "metadata": {},
   "outputs": [
    {
     "name": "stdout",
     "output_type": "stream",
     "text": [
      "Epoch 0, Loss: 0.7691547456022356\n",
      "Epoch 10, Loss: 0.7480804707189339\n",
      "Epoch 20, Loss: 0.7328152972527175\n",
      "Epoch 30, Loss: 0.7215477877581685\n",
      "Epoch 40, Loss: 0.7125076536709946\n",
      "Epoch 50, Loss: 0.7057018492536747\n",
      "Epoch 60, Loss: 0.7009181885011355\n",
      "Epoch 70, Loss: 0.6976922683686041\n",
      "Epoch 80, Loss: 0.6956534789743721\n",
      "Epoch 90, Loss: 0.6944416849690006\n",
      "Final accuracy: 0.5004680156707764\n"
     ]
    }
   ],
   "source": [
    "import jax\n",
    "import jax.numpy as jnp\n",
    "from jax import grad, jit\n",
    "import optax\n",
    "\n",
    "# Define the model\n",
    "\n",
    "\n",
    "def model(params, x):\n",
    "    W, b = params\n",
    "    return jax.nn.sigmoid(jnp.dot(x, W) + b)\n",
    "\n",
    "\n",
    "# Define the loss function (binary cross-entropy)\n",
    "\n",
    "\n",
    "def loss_fn(params, x, y):\n",
    "    preds = model(params, x)\n",
    "    return -jnp.mean(y * jnp.log(preds) + (1 - y) * jnp.log(1 - preds))\n",
    "\n",
    "\n",
    "# Initialize parameters\n",
    "key = jax.random.PRNGKey(0)\n",
    "W = jax.random.normal(key, (2, 1))\n",
    "b = jax.random.normal(key, (1,))\n",
    "params = (W, b)\n",
    "\n",
    "# Create optimizer\n",
    "optimizer = optax.adam(learning_rate=0.01)\n",
    "opt_state = optimizer.init(params)\n",
    "\n",
    "# Define training step\n",
    "\n",
    "\n",
    "@jit\n",
    "def train_step(params, opt_state, x, y):\n",
    "    loss, grads = jax.value_and_grad(loss_fn)(params, x, y)\n",
    "    updates, opt_state = optimizer.update(grads, opt_state)\n",
    "    params = optax.apply_updates(params, updates)\n",
    "    return params, opt_state, loss\n",
    "\n",
    "\n",
    "# Generate some dummy data\n",
    "key = jax.random.PRNGKey(0)\n",
    "X = jax.random.normal(key, (1000, 2))\n",
    "y = jnp.sum(X > 0, axis=1) % 2\n",
    "\n",
    "# Training loop\n",
    "for epoch in range(100):\n",
    "    params, opt_state, loss = train_step(params, opt_state, X, y)\n",
    "    if epoch % 10 == 0:\n",
    "        print(f\"Epoch {epoch}, Loss: {loss}\")\n",
    "\n",
    "# Make predictions\n",
    "predictions = model(params, X)\n",
    "accuracy = jnp.mean((predictions > 0.5) == y)\n",
    "print(f\"Final accuracy: {accuracy}\")"
   ]
  },
  {
   "cell_type": "markdown",
   "id": "15f7eaed",
   "metadata": {},
   "source": [
    "We can now use the ``model`` function to evaluate the classifier. Since this function is Jax-based it integrates seamlessly into Jasp."
   ]
  },
  {
   "cell_type": "code",
   "execution_count": null,
   "id": "78d8c4b7",
   "metadata": {},
   "outputs": [],
   "source": [
    "from qrisp.jasp import *\n",
    "from qrisp import *\n",
    "\n",
    "\n",
    "@RUS\n",
    "def rus_trial_function(params):\n",
    "\n",
    "    # Sample data from two QuantumFloats.\n",
    "    # This is a placeholder for an arbitrary quantum algorithm.\n",
    "    qf_0 = QuantumFloat(5)\n",
    "    h(qf_0)\n",
    "\n",
    "    qf_1 = QuantumFloat(5)\n",
    "    h(qf_1)\n",
    "\n",
    "    meas_res_0 = measure(qf_0)\n",
    "    meas_res_1 = measure(qf_1)\n",
    "\n",
    "    # Turn the data into a Jax array\n",
    "    X = jnp.array([meas_res_0, meas_res_1]) / 2**qf_0.size\n",
    "\n",
    "    # Evaluate the model\n",
    "    model_res = model(params, X)\n",
    "\n",
    "    # Determine the cancelation\n",
    "    cancelation_bool = (model_res > 0.5)[0]\n",
    "\n",
    "    return cancelation_bool, qf_0\n",
    "\n",
    "\n",
    "@jaspify\n",
    "def main(params):\n",
    "\n",
    "    qf = rus_trial_function(params)\n",
    "    h(qf[0])\n",
    "\n",
    "    return measure(qf)\n",
    "\n",
    "\n",
    "print(main(params))"
   ]
  },
  {
   "cell_type": "markdown",
   "id": "5981a84d",
   "metadata": {},
   "source": [
    "This marks the end of this tutorial. Congratulations for making it until here! While the programming model of Jasp might differ in some ways from what you are used to with regular Qrisp, we believe that some of presented features will be of vital importance for making large scale quantum computing a reality from software side. If you haven't already done so, check out the [documentation](../../reference/Jasp/index.rst) for more structured information to get your first Jasp algorithm up and running!"
   ]
  }
 ],
 "metadata": {
  "kernelspec": {
   "display_name": ".venv",
   "language": "python",
   "name": "python3"
  },
  "language_info": {
   "codemirror_mode": {
    "name": "ipython",
    "version": 3
   },
   "file_extension": ".py",
   "mimetype": "text/x-python",
   "name": "python",
   "nbconvert_exporter": "python",
   "pygments_lexer": "ipython3",
   "version": "3.11.9"
  }
 },
 "nbformat": 4,
 "nbformat_minor": 5
}
