{
 "cells": [
  {
   "cell_type": "markdown",
   "id": "4a480727",
   "metadata": {},
   "source": [
    "\n",
    "# Factoring integers using Shor's Algorithm\n",
    "\n",
    "In the realm of quantum computing, where classical limitations are challenged and new horizons are explored, Shor's Algorithm stands as a testament to the transformative potential of quantum mechanics in the field of cryptography. Developed by mathematician Peter Shor in 1994, this groundbreaking algorithm has the power to revolutionize the world of cryptography by efficiently factoring large numbers, once considered an insurmountable task - at least for classical computers.\n",
    "\n",
    "At its core, Shor's Algorithm addresses one of the cornerstones of modern asymmetric encryption: the difficulty of factoring the product of two large prime numbers. Many cryptographic protocols, including the widely used RSA algorithm, rely on the presumed computational complexity of this task to secure sensitive information. However, Shor's Algorithm exploits the unique properties of quantum computing to perform this factorization exponentially faster than the best-known classical algorithms.\n",
    "\n",
    "This tutorial aims to demystify the intricacies of Shor's Algorithm by leveraging the programming abstractions that Qrisp provides to boil down the algorithm to only a few lines of code. Please note that this tutorial is not meant to teach the number-theoretical details, but is focussed on how the algorithm can be implemented and compiled. For an in-depth look, please consider the following resources:\n",
    "\n",
    "* [Nielsen & Chuang textbook](https://www.cambridge.org/highereducation/books/quantum-computation-and-quantum-information/01E10196D0A682A6AEFFEA52D53BE9AE#overview)\n",
    "* [Wikipedia article](https://en.wikipedia.org/wiki/Shor%27s_algorithm)\n",
    "* [Tutorial paper](https://arxiv.org/abs/quant-ph/0303175)\n",
    "* [Original paper](https://arxiv.org/abs/quant-ph/9508027)\n",
    "\n",
    "Our presentation of the theory below will follow the one given by the textbook from Nielsen & Chuang. \n",
    "\n",
    "The implementation that you find below is with 11 lines of quantum code not only relatively simple but also one of the most efficient that you can find (you don't find many!)."
   ]
  },
  {
   "cell_type": "markdown",
   "id": "86e33752",
   "metadata": {},
   "source": [
    "## The general idea\n",
    "\n",
    "Given the number to factorize $N \\in \\mathbb{N}$, the first step of Shor's algorithm is to find the [order](https://en.wikipedia.org/wiki/Multiplicative_order) $r$ of a random number $a \\in \\mathbb{Z}/N\\mathbb{Z}$. Here,\n",
    "\n",
    "* $a$ is a random number $<N$, which is coprime to $N$ i.e., $\\text{GCD}(a, N) = 1$ (otherwise $\\text{GCD}(a, N)$ is a factor and we are done already).\n",
    "* $r$ is the order of $a$ i.e. a number such that $a^r = 1 \\pmod N$.\n",
    "* $a \\in \\mathbb{Z}/N\\mathbb{Z}$ is the [Quotient Ring](https://en.wikipedia.org/wiki/Quotient_ring) of integers modulo $N$.\n",
    "\n",
    "Assume now, that for a given classical number $x$, we have access to an operator $U_x$, which acts as\n",
    "\n",
    "$$U_x \\ket{y} = \\ket{(xy) \\pmod N}$$\n",
    "    \n",
    "that is, $U_x$ performs an in-place modular multiplication with $x$ on any quantum number $\\ket{y}$.\n",
    "\n",
    "The next step of the construction is defining the state $\\ket{u_s}$ for an arbitrary $s < r$\n",
    "\n",
    "$$\\ket{u_s} = \\frac{1}{\\sqrt{r}} \\sum_{k = 0}^{r-1} \\text{exp}\\left(\\frac{-2\\pi i s k}{r}\\right)\\ket{x^k \\pmod N}$$\n",
    "    \n",
    "Applying $U$ to such a state reveals, that it is indeed an eigenvector:\n",
    "\n",
    "$$\n",
    "\\begin{align}\n",
    "U \\ket{u_s} &= \\frac{1}{\\sqrt{r}} \\sum_{k = 0}^{r-1} \\text{exp}\\left(\\frac{-2\\pi i s k}{r}\\right) U_x \\ket{x^k \\pmod N}\\\\\n",
    "&= \\frac{1}{\\sqrt{r}} \\sum_{k = 0}^{r-1} \\text{exp}\\left(\\frac{-2\\pi i s k}{r}\\right) \\ket{x^{k+1} \\pmod N}\\\\\n",
    "&= \\text{exp}\\left(\\frac{2\\pi i s}{r}\\right) \\ket{u_s}\n",
    "\\end{align}\n",
    "$$\n",
    "\n",
    "Therefore, if we apply [quantum phase estimation](../../reference/Primitives/QFT.rst) (with sufficient precision) to $U_x$ and $\\ket{u_1}$ we have basically solved the problem:\n",
    "\n",
    "$$\\text{QPE}_{U_x} \\ket{u_1} \\ket{0} = \\ket{u_1} \\ket{\\phi_1}$$\n",
    "  \n",
    "Where $\\ket{\\phi_1}$ is a state that, if measured, is close to $\\frac{1}{r}$ with high probability.\n",
    "\n",
    "An important point here is that we don't need to call the operator $U_x$ for $2^j$ times to achieve $U_x^{2^j}$, which is required for the quantum phase estimation. Instead\n",
    "we can classically precompute $x^{2^j} \\pmod N$ and use $U_x^{2^j} = U_{x^{2^j}}$.\n",
    "\n",
    "As you might have noticed however, there is a problem. We would need the solution $r$ to prepare $\\ket{u_1}$, so this idea is not feasible. What we can do however\n",
    "is preparing a superposition of different $\\ket{u_s}$.\n",
    "\n",
    "$$\\frac{1}{\\sqrt{r}}\\sum_{s = 0}^{r-1} \\ket{u_s} = \\ket{1}$$\n",
    "    \n",
    "To get an intuition about this equation, it can be helpful to view the mapping $\\ket{s} \\rightarrow \\ket{u_s}$ as the generalized quantum fourier transform over $\\mathbb{F}_N$ (the regular $n$ qubit QFT would be $N = 2^n$). If you believe us that this Fourier transform is it's own inverse (maybe up to some signs), then the above equation should be no problem to understand. Otherwise feel free to investigate using one of the mentioned resources.\n",
    "\n",
    "To commence with our factoring problem we now apply quantum phase estimation to $\\ket{1}$.\n",
    "\n",
    "$$\n",
    "\\begin{align}\n",
    "\\text{QPE}_{U_x} \\ket{1} \\ket{0} &= \\frac{1}{\\sqrt{r}}\\sum_{s = 0}^{r-1} \\text{QPE}_{U_x} \\ket{u_s} \\ket{0}\\\\\n",
    "&= \\frac{1}{\\sqrt{r}} \\sum_{s = 0}^{r-1} \\ket{u_s} \\ket{\\phi_s}\n",
    "\\end{align}\n",
    "$$\n",
    "\n",
    "In the next step, we measure the second register to acquire a value $h$ which is close to a number of the form $\\frac{s}{r}$. Using the [continued fraction algorithm](https://en.wikipedia.org/wiki/Continued_fraction) we can turn $h$ into a fraction $\\frac{\\tilde{s}}{\\tilde{r}}$. $\\tilde{r}$ is therefore a potential candidate for the solution $r$. Finally, we verify our potential solutin using $a^r = 1 \\pmod N$ or (if neccessary) measure another $h$.\n",
    "\n",
    "The next step is to transform the equation, defining $r$\n",
    "\n",
    "$$a^r = 1 \\pmod N \\Leftrightarrow a^r -1 = 0 \\pmod N$$\n",
    "\n",
    "Combining this with the definition of the modulus operation, we can see that $N$ must be a factor of $a^r - 1$ (written $N | (a^r - 1)$). If $r$ is even, we can write\n",
    "\n",
    "$$a^r - 1 = (a^{r/2} - 1)(a^{r/2} + 1)$$\n",
    "\n",
    "On the other hand, if $r$ is odd, the algorithm needs to restart picking a different $a$. Finally, we check whether one of these (for instance $a^{r/2} + 1$) has a common factor with $N$ and, if so, we are done. Otherwise the algorithm needs to restart.\n",
    "\n",
    "To acquire the final result of the factorization $g$ we compute\n",
    "\n",
    "$$g = \\text{gcd}(a^{r/2} + 1, N)$$\n",
    "\n",
    "Naturally, the other factor is found to be $N/g$."
   ]
  },
  {
   "cell_type": "markdown",
   "id": "f59ed69f",
   "metadata": {},
   "source": [
    "## Implementation\n",
    "\n",
    "As you might know by now, the reason why this algorithm can be tricky to implement is because the operator $U_x$ is non-trivial to encode as a quantum circuit and a variety of ideas have been proposed in the past. A popular way of constructing this circuit is to start with a regular in-place adder, build a modular adder from that, build an out-of-place modular multiplyer from that, and finally combine two out-of-place multiplyers into one modular in-place multiplyer. If this wasn't already complicated enough, you also need the controlled version of this circuit. The [approach that we are using here](https://arxiv.org/abs/1801.01081) might also be complicated but the Qrisp abstractions allow for a powerfull reduction in complexity for the user, while still retaining a degree of flexibility for customization and most importantly, PERFORMANCE. 🚀\n",
    "\n",
    "> **Note**\n",
    "> To make sure you understand everything and get familiar with the concepts, we strongly recommend to execute the code yourself! Either with the Thebe server (might be slow) or on your own device!"
   ]
  },
  {
   "cell_type": "markdown",
   "id": "6e50a36b",
   "metadata": {},
   "source": [
    "The central concept of our implementation is the [QuantumModulus](../../reference/Quantum%20Types/QuantumModulus.rst) class. This quantum type can be used to represent and process elements of a [Quotient Ring](https://en.wikipedia.org/wiki/Quotient_ring), which is basically just a fancy wording for \"numbers that operate under modular arithmetic\"."
   ]
  },
  {
   "cell_type": "code",
   "execution_count": 1,
   "id": "30aae213",
   "metadata": {},
   "outputs": [],
   "source": [
    "from qrisp import *\n",
    "\n",
    "N = 13\n",
    "qg = QuantumModulus(N)\n",
    "qg[:] = 8"
   ]
  },
  {
   "cell_type": "markdown",
   "id": "49022854",
   "metadata": {},
   "source": [
    "This snippet creates such a [QuantumVariable](../../reference/Core/QuantumVariable.rst) with modulus $N = 13$. Subsequently we encode the value 8. The defining feature of this type is the fact that arithmetic is always modular."
   ]
  },
  {
   "cell_type": "code",
   "execution_count": 2,
   "id": "cdae2f2f",
   "metadata": {},
   "outputs": [
    {
     "name": "stdout",
     "output_type": "stream",
     "text": [
      "{3: 1.0}                                                                             \u001b[2K\n"
     ]
    }
   ],
   "source": [
    "qg += 8\n",
    "print(qg)"
   ]
  },
  {
   "cell_type": "code",
   "execution_count": 3,
   "id": "9c05b3ff",
   "metadata": {},
   "outputs": [
    {
     "name": "stdout",
     "output_type": "stream",
     "text": [
      "QuantumCircuit:\n",
      "---------------\n",
      "                                ┌───────────┐\n",
      "                   qf_0.0: ─────┤0          ├\n",
      "                                │           │\n",
      "                   qf_0.1: ─────┤1          ├\n",
      "                                │           │\n",
      "                   qf_0.2: ─────┤2          ├\n",
      "                           ┌───┐│  __iadd__ │\n",
      "                   qf_0.3: ┤ X ├┤3          ├\n",
      "                           └───┘│           │\n",
      "reduction_not_necessary.0: ─────┤4          ├\n",
      "                                │           │\n",
      "                   sign.0: ─────┤5          ├\n",
      "                                └───────────┘\n",
      "Live QuantumVariables:\n",
      "----------------------\n",
      "QuantumModulus qf_0\n"
     ]
    }
   ],
   "source": [
    "print(qg.qs)"
   ]
  },
  {
   "cell_type": "markdown",
   "id": "e2eedb1d",
   "metadata": {},
   "source": [
    "As you can see under the hood, there is a lot of complexity, however due to systematic development and testing, a lot of it can be hidden from the user. Feel free to try out the in-place multiplication `*=`!\n",
    "\n",
    "Using the QuantumModulus class allows us to implement Shor's algorithm within a few lines of code! For a simple example, let us factor $N = 99$ using $a = 10$."
   ]
  },
  {
   "cell_type": "code",
   "execution_count": 4,
   "id": "55de197d",
   "metadata": {},
   "outputs": [],
   "source": [
    "N = 99\n",
    "a = 10\n",
    "qg = QuantumModulus(N)\n",
    "qg[:] = 1"
   ]
  },
  {
   "cell_type": "markdown",
   "id": "5c000c4c",
   "metadata": {},
   "source": [
    "According to [literature](https://www.cambridge.org/de/universitypress/subjects/physics/quantum-physics-quantum-information-and-quantum-computation/quantum-computation-and-quantum-information-10th-anniversary-edition), a quantum phase estimation precision of $2n+1$ is sufficient, where $n$ is the bit-width of $N$."
   ]
  },
  {
   "cell_type": "code",
   "execution_count": 5,
   "id": "6c2b3921",
   "metadata": {},
   "outputs": [
    {
     "data": {
      "text/plain": [
       "<QuantumFloat 'qpe_res'>"
      ]
     },
     "execution_count": 5,
     "metadata": {},
     "output_type": "execute_result"
    }
   ],
   "source": [
    "n = qg.size\n",
    "qpe_res = QuantumFloat(2 * n + 1, exponent=-(2 * n + 1))\n",
    "h(qpe_res)"
   ]
  },
  {
   "cell_type": "markdown",
   "id": "5e9faa83",
   "metadata": {},
   "source": [
    "Note the `exponent` keyword of the [QuantumFloat](../../reference/Quantum%20Types/QuantumFloat.rst) constructor. It indicates that this QuantumFloat can represent numbers up to the precision $2^{-(2n+1)}$. After construction, we apply a Hadamard gate to each qubit as is customary in quantum phase estimation.\n",
    "\n",
    "We can now code the main loop:"
   ]
  },
  {
   "cell_type": "code",
   "execution_count": 6,
   "id": "ba96d1c3",
   "metadata": {},
   "outputs": [],
   "source": [
    "x = a\n",
    "for i in range(len(qpe_res)):\n",
    "    with control(qpe_res[i]):\n",
    "        qg *= x\n",
    "        x = (x * x) % N"
   ]
  },
  {
   "cell_type": "markdown",
   "id": "efd80088",
   "metadata": {},
   "source": [
    "Note that we have $x=a^{2^i}$ at the i-th iteration. Such a procedure is called repeated squaring and reduces the classical resources for the computation of $x$ in each iteration. We use the [control](../../reference/Quantum%20Environments/ControlEnvironment.rst) environment to make the operation conditional on the state of a qubit.\n",
    "\n",
    "Finally, we conclude the phase estimation with the inverse quantum Fourier transformation and perform a measurement."
   ]
  },
  {
   "cell_type": "code",
   "execution_count": 7,
   "id": "28628acd",
   "metadata": {},
   "outputs": [
    {
     "name": "stdout",
     "output_type": "stream",
     "text": [
      "{0.0: 0.5, 0.5: 0.5}                                                                 \u001b[2K\n"
     ]
    }
   ],
   "source": [
    "QFT(qpe_res, inv=True)\n",
    "meas_res = qpe_res.get_measurement()\n",
    "print(meas_res)"
   ]
  },
  {
   "cell_type": "markdown",
   "id": "910c0ea1",
   "metadata": {},
   "source": [
    "To perform the continued fraction step, we can use some [sympy tools](https://docs.sympy.org/latest/modules/ntheory.html):"
   ]
  },
  {
   "cell_type": "code",
   "execution_count": 8,
   "id": "edef6dc1",
   "metadata": {},
   "outputs": [],
   "source": [
    "from sympy import continued_fraction_convergents, continued_fraction_iterator, Rational\n",
    "\n",
    "\n",
    "def get_r_candidates(approx):\n",
    "    rationals = continued_fraction_convergents(\n",
    "        continued_fraction_iterator(Rational(approx))\n",
    "    )\n",
    "    return [rat.q for rat in rationals]"
   ]
  },
  {
   "cell_type": "markdown",
   "id": "dfbc9a65",
   "metadata": {},
   "source": [
    "This function takes an approximation value `approx` and calculates fractionals of the form $\\frac{p}{q}$ that are increasingly close to `approx`. To extract our results for the $r$ values, we are interested in the $q$ part of each fractional."
   ]
  },
  {
   "cell_type": "code",
   "execution_count": 9,
   "id": "921055a3",
   "metadata": {},
   "outputs": [],
   "source": [
    "r_candidates = sum([get_r_candidates(approx) for approx in meas_res.keys()], [])"
   ]
  },
  {
   "cell_type": "markdown",
   "id": "cfd17127",
   "metadata": {},
   "source": [
    "To find the correct $r$, we perform a classical search on our results:"
   ]
  },
  {
   "cell_type": "code",
   "execution_count": 10,
   "id": "6fe7b5c3",
   "metadata": {},
   "outputs": [],
   "source": [
    "for cand in r_candidates:\n",
    "    if (a**cand) % N == 1:\n",
    "        r = cand\n",
    "        break\n",
    "else:\n",
    "    raise Exception(\"Please sample again\")\n",
    "\n",
    "if r % 2:\n",
    "    raise Exception(\"Please choose another a\")"
   ]
  },
  {
   "cell_type": "markdown",
   "id": "4ba12e86",
   "metadata": {},
   "source": [
    "The final step in acquiring the factor is computing the greatest common divisor of $a^{r/2} + 1$, which can be [done efficiently](https://w.wiki/znj):"
   ]
  },
  {
   "cell_type": "code",
   "execution_count": 11,
   "id": "e20d257a",
   "metadata": {},
   "outputs": [
    {
     "name": "stdout",
     "output_type": "stream",
     "text": [
      "11\n"
     ]
    }
   ],
   "source": [
    "import numpy as np\n",
    "\n",
    "g = np.gcd(a ** (r // 2) + 1, N)\n",
    "print(g)"
   ]
  },
  {
   "cell_type": "markdown",
   "id": "265cb4b2",
   "metadata": {},
   "source": [
    "Aaaaand we are done! ⏲️\n",
    "\n",
    "To highlight once more how much Qrisp simplifies the construction, we summarize the code of the quantum subroutine in a single function. The function uses [QuantumModulus](../../reference/Quantum%20Types/QuantumModulus.rst), [QuantumFloat](../../reference/Quantum%20Types/QuantumFloat.rst), [control](../../reference/Quantum%20Environments/ConditionEnvironment.rst) environment, and [QFT](../../reference/Primitives/QFT.rst) to implement the algorithm:"
   ]
  },
  {
   "cell_type": "code",
   "execution_count": 12,
   "id": "be831c99",
   "metadata": {},
   "outputs": [],
   "source": [
    "def find_order(a, N):\n",
    "    qg = QuantumModulus(N)\n",
    "    qg[:] = 1\n",
    "    qpe_res = QuantumFloat(2 * qg.size + 1, exponent=-(2 * qg.size + 1))\n",
    "    h(qpe_res)\n",
    "    for i in range(len(qpe_res)):\n",
    "        with control(qpe_res[i]):\n",
    "            qg *= a\n",
    "            a = (a * a) % N\n",
    "    QFT(qpe_res, inv=True)\n",
    "    return qpe_res.get_measurement()"
   ]
  },
  {
   "cell_type": "markdown",
   "id": "ed45e93b",
   "metadata": {},
   "source": [
    "11 lines - feel free to compare with other implementations!\n",
    "\n",
    "To learn how to compile this algorithm optimized for fault-tolerant backends and deploy an exponentially faster adder, make sure to check out the Fault-tolerant compilation tutorial!"
   ]
  }
 ],
 "metadata": {
  "kernelspec": {
   "display_name": ".venv",
   "language": "python",
   "name": "python3"
  },
  "language_info": {
   "codemirror_mode": {
    "name": "ipython",
    "version": 3
   },
   "file_extension": ".py",
   "mimetype": "text/x-python",
   "name": "python",
   "nbconvert_exporter": "python",
   "pygments_lexer": "ipython3",
   "version": "3.11.9"
  }
 },
 "nbformat": 4,
 "nbformat_minor": 5
}
