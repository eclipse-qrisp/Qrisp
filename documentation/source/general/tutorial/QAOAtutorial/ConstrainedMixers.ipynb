{
 "cells": [
  {
   "cell_type": "markdown",
   "id": "1a07cf89",
   "metadata": {},
   "source": [
    "# Channelled Constrained Mixers\n",
    "\n",
    "This tutorial will teach you how to build and utilize channelled constrained mixers for QAOA. These mixers are a novel concept, introduced with Qrisp 0.3. A scientific publication will follow in the near future."
   ]
  },
  {
   "cell_type": "markdown",
   "id": "ef47db41",
   "metadata": {},
   "source": [
    "## Constraints in QAOA\n",
    "\n",
    "Real-world applications of combinatorial optimization often come with a variety of constraints. One of the most prominent use-cases of QAOA is portfolio optimization. In this problem, a set of binary decision variables $x = (x_0, .. x_N)$ is given, indicating whether a certain stock should be in the portfolio. The goal is to find the vector $x$ which minimizes the following quantity:\n",
    "\n",
    "$$C(x) = qx^T \\Sigma x - \\mu x$$\n",
    "\n",
    "Where\n",
    "\n",
    "* $x \\in \\mathbb{F}_2^N$ are the decision variables.\n",
    "* $\\mu \\in \\mathbb{R}^N$ specifies the expected returns of each stock.\n",
    "* $\\Sigma \\in \\mathbb{R}^{N \\times N}$ is the covariance matrix of the stocks.\n",
    "* $ q > 0$ is the risk aversion parameter.\n",
    "\n",
    "Additionally (and this is the important point), the problem also comes with a constaint: The investor only has finite funds, which has to be respected by the solution. This constraint is expressed as\n",
    "\n",
    "$$1^T x = B$$\n",
    "\n",
    "How do we usually incorporate these constrains in QAOA? Since QAOA is an approximate optimization algorithm, in theory it suffices to modify the cost function such that the forbidden states are high-cost solutions:\n",
    "\n",
    "$$\\tilde{C}(x) = C(x) + \\lambda g(x)$$\n",
    "    \n",
    "Where $g(x) = 1$ if $x$ is forbidden by the constraints and $0$ otherwise. This approach however comes with several disadvantages:\n",
    "\n",
    "* Compared to a classical algorithm, the quantum algorithm has a much larger search space because it also has to search through the forbidden states.\n",
    "* It is not clear how to choose $\\lambda$. This parameter needs to be big enough, such that forbidden states are effectively suppressed but small enough such that the hardware precision can still \"resolve\" the contrast in the actual cost function.\n",
    "* Forbidden states have a non-zero probability of appearing as a solution, reducing the overall effciency of the algorithm."
   ]
  },
  {
   "cell_type": "markdown",
   "id": "77f26f01",
   "metadata": {},
   "source": [
    "## Constrained Mixers\n",
    "\n",
    "An interesting approach to overcome these problems is the introduction of constrained mixers. These mixers don't mix the states between the allowed and forbidden subspace. In other words: If you insert an allowed state, your are guaranteed to also receive an allowed state after the mixer has been applied. Since QAOA is an alternating sequence of cost function applications (which don't mix the computational basis at all) and mixers, the final state will also be an allowed state (provided that the initial state was allowed).\n",
    "\n",
    "One of the first example was the [XY mixer](https://dl.acm.org/doi/pdf/10.1145/3149526.3149530), that you might already be familiar with from the Max-$\\kappa$-Colorable Subgraph QAOA Implementation. This mixer could be seen as some kind of \"continuous swap\" operation. That is: In any given multi qubit state, it preserves the number of ones. This is especcially usefull in the context of one-hot encoded [QuantumVariables](../../../reference/Core/QuantumVariable.rst) because this encoding relies on the fact that each state only contains a single one.\n",
    "\n",
    "A more flexible framework has been presented in [this paper](https://arxiv.org/abs/2203.06095). The approach here is to classically construct a matrix $H$, which preserves the required subspace and subsequently use Trotterization to simulate evolution under $H$ on the quantum computer. While this approach in principle allows arbitrary constraints, it also has a few disadvantages:\n",
    "\n",
    "* Trotterization is computationally extremely expensive compared to established mixers.\n",
    "* Due to finite Trotterization precision, there can be leakage into the forbidden subspace.\n",
    "* All constraints need to be evaluated classically for all possible states to build up $H$.\n",
    "\n",
    "With the introduction of channelled constrained mixers, we will overcome all of these drawbacks, so stay tuned!"
   ]
  },
  {
   "cell_type": "markdown",
   "id": "f950ecc4",
   "metadata": {},
   "source": [
    "## Mono-Channel Mixers\n",
    "\n",
    "Our mixer architecture can be best understood by starting with a single channel. You will see what we mean by channel once you reach the multi-channel section. Mono-channel mixers are very flexible and provide an all-to-all mixing but can be more resource demanding than multi-channel mixers. We will give a short theoretical introduction, which is followed by an implementation of one such mixer, which will be plugged into the MaxCut QAOA Implementation.\n",
    "\n",
    "Let \n",
    "\n",
    "$$f: \\mathbb{F}_2^n \\rightarrow \\mathbb{F}_2, x \\rightarrow f(x)$$\n",
    "\n",
    "represent an arbitrary constraint function. We say $x \\in \\mathbb{F}_2^n$ is allowed if $f(x) = 1$ and $x$ is forbidden otherwise.\n",
    "\n",
    "We define:\n",
    "\n",
    "$$\\ket{\\psi_f} = \\frac{1}{\\sqrt{N_f}} \\sum_{f(x) = 1} \\ket{x}$$\n",
    "\n",
    "Assume that there is a quantum circuit $U_f$ preparing $\\ket{\\psi_f}$ (a general procedure for compiling these efficiently will be presented shortly):\n",
    "\n",
    "$$U_f \\ket{0} = \\ket{\\psi_f}$$\n",
    "    \n",
    "We now [conjugate](../../../reference/Quantum%20Environments/ConjugationEnvironment.rst) a multi-controlled Phase-Gate controlled on the $\\ket{0}$ state with $U_f$. This yields the following unitary:\n",
    "\n",
    "$$\n",
    "\\begin{align}\n",
    "U_{\\text{mono}}(\\beta) &= U_f \\text{MCP}_0(\\beta) U_f^\\dagger \\\\\n",
    "&= U_f (1 - (1- \\text{exp}(i \\beta)) \\ket{0}\\bra{0}) U_f^\\dagger \\\\\n",
    "&= 1 - (1- \\text{exp}(i \\beta)) (U_f \\ket{0})(U_f \\ket{0})^\\dagger \\\\\n",
    "&= 1 - (1- \\text{exp}(i \\beta)) \\ket{\\psi_f} \\bra{\\psi_f}\n",
    "\\end{align}\n",
    "$$\n",
    "    \n",
    "This quantum circuit satisfies the following properties, which classify it as a valid constained QAOA mixer\n",
    "\n",
    "* $U_{\\text{mono}}(\\beta) \\ket{x} = \\ket{x}$ if $f(x) = 0$ (follows directly from $\\bra{\\psi_f}\\ket{f} = 0$). This property makes sure that forbidden states are mapped onto themselves, guaranteeing that the mixer only mixes among the allowed states.\n",
    "* $U_{\\text{mono}}(0) = 1$. This property ensures that there is indeed no mixing happening at $\\beta = 0$.\n",
    "* $|\\bra{x} U_{\\text{mono}}(\\beta) \\ket{x}| \\neq 1$ for $f(x) = 1, \\beta \\in (0, 2\\pi)$. This property shows that there is indeed **some** mixing happening for allowed states at $\\beta \\neq 0$."
   ]
  },
  {
   "cell_type": "markdown",
   "id": "216ff493",
   "metadata": {},
   "source": [
    "**Implementation**\n",
    "\n",
    "In principle, any procedure preparing $\\ket{\\psi_f}$ is suited. We invite the reader to find even more specialized/efficient preparation procedures for specific constraint functions. Here, we will demonstrate a general technique, that performs the preparation of $\\ket{\\psi_f}$ by evaluating $f$ in superposition. \n",
    "The general idea is to use the exact version of Grover's algorithm to search for the allowed states."
   ]
  },
  {
   "cell_type": "markdown",
   "id": "60a5b2a0",
   "metadata": {},
   "source": [
    "To demonsrate, we define an oracle"
   ]
  },
  {
   "cell_type": "code",
   "execution_count": 1,
   "id": "1a9d1838",
   "metadata": {},
   "outputs": [],
   "source": [
    "from qrisp import *\n",
    "\n",
    "\n",
    "@auto_uncompute\n",
    "def constraint_oracle(qarg, phase):\n",
    "\n",
    "    predicate = QuantumBool()\n",
    "\n",
    "    cx(qarg[0], predicate)\n",
    "    cx(qarg[-1], predicate)\n",
    "    p(phase, predicate)"
   ]
  },
  {
   "cell_type": "markdown",
   "id": "438cee0a",
   "metadata": {},
   "source": [
    "Note that in the exact version of Grover's algorithm, a parametrized phase gate is used to mark the good states (instead of a Z gate). Therefore, this oracle marks all the states, where the first qubit is in a different state as the last qubit. In other (more mathematical words), we specified\n",
    "\n",
    "$$f: \\mathbb{F}_2^n \\rightarrow \\mathbb{F}_2, x \\rightarrow (x_{n-1} \\neq x_0)$$\n",
    "\n",
    "\n",
    "The next step is to write the state preparation function. For this we use the ``exact`` feature of [Grover's algorithm](../../../reference/Algorithms/Grover.rst). This performs a Grover-search of the allowed states and thus prepares a state where only the allowed states are present."
   ]
  },
  {
   "cell_type": "code",
   "execution_count": 2,
   "id": "de85107b",
   "metadata": {},
   "outputs": [],
   "source": [
    "from qrisp.grover import grovers_alg\n",
    "\n",
    "\n",
    "def prep_psi(qarg):\n",
    "    grovers_alg(\n",
    "        qarg, constraint_oracle, exact=True, winner_state_amount=2 ** (len(qarg) - 1)\n",
    "    )"
   ]
  },
  {
   "cell_type": "markdown",
   "id": "5a144764",
   "metadata": {},
   "source": [
    "We can test it:"
   ]
  },
  {
   "cell_type": "code",
   "execution_count": 3,
   "id": "42009378",
   "metadata": {},
   "outputs": [
    {
     "name": "stdout",
     "output_type": "stream",
     "text": [
      "(sqrt(2)/4 - sqrt(2)*I/4)*(|001> + |011> + |100> + |110>)                            \u001b[2K\n"
     ]
    }
   ],
   "source": [
    "qv = QuantumVariable(3)\n",
    "\n",
    "prep_psi(qv)\n",
    "\n",
    "print(qv.qs.statevector())"
   ]
  },
  {
   "cell_type": "markdown",
   "id": "716183de",
   "metadata": {},
   "source": [
    "To conjugate it according to the above ideas, we need the inverse"
   ]
  },
  {
   "cell_type": "code",
   "execution_count": 4,
   "id": "ea1a434c",
   "metadata": {},
   "outputs": [],
   "source": [
    "def inv_prep_psi(qarg):\n",
    "    with invert():\n",
    "        prep_psi(qarg)"
   ]
  },
  {
   "cell_type": "markdown",
   "id": "1b65442f",
   "metadata": {},
   "source": [
    "We can now create the mixing function"
   ]
  },
  {
   "cell_type": "code",
   "execution_count": 5,
   "id": "a419dd9b",
   "metadata": {},
   "outputs": [],
   "source": [
    "def constrained_mixer(qarg, beta):\n",
    "    with conjugate(inv_prep_psi)(qarg):\n",
    "        mcp(beta, qarg, ctrl_state=0)"
   ]
  },
  {
   "cell_type": "markdown",
   "id": "4a303bc9",
   "metadata": {},
   "source": [
    "From this we can verify the above properties:"
   ]
  },
  {
   "cell_type": "code",
   "execution_count": 6,
   "id": "5971bd5d",
   "metadata": {},
   "outputs": [
    {
     "name": "stdout",
     "output_type": "stream",
     "text": [
      "{'111': 1.0}                                                                         \u001b[2K\n"
     ]
    }
   ],
   "source": [
    "import numpy as np\n",
    "\n",
    "# Checks the action of the mixer on a forbidden state (first and last qubit are both 1)\n",
    "qv = QuantumVariable(3)\n",
    "qv[:] = \"111\"\n",
    "constrained_mixer(qv, np.pi)\n",
    "print(qv)"
   ]
  },
  {
   "cell_type": "code",
   "execution_count": 7,
   "id": "adacae19",
   "metadata": {},
   "outputs": [
    {
     "name": "stdout",
     "output_type": "stream",
     "text": [
      "{'110': 1.0}                                                                         \u001b[2K\n"
     ]
    }
   ],
   "source": [
    "# Checks the action of the mixer with beta = 0 (expected to be the identity)\n",
    "qv = QuantumVariable(3)\n",
    "qv[:] = \"110\"\n",
    "constrained_mixer(qv, 0)\n",
    "print(qv)"
   ]
  },
  {
   "cell_type": "code",
   "execution_count": 8,
   "id": "14c92edb",
   "metadata": {},
   "outputs": [
    {
     "name": "stdout",
     "output_type": "stream",
     "text": [
      "{'100': 0.25, '110': 0.25, '001': 0.25, '011': 0.25}                                 \u001b[2K\n"
     ]
    }
   ],
   "source": [
    "# Checks the action of the mixer on an allowed state\n",
    "# (expected to mix only among the states where first and last qubit disagree)\n",
    "qv = QuantumVariable(3)\n",
    "qv[:] = \"011\"\n",
    "constrained_mixer(qv, np.pi)\n",
    "print(qv)"
   ]
  },
  {
   "cell_type": "markdown",
   "id": "0b95bb71",
   "metadata": {},
   "source": [
    "We can put it directly to test by using it as a MaxCut mixer"
   ]
  },
  {
   "cell_type": "code",
   "execution_count": 9,
   "id": "2df1cfe2",
   "metadata": {},
   "outputs": [],
   "source": [
    "from networkx import Graph\n",
    "\n",
    "G = Graph()\n",
    "\n",
    "G.add_edges_from([[0, 3], [0, 4], [1, 3], [1, 4], [2, 3], [2, 4]])\n",
    "\n",
    "from qrisp.qaoa import (\n",
    "    QAOAProblem,\n",
    "    create_maxcut_cost_operator,\n",
    "    create_maxcut_cl_cost_function,\n",
    ")\n",
    "\n",
    "max_cut_instance = QAOAProblem(\n",
    "    cost_operator=create_maxcut_cost_operator(G),\n",
    "    mixer=constrained_mixer,\n",
    "    cl_cost_function=create_maxcut_cl_cost_function(G),\n",
    ")"
   ]
  },
  {
   "cell_type": "markdown",
   "id": "0e3b1439",
   "metadata": {},
   "source": [
    "To verify that the algorithm indeed doesn't leave the search-space we make sure to initialize with an allowed state:"
   ]
  },
  {
   "cell_type": "code",
   "execution_count": 10,
   "id": "90c07bd3",
   "metadata": {},
   "outputs": [
    {
     "name": "stdout",
     "output_type": "stream",
     "text": [
      "{'00011': 0.3572, '11100': 0.0864, '01111': 0.0656, '01011': 0.0522, '10010': 0.0484, '00111': 0.0484, '10110': 0.047, '11110': 0.045, '11010': 0.0448, '10000': 0.043, '11000': 0.0392, '10100': 0.0376, '00101': 0.0232, '01001': 0.0216, '01101': 0.0212, '00001': 0.0192}\n"
     ]
    }
   ],
   "source": [
    "def prep_allowed_state(qarg):\n",
    "    h(qarg[1:-1])\n",
    "    x(qarg[-1])\n",
    "\n",
    "\n",
    "max_cut_instance.set_init_function(prep_allowed_state)\n",
    "\n",
    "res = max_cut_instance.run(qarg=QuantumVariable(5), depth=4, max_iter=25)\n",
    "\n",
    "print(res)"
   ]
  },
  {
   "cell_type": "markdown",
   "id": "4de53af8",
   "metadata": {},
   "source": [
    "From the MaxCut QAOA tutorial, we know that the correct solution to this instance is either ``11100`` or ``00011``. We see that not only do the correct solutions have the top probability, there are also only solutions which satisfy our constraint (first and last qubit disagreeing)."
   ]
  },
  {
   "cell_type": "markdown",
   "id": "57d29bc1",
   "metadata": {},
   "source": [
    "## Multi-Channel Mixers\n",
    "\n",
    "The following section might be a bit abstract on it's own - we recommend skipping to the [Physical Intuition](#physical-intuition-behind-multi-channel-mixers) section to get an intuitive understanding on what multi-channel mixers do.\n",
    "\n",
    "As already mentioned, mono-channel mixers can be flexible regarding the constraints and provide an all-to-all mixing. This however also implies that they require an all-to-all entangling circuit, which can be costly. Multi-Channel mixers remedy this problem by only perfoming mixing within distinct subspaces, effectively reducing the need for entanglement.\n",
    "\n",
    "To begin with, we again assume we are given a constraint function $f$. Instead of a singular state $\\ket{\\psi_f}$ we now define $m$ orthogonal states $\\ket{\\psi_f^i}$, such that\n",
    "\n",
    "$$\\ket{\\psi_f} = \\sum_{i = 0}^{m-1} \\ket{\\psi_f^i}$$\n",
    "    \n",
    "How to pick such a splitting? That is up to you and your implementation! Find whatever fits best for your problem.\n",
    "We now assume that there is a quantum circuit $V_f$ that can be expressed as a direct sum of $m$ operators $V_f^i$. \n",
    "\n",
    "$$V_f = \\bigoplus_{i = 0}^{m-1} V_f^i$$\n",
    "    \n",
    "These operators have a similar purpose as the preparation circuit in the mono-channel mixer. That is: They prepare $\\ket{\\psi_f^i}$ from a given computational basis-state $\\ket{x_i}$:\n",
    "\n",
    "$$\n",
    "\\begin{align}\n",
    "V_f^i \\ket{x_i} = \\ket{\\psi_f^i}\\\\\n",
    "V_f^j \\ket{x_i} = 0 \\quad \\forall i \\neq j\\\\\n",
    "\\end{align}\n",
    "$$\n",
    "    \n",
    "    \n",
    "We get the multi-channel mixer circuit from conjugating a circuit that applies a phase $\\beta_i$ to each of the $\\ket{x_i}$ with the preparation circuit $V_f$:\n",
    "\n",
    "$$\n",
    "\\begin{align}\n",
    "U_{\\text{multi}}(\\beta_0, \\beta_1, .. \\beta_{m-1}) &= V_f  \\text{exp}\\left( i \\sum_{i = 0}^{m-1} \\beta_i \\ket{x_i}\\bra{x_i} \\right) \\beta_i V_f^\\dagger \\\\\n",
    "&= \\left( \\bigoplus_{i = 0}^{m-1} V_f^i \\right) \\left( 1 - \\sum_{i = 0}^{m-1} (1 - \\text{exp}(i \\beta_i)) \\ket{x_i}\\bra{x_i} \\right) \\left( \\bigoplus_{i = 0}^{m-1} V_f^i \\right)^\\dagger \\\\\n",
    "&= 1 - \\sum_{i = 0}^{m-1} (1 - \\text{exp}(i \\beta_i)) \\left( V_f^i \\ket{x_i} \\right) \\left( V_f^i \\ket{x_i} \\right)^\\dagger \\\\\n",
    "&= 1 - \\sum_{i = 0}^{m-1} (1 - \\text{exp}(i \\beta_i)) \\ket{\\psi_f^i} \\bra{\\psi_f^i}\n",
    "\\end{align}\n",
    "$$\n",
    "\n",
    "In this final form, we can now see what is meant with \"channeled\": Each of the subspaces spanned by the computational basis vectors of $\\ket{\\psi_f^i}$ are getting mixed via one of $m$ channels (possibly with varying \"mixing strength\" $\\beta_i$)."
   ]
  },
  {
   "cell_type": "markdown",
   "id": "7de17f3f",
   "metadata": {},
   "source": [
    "**Implementation**\n",
    "\n",
    "To demonstrate how a multi-channel mixer works, we introduce a new [QuantumFloat](../../../reference/Quantum%20Types/QuantumFloat.rst) called ``channel``, indicating which channel is used for the mixing. \n",
    "The previously mentioned states $\\ket{x_i}$ are therefore states of the form\n",
    "\n",
    "$$\\ket{x_i} = \\ket{0}\\ket{i}$$\n",
    "    \n",
    "Where the second ket is the ``channel`` QuantumFloat. The first ket is a QuantumVariable we will call ``mixing_var``. Our mixer will therefore mix states within ``mixing_var`` for a given index $i$ but not across $i$ indices. What kind of mixing is performed on ``mixing_var``? In principle, it can be an arbitrary mono-channel mixer. We will thus recycle our previously implemented mixer.\n",
    "\n",
    "Note that this construction indeed satisfies the requirement that $V_f$ can be expressed as a direct sum. This is because the multi-channel state preparation is just the mono-channel state preparation acting on the tensor product space. Thus:\n",
    "\n",
    "$$V_f = U_f \\otimes 1_{m \\times m} = \\bigoplus_{i = 0}^{m-1} U_f$$\n",
    "\n",
    "To begin with the implementation, we first use the [as_hamiltonian](../../../reference/generated/qrisp.as_hamiltonian.rst) decorator to implement the hamiltonian evolution:\n",
    "\n",
    "$$\\text{exp}\\left( i \\sum_{i = 0}^{m-1} \\beta_i \\ket{x_i}\\bra{x_i} \\right)$$\n",
    "\n",
    "In other words: How intense each channel mixes ``mixing_var``."
   ]
  },
  {
   "cell_type": "code",
   "execution_count": 11,
   "id": "b1958422",
   "metadata": {},
   "outputs": [],
   "source": [
    "@as_hamiltonian\n",
    "def hamiltonian_evolution(channel_number, beta=0):\n",
    "    if channel_number % 2:\n",
    "        return 0\n",
    "    else:\n",
    "        return beta / 4 * channel_number"
   ]
  },
  {
   "cell_type": "markdown",
   "id": "5236b637",
   "metadata": {},
   "source": [
    "Here, the channels with an odd number perform no mixing at all, while the even channels perform mixing with growing intensity. You can put an arbitrary function here - our choice is simply for demonstrational purposes!\n",
    "\n",
    "To make sure that indeed only states which are of the previosly specified form\n",
    "\n",
    "$$\\ket{x_i} = \\ket{0}\\ket{i}$$\n",
    "\n",
    "are propagated, we create another wrapping function:"
   ]
  },
  {
   "cell_type": "code",
   "execution_count": 12,
   "id": "fafa9c35",
   "metadata": {},
   "outputs": [],
   "source": [
    "def apply_channel_propagation(channel, mixing_var, beta):\n",
    "    with control(mixing_var, ctrl_state=0):\n",
    "        hamiltonian_evolution(channel, beta=beta)"
   ]
  },
  {
   "cell_type": "markdown",
   "id": "eb0bbbcb",
   "metadata": {},
   "source": [
    "We are now ready to code the mixer function"
   ]
  },
  {
   "cell_type": "code",
   "execution_count": 13,
   "id": "5a7fee07",
   "metadata": {},
   "outputs": [],
   "source": [
    "def multi_channel_mixer(channel, mixing_var, beta):\n",
    "    with conjugate(inv_prep_psi)(mixing_var):\n",
    "        apply_channel_propagation(channel, mixing_var, beta)"
   ]
  },
  {
   "cell_type": "markdown",
   "id": "bf927fde",
   "metadata": {},
   "source": [
    "**Implementation testing**\n",
    "\n",
    "Awesome! Time to play a bit around to test it's behavior. We will begin with a simple test wether this function is still the identity at $\\beta = 0$."
   ]
  },
  {
   "cell_type": "code",
   "execution_count": 14,
   "id": "6539e950",
   "metadata": {},
   "outputs": [
    {
     "name": "stdout",
     "output_type": "stream",
     "text": [
      "{(2, '101'): 1.0}                                                                    \u001b[2K\n"
     ]
    }
   ],
   "source": [
    "channel = QuantumFloat(3)\n",
    "mixing_var = QuantumVariable(3)\n",
    "\n",
    "channel[:] = 2\n",
    "mixing_var[:] = \"101\"\n",
    "\n",
    "multi_channel_mixer(channel, mixing_var, 0)\n",
    "\n",
    "print(multi_measurement([channel, mixing_var]))\n",
    "# Yields: {(2, '101'): 1.0}"
   ]
  },
  {
   "cell_type": "markdown",
   "id": "eef3b745",
   "metadata": {},
   "source": [
    "Check if there is **some** mixing going on at $\\beta \\neq 0$:"
   ]
  },
  {
   "cell_type": "code",
   "execution_count": 15,
   "id": "045eddc5",
   "metadata": {},
   "outputs": [
    {
     "name": "stdout",
     "output_type": "stream",
     "text": [
      "{(4, '100'): 0.25, (4, '110'): 0.25, (4, '001'): 0.25, (4, '011'): 0.25}             \u001b[2K\n"
     ]
    }
   ],
   "source": [
    "channel = QuantumFloat(3)\n",
    "mixing_var = QuantumVariable(3)\n",
    "\n",
    "channel[:] = 4\n",
    "mixing_var[:] = \"100\"\n",
    "\n",
    "multi_channel_mixer(channel, mixing_var, np.pi)\n",
    "\n",
    "print(multi_measurement([channel, mixing_var]))"
   ]
  },
  {
   "cell_type": "markdown",
   "id": "6db07654",
   "metadata": {},
   "source": [
    "Note that we initialized ``mixing_var`` with an allowed state (first and last qubit disagree) and also only received allowed states as output. We experiment using a different channel:"
   ]
  },
  {
   "cell_type": "code",
   "execution_count": 16,
   "id": "5bfebaa2",
   "metadata": {},
   "outputs": [
    {
     "name": "stdout",
     "output_type": "stream",
     "text": [
      "{(2, '100'): 0.625, (2, '110'): 0.125, (2, '001'): 0.125, (2, '011'): 0.125}         \u001b[2K\n"
     ]
    }
   ],
   "source": [
    "channel = QuantumFloat(3)\n",
    "mixing_var = QuantumVariable(3)\n",
    "\n",
    "channel[:] = 2\n",
    "mixing_var[:] = \"100\"\n",
    "\n",
    "multi_channel_mixer(channel, mixing_var, np.pi)\n",
    "\n",
    "print(multi_measurement([channel, mixing_var]))"
   ]
  },
  {
   "cell_type": "markdown",
   "id": "9931b325",
   "metadata": {},
   "source": [
    "As expected, there is \"less intense\" mixing going on, ie. the initial state still has a high probability.\n",
    "Our final test will investigate the behavior of the forbidden states."
   ]
  },
  {
   "cell_type": "code",
   "execution_count": 17,
   "id": "0b51e063",
   "metadata": {},
   "outputs": [
    {
     "name": "stdout",
     "output_type": "stream",
     "text": [
      "{(2, '111'): 1.0}                                                                    \u001b[2K\n"
     ]
    }
   ],
   "source": [
    "channel = QuantumFloat(3)\n",
    "mixing_var = QuantumVariable(3)\n",
    "\n",
    "channel[:] = 2\n",
    "mixing_var[:] = \"111\"\n",
    "\n",
    "multi_channel_mixer(channel, mixing_var, np.pi)\n",
    "\n",
    "print(multi_measurement([channel, mixing_var]))"
   ]
  },
  {
   "cell_type": "markdown",
   "id": "35b1d671",
   "metadata": {},
   "source": [
    "For the forbidden state, indeed no mixing happened (as expected).\n",
    "\n",
    "Note that furthermore in none of these experiments, we saw mixing among channels (also as expected)."
   ]
  },
  {
   "cell_type": "markdown",
   "id": "c583cb57",
   "metadata": {},
   "source": [
    "## Physical intuition behind multi-channel mixers\n",
    "\n",
    "As the mathematical description might be a bit absract, this section is intended to provide some intuition to what multi-channel mixers do. For this we want to emphasize the conceptual relationship between the [multi-slit experiment](http://hyperphysics.phy-astr.gsu.edu/hbase/phyopt/mulslidi.html#c4) and alternating operator algorithms like QAOA. Why are these ideas related? The phase separator $\\text{exp}(i\\gamma C)$ can be interpreted as a wall of slits, applying a phase of $\\text{exp}(i \\gamma C(x))$ to the slit $x$:\n",
    "\n",
    "![all_to_all](all_to_all.PNG)\n",
    "\n",
    "The slits sent out light beams that are brought to interference with the beams of other slits on a screen on the other side of the setup. The process of bringing multiple beams to interfer with each other can be interpreted as the mixer. The analogy goes even deeper: If we move the screen very close to the slits, the horizontal beams will have a signficantly shorter path compared to the other beams and thus experience less radial intensity decay. A close screen therefore corresponds to a mixer with very small $\\beta$, which performs almost no mixing.\n",
    "\n",
    "In the picture above, we see all-to-all mixing. As mentioned, when implemented on a quantum computer, this requires an all-to-all entangling circuit, which can be computationally expensive. A channelled mixer remedies this flaw by only performing mixing within certain subspaces (here $\\text{span}(\\{\\ket{0}, \\ket{1}, \\ket{2}, \\ket{3} \\})$ and $\\text{span}(\\{\\ket{4}, \\ket{5}, \\ket{6}, \\ket{7}\\})$ - we therefore have two mixing channels).\n",
    "\n",
    "![channelled](channelled.PNG)"
   ]
  }
 ],
 "metadata": {
  "kernelspec": {
   "display_name": "qrisp",
   "language": "python",
   "name": "python3"
  },
  "language_info": {
   "codemirror_mode": {
    "name": "ipython",
    "version": 3
   },
   "file_extension": ".py",
   "mimetype": "text/x-python",
   "name": "python",
   "nbconvert_exporter": "python",
   "pygments_lexer": "ipython3",
   "version": "3.10.16"
  }
 },
 "nbformat": 4,
 "nbformat_minor": 5
}
