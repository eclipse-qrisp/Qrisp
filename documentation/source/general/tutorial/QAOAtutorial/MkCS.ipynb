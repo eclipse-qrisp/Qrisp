{
 "cells": [
  {
   "cell_type": "markdown",
   "id": "27edef8f",
   "metadata": {},
   "source": [
    "# Max-$\\kappa$-Colorable Subgraph QAOA Implementation\n",
    "\n",
    "The Max-$\\kappa$-Colorable Subgraph involves finding the largest subgraph of a given graph that can be colored using $\\kappa$ colors, such that no two adjacent nodes share the same color. \n",
    "\n",
    "MaxCut is considered as a special case of graph coloring for $\\kappa=2$ and therefore, after solving it with QAOA in the previous tutorial, provides us with a solid starting point for understanding graph coloring. The skills and knowledge you've gained are directly applicable here, but we'll also introduce new concepts and techniques to tackle the added complexity of using more than two colors.\n",
    "\n",
    "You will explore how to formulate the M-$\\kappa$-CS problem, implement the algorithm, and interpret the results. Along the way you'll likely realize that programming in Qrisp isn't a mundane black-and-white task, but rather a vibrant experience offering a whole spectrum of possibilities."
   ]
  },
  {
   "cell_type": "markdown",
   "id": "0d30cd16",
   "metadata": {},
   "source": [
    "## From QuantumVariable to <span style=\"color:red\">Q</span><span style=\"color:orange\">u</span><span style=\"color:yellow\">a</span><span style=\"color:green\">n</span><span style=\"color:blue\">t</span><span style=\"color:indigo\">u</span><span style=\"color:violet\">m</span><span style=\"color:red\">C</span><span style=\"color:orange\">o</span><span style=\"color:yellow\">l</span><span style=\"color:green\">o</span><span style=\"color:blue\">r</span>\n",
    "\n",
    "We start the tutorial by coding the <span style=\"color:red\">Q</span><span style=\"color:orange\">u</span><span style=\"color:yellow\">a</span><span style=\"color:green\">n</span><span style=\"color:blue\">t</span><span style=\"color:indigo\">u</span><span style=\"color:violet\">m</span><span style=\"color:red\">C</span><span style=\"color:orange\">o</span><span style=\"color:yellow\">l</span><span style=\"color:green\">o</span><span style=\"color:blue\">r</span> class, which is a custom [QuantumType](../../../reference/Quantum%20Types/index.rst) implemented and helps with tackling the Max-$\\kappa$-Colorable-Subgraph problem. It provides flexibility in choosing encoding methods and leverages efficient data structures like QuantumArrays to enhance computational performance. Here is how to create a custom QuantumVariable class yourself to help you make your problem more compact.\n",
    "\n",
    "In order to create your customized QuantumVariable, one first needs to import the [QuantumVariable](../../../reference/Core/QuantumVariable.rst) class. As mentioned before, using the [QuantumArray](../../../reference/Core/QuantumArray.rst) class leads to some shortcuts so let's import it as well. Before defining the class and functions within the class let's think about how one can describe or encode colors using strings of bits:\n",
    "\n",
    "- One approach is to represent colors as an array where only one element is 1 and the rest are 0. For instance, if there are four colors, <span style=\"color:red\">red</span>, <span style=\"color:green\">green</span>, <span style=\"color:blue\">blue</span>, and <span style=\"color:yellow\">yellow</span>, they can be represented this way as <span style=\"color:red\">[1, 0, 0, 0]</span>, <span style=\"color:green\">[0, 1, 0, 0]</span>, <span style=\"color:blue\">[0, 0, 1, 0]</span>, and <span style=\"color:yellow\">[0, 0, 0, 1]</span>. This is called the **one-hot encoding**. \n",
    "- Another approach is to represent colors with a unique binary number. In the case of the same four colors, they can be represented, for example, as <span style=\"color:red\">[0, 0]</span>, <span style=\"color:green\">[0, 1]</span>, <span style=\"color:blue\">[1, 0]</span>, and <span style=\"color:yellow\">[1, 1]</span>, respectively. This encoding scheme is called **binary encoding**. \n",
    "\n",
    "In the code block below, we can define the initialization function ``__init__`` as well as find a way to tell our quantum algorithm which color is encoded with our array. In other words, we need to define a decoder function that will decode the color for a given index ``i``. In our case, we use the one-hot encoding scheme as default."
   ]
  },
  {
   "cell_type": "code",
   "execution_count": 1,
   "id": "63883e9c",
   "metadata": {},
   "outputs": [],
   "source": [
    "from qrisp import QuantumArray, QuantumVariable\n",
    "import numpy as np\n",
    "\n",
    "\n",
    "class QuantumColor(QuantumVariable):\n",
    "\n",
    "    def __init__(self, list_of_colors, one_hot_enc=True):\n",
    "\n",
    "        self.list_of_colors = list_of_colors\n",
    "        self.one_hot_enc = one_hot_enc\n",
    "\n",
    "        if one_hot_enc:\n",
    "            QuantumVariable.__init__(self, size=len(list_of_colors))\n",
    "        else:\n",
    "            QuantumVariable.__init__(\n",
    "                self, size=int(np.ceil(np.log2(len(list_of_colors))))\n",
    "            )\n",
    "\n",
    "    def decoder(self, i):\n",
    "\n",
    "        if not self.one_hot_enc:\n",
    "            return self.list_of_colors[i]\n",
    "        else:\n",
    "            is_power_of_two = (i & (i - 1) == 0) and i != 0\n",
    "\n",
    "            if is_power_of_two:\n",
    "                return self.list_of_colors[int(np.log2(i))]\n",
    "            else:\n",
    "                return \"undefined\""
   ]
  },
  {
   "cell_type": "markdown",
   "id": "e3583597",
   "metadata": {},
   "source": [
    "The ``else`` condition returning \"undefined\" can come in extremely handy since it functions as an intuitive eye-test in the upcoming MkCS QAOA implementation. If any result of the simulation is \"undefined\", like [1, 0, 1, 0] for example, we know that something went wrong within our code.\n",
    "\n",
    "The choice of encoding method has implications for how colors are represented in the quantum computation. Our simple QuantumColor class only needs a list of colors and a flag indicating the preferred encoding method as arguments. The breakdown above is meant to serve as inspiration for you, showcasing how custom QuantumVariables tailored to one specific problem can make life at least a little qubit more colorful.\n",
    "\n",
    "Having already implemented this custom QuantumVariable, you can also simply import it via ``from qrisp.qaoa import QuantumColor``. In the example above we define a quantum box of crayons containing different colors. If one would then like to draw a meadow, one can take the green one out of the box and initialize a color using ``box_of_crayons[:] = \"green\"``. \n",
    "\n",
    "Run the code box below and see how that works with our custom QuantumVariable."
   ]
  },
  {
   "cell_type": "code",
   "execution_count": 2,
   "id": "b8ea45cd",
   "metadata": {},
   "outputs": [
    {
     "name": "stdout",
     "output_type": "stream",
     "text": [
      "QuantumCircuit:\n",
      "---------------\n",
      "box_of_crayons.0: ─────\n",
      "                       \n",
      "box_of_crayons.1: ─────\n",
      "                       \n",
      "box_of_crayons.2: ─────\n",
      "                  ┌───┐\n",
      "box_of_crayons.3: ┤ X ├\n",
      "                  └───┘\n",
      "box_of_crayons.4: ─────\n",
      "                       \n",
      "box_of_crayons.5: ─────\n",
      "                       \n",
      "Live QuantumVariables:\n",
      "----------------------\n",
      "QuantumColor box_of_crayons\n"
     ]
    }
   ],
   "source": [
    "from qrisp.qaoa import QuantumColor\n",
    "\n",
    "color_list = [\"red\", \"orange\", \"yellow\", \"green\", \"blue\", \"violet\"]\n",
    "box_of_crayons = QuantumColor(color_list)\n",
    "box_of_crayons[:] = \"green\"\n",
    "print(box_of_crayons.qs)"
   ]
  },
  {
   "cell_type": "markdown",
   "id": "5a16a068",
   "metadata": {},
   "source": [
    "With the knowledge we obtained above under our sleeve the only thing left to do now is is to tackle the colorless Max-$\\kappa$-Colorable Subgraph and implement QAOA in style!\n",
    "\n",
    "## M$\\kappa$CS meets QAOAProblem\n",
    "\n",
    "Let's revisit the recipe from the previous tutorial; to implement QAOA with [QAOAProblem](../../../reference/Algorithms/qaoa/QAOAProblem.rst) one needs to *drumroll please...*\n",
    "\n",
    "I. define the **CLASSICAL COST FUNCTION** of the problem, \n",
    "II. define the **INITIAL STATE** if it is not the superposition, which in the case of graph coloring indeed is not,  \n",
    "III. define **COST OPERATOR aka PHASE SEPARATOR** (or use the ones specified in [From QAOA to QAOA](https://arxiv.org/abs/1709.03489)), and \n",
    "IV. select **MIXER** from the [assortment we provide and list here](../../../reference/Algorithms/qaoa/QAOAMixers.rst).\n",
    "\n",
    "Time to prepare the ingrediends starting with defining a graph and the available colors we'd like to color the graph with."
   ]
  },
  {
   "cell_type": "code",
   "execution_count": 3,
   "id": "4780d900",
   "metadata": {},
   "outputs": [],
   "source": [
    "import networkx as nx\n",
    "\n",
    "G = nx.Graph()\n",
    "G.add_nodes_from([0, 1, 2, 3])\n",
    "G.add_edges_from([[0, 3], [0, 1], [0, 2], [1, 3], [1, 2], [2, 3]])\n",
    "num_nodes = len(G.nodes)\n",
    "\n",
    "color_list = [\"red\", \"blue\", \"yellow\", \"green\"]"
   ]
  },
  {
   "cell_type": "markdown",
   "id": "ce88f5aa",
   "metadata": {},
   "source": [
    "Before defining the classical cost function ``cl_cost_function(meas_res)`` for M$\\kappa$CS we need to think about the objective (``mkcs_obj``). Since we're trying to color a graph in a way to prevent neighboring nodes being the same color, we will reward the instances where they are in fact not the same color. To increase the contrast between optimal and less optimal solutions we shall use multiplicaton for the aforementioned reward instead of simple addition. This little trick can already improve the results significantly instead of using the standard approach.\n",
    "\n",
    "After iterating over all edges of graph ``G``, the objective function ``mkcs_obj`` returns an integer value of the free energy objective function. The remaining of the definition"
   ]
  },
  {
   "cell_type": "code",
   "execution_count": 4,
   "id": "5746776e",
   "metadata": {},
   "outputs": [],
   "source": [
    "def mkcs_obj(color_array, G):\n",
    "\n",
    "    cost = 1\n",
    "\n",
    "    for pair in list(G.edges()):\n",
    "\n",
    "        if color_array[pair[0]] != color_array[pair[1]]:\n",
    "            cost *= 4\n",
    "            # Instead of\n",
    "            # cost += 1\n",
    "\n",
    "    return -cost"
   ]
  },
  {
   "cell_type": "markdown",
   "id": "e37db57d",
   "metadata": {},
   "source": [
    "is similar to the one for MaxCut in the sense that calculates the relative energy in respect to the probability for each sample. Iteration over all items to calculate the objective function for current measurement is the same as in the MaxCut implementation, as is returning the energy calculated using the ``mkcs_obj`` objective funcion. Note that we don't need to normalize, since the measurement results are probabilities rather than counts."
   ]
  },
  {
   "cell_type": "code",
   "execution_count": 5,
   "id": "6bfecd32",
   "metadata": {},
   "outputs": [],
   "source": [
    "def cl_cost_function(meas_res):\n",
    "\n",
    "    energy = 0\n",
    "\n",
    "    for meas, prob in list(meas_res.items())[::-1]:\n",
    "\n",
    "        obj_for_meas = mkcs_obj(meas, G)\n",
    "\n",
    "        energy += obj_for_meas * prob\n",
    "\n",
    "    return energy"
   ]
  },
  {
   "cell_type": "markdown",
   "id": "551e1f35",
   "metadata": {},
   "source": [
    "As spoiled before, the superposition state is not the ideal initial state in this particular case. In principle a superposition state is viable, however, it needs to respect the one-hot encoding constraint. Instead we simply pick a random initial coloring of all the nodes and trust the QAOA to do the rest.\n",
    "\n",
    "To do this one first needs to import randomness and define the quantum argument ``qarg``, which is in this case a QuantumArray of QuantumColors. After setting the initial set to a random coloring, we then define a function that sets all elements in ``qarg`` to the initial state."
   ]
  },
  {
   "cell_type": "code",
   "execution_count": 6,
   "id": "4236266d",
   "metadata": {},
   "outputs": [],
   "source": [
    "import random\n",
    "\n",
    "qarg = QuantumArray(qtype=QuantumColor(color_list), shape=num_nodes)\n",
    "\n",
    "init_state = [random.choice(color_list) for _ in range(len(G))]\n",
    "\n",
    "\n",
    "def initial_state_mkcs(qarg):\n",
    "    qarg[:] = init_state\n",
    "    return qarg"
   ]
  },
  {
   "cell_type": "markdown",
   "id": "1a7e96b5",
   "metadata": {},
   "source": [
    "Following along with the recipe in hand is taking care of the coloring operator. For simplicity and code readability reasons we first define ``apply_phase_if_eq``, which indeed applies a phase if the colors of two arguments are matching. Having defined this, constructing the coloring operator is as easy as going through the list of all edges in our graph."
   ]
  },
  {
   "cell_type": "code",
   "execution_count": 7,
   "id": "5d4c9f4b",
   "metadata": {},
   "outputs": [],
   "source": [
    "from qrisp import cp, cx, mcp\n",
    "\n",
    "\n",
    "def apply_phase_if_eq(qcolor_0, qcolor_1, gamma):\n",
    "\n",
    "    if qcolor_0.one_hot_enc != qcolor_1.one_hot_enc or len(qcolor_0) != len(qcolor_1):\n",
    "        raise Exception(\"Tried to compare QuantumColors with differing encodings\")\n",
    "\n",
    "    if qcolor_0.one_hot_enc:\n",
    "        for i in range(qcolor_0.size):\n",
    "            # If the i-th qubit is \"1\" for both variables they represent the same color\n",
    "            # In this case the cp gate applies a phase of 2*gamma\n",
    "            cp(2 * gamma, qcolor_0[i], qcolor_1[i])\n",
    "\n",
    "    else:\n",
    "        # If both quantum variables are in the same state the following cx gates will\n",
    "        # put qcolor_1 in the |0> state\n",
    "        cx(qcolor_0, qcolor_1)\n",
    "        # We apply the phase 2*gamma to the |0> state using a multi-controlled phase gate\n",
    "        mcp(2 * gamma, qcolor_1, ctrl_state=0)\n",
    "        # Revert the action of the cx gate\n",
    "        cx(qcolor_0, qcolor_1)\n",
    "\n",
    "\n",
    "def create_coloring_operator(G):\n",
    "\n",
    "    def coloring_operator(quantumcolor_array, gamma):\n",
    "        for pair in list(G.edges()):\n",
    "            apply_phase_if_eq(\n",
    "                quantumcolor_array[pair[0]], quantumcolor_array[pair[1]], gamma\n",
    "            )\n",
    "\n",
    "    return coloring_operator"
   ]
  },
  {
   "cell_type": "markdown",
   "id": "c598c09a",
   "metadata": {},
   "source": [
    "We can see the advantage of the one-hot encoding: It might require more qubits but the comparison of two colors only requires one [cp](../../../reference/Primitives/generated/qrisp.cp.rst) gate per color. The binary encoding requires significantly less qubits but also an [mcp](../../../reference/Primitives/generated/qrisp.mcp.rst) gate, which is more costly, especially on near-term hardware.\n",
    "\n",
    "To season everything we need to decide on which [mixer](../../../reference/Algorithms/qaoa/QAOAMixers.rst) to choose to allow the transitions between different colorings. As proposed in [QAOAnsatz](https://arxiv.org/abs/1709.03489)  we will use the XY mixer aka the parity ring mixer. As for the binary encoding the X mixer we used in MaxCut works fine as well."
   ]
  },
  {
   "cell_type": "code",
   "execution_count": 8,
   "id": "1042bf4f",
   "metadata": {},
   "outputs": [],
   "source": [
    "from qrisp.qaoa import XY_mixer, RX_mixer\n",
    "\n",
    "\n",
    "def apply_XY_mixer(quantumcolor_array, beta):\n",
    "    for qcolor in quantumcolor_array:\n",
    "        XY_mixer(qcolor, beta)\n",
    "    return quantumcolor_array"
   ]
  },
  {
   "cell_type": "markdown",
   "id": "72fa22f6",
   "metadata": {},
   "source": [
    "Putting all the ingredients we just prepared into the methaphorical oven, which is in this case actually the [QAOAProblem](../../../reference/Algorithms/qaoa/QAOAProblem.rst) class, we can now simply run the algorithm following the same steps as in the previous tutorial before a marvelous masterpiece - the correctly colored graph - manifests into existence. \n",
    "\n",
    "Let's speedrun through the steps we already got familiar with in the previous tutorial:\n",
    "\n",
    "- define the depth $p$ of our QAOA algorithm. \n",
    "- create the ``coloring operator``\n",
    "- create the ``coloring_instance`` problem instance with ``QAOAProblem``\n",
    "- set initial state using the ``.set_init_function`` method\n",
    "- run QAOA using the ``.run`` method\n",
    "- display the solution.\n",
    "\n",
    "And most importantly: whisper the magic word: *QRISPIFYYY*"
   ]
  },
  {
   "cell_type": "code",
   "execution_count": null,
   "id": "c3dd7c4f",
   "metadata": {},
   "outputs": [
    {
     "name": "stdout",
     "output_type": "stream",
     "text": [
      "Best string: ['red' 'yellow' 'green' 'blue'] with coloring: 4096                     \u001b[2K\n",
      "QAOA solution:  ['red' 'yellow' 'green' 'blue']\n"
     ]
    },
    {
     "data": {
      "image/png": "[encoded data removed]",
      "text/plain": [
       "<Figure size 640x480 with 1 Axes>"
      ]
     },
     "metadata": {},
     "output_type": "display_data"
    }
   ],
   "source": [
    "from qrisp.qaoa import QAOAProblem\n",
    "from operator import itemgetter\n",
    "\n",
    "depth = 3\n",
    "\n",
    "coloring_operator = create_coloring_operator(G)\n",
    "\n",
    "coloring_instance = QAOAProblem(coloring_operator, apply_XY_mixer, cl_cost_function)\n",
    "# Use RX mixer for binary encoding\n",
    "# coloring_instance = QAOAProblem(coloring_operator, RX_mixer, cl_cost_function)\n",
    "\n",
    "coloring_instance.set_init_function(initial_state_mkcs)\n",
    "\n",
    "res = coloring_instance.run(qarg, depth, max_iter=25)\n",
    "\n",
    "best_coloring, best_solution = min(\n",
    "    [\n",
    "        (mkcs_obj(quantumcolor_array, G), quantumcolor_array)\n",
    "        for quantumcolor_array in res.keys()\n",
    "    ],\n",
    "    key=itemgetter(0),\n",
    ")\n",
    "print(f\"Best string: {best_solution} with coloring: {-best_coloring}\")\n",
    "\n",
    "best_coloring, res_str = min(\n",
    "    [\n",
    "        (mkcs_obj(quantumcolor_array, G), quantumcolor_array)\n",
    "        for quantumcolor_array in list(res.keys())[:5]\n",
    "    ],\n",
    "    key=itemgetter(0),\n",
    ")\n",
    "print(\"QAOA solution: \", res_str)\n",
    "best_coloring, best_solution = (mkcs_obj(res_str, G), res_str)\n",
    "\n",
    "colors = [res_str[node] for node in G.nodes()]\n",
    "nx.draw(\n",
    "    G,\n",
    "    with_labels=True,\n",
    "    font_color=\"white\",\n",
    "    node_size=1000,\n",
    "    font_size=22,\n",
    "    node_color=colors,\n",
    ")"
   ]
  },
  {
   "cell_type": "markdown",
   "id": "ccf25ada",
   "metadata": {},
   "source": [
    "🎉 aaand time! Whew, a new personal best! 🎉\n",
    "\n",
    "One can now benchmark the approach using the [benchmark](../../../reference/Algorithms/qaoa/generated/qrisp.qaoa.QAOAProblem.benchmark.rst) method following the same procedure as explained in the MaxCut QAOA tutorial, and conquer a complex problem instance like the Max-$\\kappa$-Coloring Subgraph using Qrisp and the plethora of useful functionalities and customizabilities it brings.\n",
    "\n",
    "## Summary and motivation\n",
    "\n",
    "To sum up:\n",
    "- you created a colorful custom QuantumType known as QuantumColor; \n",
    "- you explored two different color encoding techniques: one-hot encoding and binary encoding; \n",
    "- a crucial step that cannot be overstated is the importance of elegantly specifying a complex problem instance using the four-step-recipe we provided before running QAOA using the ``.run`` method of the ``QAOAProblem`` class. \n",
    "\n",
    "It's pedagogical to, similarly to what we have done in the previous MaxCut tutorial, provide a condensed code block of the full M$\\kappa$CS QAOA implementation using our predefined functions and show how elegantly one can tackle this complex problem."
   ]
  },
  {
   "cell_type": "code",
   "execution_count": 11,
   "id": "39797e75",
   "metadata": {},
   "outputs": [
    {
     "name": "stdout",
     "output_type": "stream",
     "text": [
      "                                                                                     \u001b[2K\r"
     ]
    },
    {
     "data": {
      "image/png": "[encoded data removed]",
      "text/plain": [
       "<Figure size 640x480 with 1 Axes>"
      ]
     },
     "metadata": {},
     "output_type": "display_data"
    }
   ],
   "source": [
    "from qrisp.qaoa import (\n",
    "    QuantumArray,\n",
    "    QuantumColor,\n",
    "    QAOAProblem,\n",
    "    mkcs_obj,\n",
    "    create_coloring_operator,\n",
    "    create_coloring_cl_cost_function,\n",
    "    apply_XY_mixer,\n",
    ")\n",
    "import random\n",
    "import networkx as nx\n",
    "from operator import itemgetter\n",
    "\n",
    "depth = 3\n",
    "\n",
    "G = nx.Graph()\n",
    "G.add_edges_from([[0, 1], [0, 4], [1, 2], [1, 3], [1, 4], [2, 3], [3, 4]])\n",
    "num_nodes = len(G.nodes)\n",
    "color_list = [\"red\", \"blue\", \"yellow\", \"green\"]\n",
    "init_state = [random.choice(color_list) for _ in range(len(G))]\n",
    "\n",
    "qarg = QuantumArray(qtype=QuantumColor(color_list, one_hot_enc=True), shape=num_nodes)\n",
    "mkcs_onehot = QAOAProblem(\n",
    "    create_coloring_operator(G), apply_XY_mixer, create_coloring_cl_cost_function(G)\n",
    ")\n",
    "mkcs_onehot.set_init_function(lambda x: x.encode(init_state))\n",
    "\n",
    "res_onehot = mkcs_onehot.run(qarg, depth, max_iter=25)\n",
    "\n",
    "best_coloring, best_solution = min(\n",
    "    [\n",
    "        (mkcs_obj(quantumcolor_array, G), quantumcolor_array)\n",
    "        for quantumcolor_array in res_onehot.keys()\n",
    "    ],\n",
    "    key=itemgetter(0),\n",
    ")\n",
    "best_coloring_onehot, res_str_onehot = min(\n",
    "    [\n",
    "        (mkcs_obj(quantumcolor_array, G), quantumcolor_array)\n",
    "        for quantumcolor_array in list(res_onehot.keys())[:5]\n",
    "    ],\n",
    "    key=itemgetter(0),\n",
    ")\n",
    "\n",
    "colors = [res_str_onehot[node] for node in G.nodes()]\n",
    "nx.draw(\n",
    "    G,\n",
    "    with_labels=True,\n",
    "    font_color=\"white\",\n",
    "    node_size=1000,\n",
    "    font_size=22,\n",
    "    node_color=colors,\n",
    ")"
   ]
  },
  {
   "cell_type": "markdown",
   "id": "09667328",
   "metadata": {},
   "source": [
    "After successfully coloring the graph, you now possess the sacred knowledge of understanding how to implement QAOA in Qrisp to solve complex optimization problems. \n",
    "\n",
    "But wait, there's more! Let us quickly invite you to continue with the next tutorial in this QAOA section titled Channelled Constrained Mixers where you will learn how to construct and utilize channelled constrained mixers for QAOA - a novel concept which will be detailed in an upcoming scientific publication. It also includes a cool intuitive comparison of the whole QAOA mixing process to the well known multi-slit experiment!\n",
    "\n",
    "Without further ado: let's test Qrisp to its limits and MIX IT UP!"
   ]
  }
 ],
 "metadata": {
  "kernelspec": {
   "display_name": "qrisp",
   "language": "python",
   "name": "python3"
  },
  "language_info": {
   "codemirror_mode": {
    "name": "ipython",
    "version": 3
   },
   "file_extension": ".py",
   "mimetype": "text/x-python",
   "name": "python",
   "nbconvert_exporter": "python",
   "pygments_lexer": "ipython3",
   "version": "3.10.16"
  }
 },
 "nbformat": 4,
 "nbformat_minor": 5
}
