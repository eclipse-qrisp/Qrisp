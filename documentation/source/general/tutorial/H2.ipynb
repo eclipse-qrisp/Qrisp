{
 "cells": [
  {
   "cell_type": "markdown",
   "id": "79a232ee",
   "metadata": {},
   "source": [
    "# Simulating the dynamics of the \\$H_2\\$ molecule\n",
    "\n",
    "$$\n",
    "\\def\\CC{\\bf C}\n",
    "\\def\\QQ{\\bf Q}\n",
    "\\def\\RR{\\bf R}\n",
    "\\def\\ZZ{\\bf Z}\n",
    "\\def\\NN{\\bf N}\n",
    "$$\n",
    "\n",
    "Quantum computing offers a promising avenue for simulating complex molecular systems, potentially revolutionizing fields like drug discovery, materials science, and chemical engineering. At the heart of this capability lies Hamiltonian simulation, a powerful technique that allows us to model the quantum behavior of molecules with exponentially less resources compared to classical computers. In this tutorial, we'll explore how to simulate molecules using Hamiltonian simulation techniques implemented in Qrisp. Qrisp provides a user-friendly interface for simulating quantum many body systems, making it a suitable tool for tackling complex quantum chemistry problems. We'll cover the following key aspects:\n",
    "\n",
    "-   [The fundamentals of Hamiltonian simulation and the second quantization](#Performing-Hamiltonian-simulation)\n",
    "-   [Loading molecular data into Qrisp](#Loading-molecular-data-into-Qrisp)\n",
    "-   [Performing Hamiltonian simulation](#Performing-Hamiltonian-simulation)\n",
    "\n",
    "By the end of this tutorial, you'll have a solid understanding of how to\n",
    "leverage Qrisp's capabilities to perform molecular simulations on\n",
    "quantum computers. Let's dive in and discover how Qrisp can help us\n",
    "unlock the quantum secrets of molecules!\n",
    "\n",
    "## The fundamentals of Hamiltonian simulation and the second quantization\n",
    "\n",
    "To understand what \"second quantization\" means it might be helpful to\n",
    "start with the **first quantization**. The idea behind this is that\n",
    "physical systems containing only a single particale are described by a\n",
    "Hilbert space $\\mathcal{H}$, which consits of a set of basis vectors:\n",
    "\n",
    "$$\\mathcal{H} = \\text{span}(\\ket{\\psi_i} \\mid i \\in \\mathcal{N})$$\n",
    "\n",
    "An arbitrary state $\\ket{\\phi}$ can therefore be represented by a linear\n",
    "combination of these basis vectors:\n",
    "\n",
    "$$\\ket{\\phi} = \\sum_{i = 0}^\\infty a_i \\ket{\\psi_i},\\quad a_i \\in \\mathbb{C}$$\n",
    "\n",
    "What these particular $\\ket{\\psi_i}$ represent depends on the system.\n",
    "For instance for the Hydrogen atom these basis vectors represent the\n",
    "[atomic orbitals](https://en.wikipedia.org/wiki/Atomic_orbital). If you\n",
    "participated in a course for atomic physics before, you might have seen\n",
    "pictures like this:\n",
    "\n",
    "<img src=\"hydrogen_with_axes.png\" class=\"align-center\" width=\"400\" alt=\"Hydrogen atom\" />\n",
    "\n",
    "This plot represents the real part of the amplitude of one of the basis\n",
    "vectors (the one with $n = 4, k = 3, l = 1$ to be precise).\n",
    "\n",
    "The **second quantization** now describes how systems including\n",
    "*multiple particles* are treated. For this the so called ladder\n",
    "operators are introduced, that is, for each basis state $\\ket{\\psi_i}$\n",
    "there is an operator $a_i^\\dagger$, which creates a particle in state\n",
    "$\\ket{\\psi_i}$. A creative notation for this might be:\n",
    "\n",
    "$$a_i^\\dagger \\ket{\\phi} = \\ket{\\phi \\text{ + a particle in state i}}$$\n",
    "\n",
    "For this reason, this operator is called the \"creator\". Similarly there\n",
    "is also the \"annihilator\" $a_i$, which destroys the particle.\n",
    "\n",
    "The ladder operators therefore determine the intrinsic interaction\n",
    "behavior of the particles. Observations from experiments show that there\n",
    "are two types of particles whose ladder operators follow different sets\n",
    "of laws.\n",
    "\n",
    "For **Bosons** the ladder operators obey\n",
    "[commutator](https://en.wikipedia.org/wiki/Commutator) laws:\n",
    "\n",
    "$$\\begin{aligned}\n",
    "\\;[a_i, a^\\dagger_j] = a_i a^\\dagger_j - a_j a^\\dagger_i = \\delta_{ij}\\\\\n",
    "[a^\\dagger_i, a^\\dagger_j] = [a_i, a_j] = 0\n",
    "\\end{aligned}$$\n",
    "\n",
    "For **Fermions** the ladder operators obey anti-commutator laws:\n",
    "\n",
    "$$\\begin{aligned}\n",
    "\\;\\{a_i, a^\\dagger_j\\} = a_i a^\\dagger_j + a_j^\\dagger a_i = \\delta_{ij}\\\\\n",
    "\\{a^\\dagger_i, a^\\dagger_j\\} = \\{a_i, a_j\\} = 0\n",
    "\\end{aligned}$$\n",
    "\n",
    "Note that the fermionic laws imply $a_i^\\dagger a_i^\\dagger = 0$. This\n",
    "means that an operator, which tries to insert two particles in the same\n",
    "state will immidiately become 0 and therefore not contribute. This is\n",
    "known as [Pauli exclusion\n",
    "principle](https://en.wikipedia.org/wiki/Pauli_exclusion_principle).\n",
    "\n",
    "Within Qrisp it is currently only possible to model **fermions**, which\n",
    "is for many applications in chemistry the more important case. A\n",
    "modelling framework for bosons will follow in a future release. To start\n",
    "building a fermionic operator, we import the functions `c` and `a` for\n",
    "creators and annihilators."
   ]
  },
  {
   "cell_type": "code",
   "execution_count": 1,
   "id": "c6d26d95",
   "metadata": {},
   "outputs": [
    {
     "name": "stdout",
     "output_type": "stream",
     "text": [
      "a0*c1 + a1*a2\n"
     ]
    }
   ],
   "source": [
    "from qrisp.operators import c, a\n",
    "\n",
    "O = a(0) * c(1) + a(1) * a(2)\n",
    "print(O)"
   ]
  },
  {
   "cell_type": "markdown",
   "id": "bc2e856e",
   "metadata": {},
   "source": [
    "To learn more how to build and manipulate these expressions, please look\n",
    "at the documentation page of\n",
    "[FermionicOperator](../../reference/Operators/FermionicOperator.rst). For instance, the\n",
    "hermitian conjugate can be computed using the\n",
    "[.dagger](../../reference/Operators/generated/qrisp.operators.fermionic.FermionicOperator.dagger.rst) method."
   ]
  },
  {
   "cell_type": "code",
   "execution_count": 2,
   "id": "d611d32c",
   "metadata": {},
   "outputs": [
    {
     "name": "stdout",
     "output_type": "stream",
     "text": [
      "a1*c0 + c2*c1\n"
     ]
    }
   ],
   "source": [
    "print(O.dagger())"
   ]
  },
  {
   "cell_type": "markdown",
   "id": "ee7f7755",
   "metadata": {},
   "source": [
    "To apply the Pauli exclusion principle but also other anti-commutation\n",
    "laws for simplifaction, you can call the\n",
    "[.reduce](../../reference/Operators/generated/qrisp.operators.fermionic.FermionicOperator.reduce.rst) method."
   ]
  },
  {
   "cell_type": "code",
   "execution_count": 3,
   "id": "bbdc4355",
   "metadata": {},
   "outputs": [
    {
     "name": "stdout",
     "output_type": "stream",
     "text": [
      "2*a1*a2\n"
     ]
    }
   ],
   "source": [
    "O = a(0) * a(0) + a(1) * a(2) - a(2) * a(1)\n",
    "print(O.reduce())"
   ]
  },
  {
   "cell_type": "markdown",
   "id": "736142d6",
   "metadata": {},
   "source": [
    "### The Jordan-Wigner embedding\n",
    "\n",
    "A natural question that comes up is how to represent the ladder\n",
    "operators and the corresponding states on a quantum computer. The most\n",
    "established way to do this is to use the [Jordan-Wigner\n",
    "embedding](https://en.wikipedia.org/wiki/Jordan%E2%80%93Wigner_transformation)\n",
    "(even though there are several [interesting\n",
    "alternatives](https://arxiv.org/abs/2212.09731)). The Jordan-Wigner\n",
    "embedding identifies each ladder term with an operator that acts on a\n",
    "qubit space:\n",
    "\n",
    "$$a_k = A_k \\prod_{i = 0}^{k-1} Z_i$$\n",
    "\n",
    "Where $A_k = \\ket{0}\\bra{1}$ and $Z_i$ are the Pauli-Z Operators. Feel\n",
    "free to verify that this indeed satisfies the anti-commutator relations!\n",
    "We can apply the Jordan-Wigner embedding with the corresponding method:"
   ]
  },
  {
   "cell_type": "code",
   "execution_count": 4,
   "id": "15d0faa4",
   "metadata": {},
   "outputs": [
    {
     "name": "stdout",
     "output_type": "stream",
     "text": [
      "Z(0)*Z(1)*Z(2)*Z(3)*A(4)\n"
     ]
    }
   ],
   "source": [
    "O_fermionic = a(4)\n",
    "O_qubit = O_fermionic.to_qubit_operator(mapping_type=\"jordan_wigner\")\n",
    "print(O_qubit)"
   ]
  },
  {
   "cell_type": "markdown",
   "id": "c56ea0f2",
   "metadata": {},
   "source": [
    "This gives us an instance of the [QubitOperator](../../reference/Operators/QubitOperator.rst)\n",
    "class. What is the difference to a\n",
    "[FermionicOperator](../../reference/Operators/FermionicOperator.rst)? While FermionicOperators\n",
    "model the more abstract fermion space, qubit operators represent\n",
    "operators on the qubit space $(\\mathbb{C}^2)^{\\otimes n}$ and can be\n",
    "simulated and evaluated efficiently using a quantum computer. In\n",
    "particular, QubitOperators can represent tensor products of the\n",
    "following operators $X,Y,Z,A,C,P^0,P^1,I$. Make sure to read the\n",
    "[documentation](../../reference/Operators/QubitOperator.rst) to learn about their definition!"
   ]
  },
  {
   "cell_type": "markdown",
   "id": "05452d6c",
   "metadata": {},
   "source": [
    "### Dynamics\n",
    "\n",
    "Both boson and fermion systems evolve under the Schrödinger equation:\n",
    "\n",
    "$$i \\hbar \\frac{d}{dt}\\ket{\\phi} = H \\ket{\\phi}$$\n",
    "    \n",
    "Where $H$ is a hermitian operator called Hamiltonian. *Hamiltonian simulation* is the procedure of mimicing the dynamics of a physical system described by a Hamiltonian $H$ using a quantum computer. In other words: creating the state $\\ket{\\phi, t} = \\text{exp}(iHt)\\ket{\\phi, 0}$ artificially to evaluate some of its properties.\n",
    "\n",
    "For bosonic systems, the Hamiltonian can only be a linear combination of products of the bosonic ladder operators. The equivalent holds for fermionic systems.\n",
    "\n",
    "$$H = \\sum_{n=0}^{\\infty} \\sum_{i_1, \\ldots, i_n} \\sum_{j_1, \\ldots, j_n} h_{i_1 \\ldots i_n, j_1 \\ldots j_n} a_{i_1}^{\\dagger} \\ldots a_{i_n}^{\\dagger} a_{j_1} \\ldots a_{j_n}$$\n",
    "    \n",
    "Where all $h \\in \\mathbb{R}$. An example Hamiltonian could therefore look like this\n",
    "\n",
    "$$H = h_{01}(a_0a^\\dagger_1 + a_1a^\\dagger_0) + h_{00}a_0a^\\dagger_0$$\n",
    "    \n",
    "The particular values of the coefficients (like $h_{01}$ and $h_{00}$) are determined by the specifics of the system. For many systems of interest these numbers involve the computation of some integrals - a task that can be efficiently performed on the classical computer.\n"
   ]
  },
  {
   "cell_type": "markdown",
   "id": "7806591e",
   "metadata": {},
   "source": [
    "## Loading molecular data into Qrisp\n",
    "\n",
    "If you don't feel like solving integrals right now, we've got you covered! Qrisp has a convenient interface to [PySCF](https://pyscf.org/), which loads the molecular data directly as [FermionicOperator](../../reference/Operators/FermionicOperator.rst). For that you need PySCF installed (``pip install pyscf``). If you're on Windows you might need to do some [WSL gymnastics](https://harshityadav95.medium.com/jupyter-notebook-in-windows-subsystem-for-linux-wsl-8b46fdf0a536>).\n"
   ]
  },
  {
   "cell_type": "code",
   "execution_count": 5,
   "id": "0e4fa6b4",
   "metadata": {},
   "outputs": [
    {
     "name": "stdout",
     "output_type": "stream",
     "text": [
      "-0.181210462015197*a0*a1*c2*c3 + 0.181210462015197*a0*c1*c2*a3 - 1.25330978664598*c0*a0 + 0.674755926814448*c0*a0*c1*a1 + 0.482500939335617*c0*a0*c2*a2 + 0.663711401350814*c0*a0*c3*a3 + 0.181210462015197*c0*a1*a2*c3 - 0.181210462015197*c0*c1*a2*a3 - 1.25330978664598*c1*a1 + 0.663711401350814*c1*a1*c2*a2 + 0.482500939335617*c1*a1*c3*a3 - 0.475068848772179*c2*a2 + 0.697651504490461*c2*a2*c3*a3 - 0.475068848772179*c3*a3\n"
     ]
    }
   ],
   "source": [
    "from pyscf import gto\n",
    "from qrisp.operators import FermionicOperator\n",
    "\n",
    "mol = gto.M(atom=\"\"\"H 0 0 0; H 0 0 0.74\"\"\", basis=\"sto-3g\")\n",
    "H_ferm = FermionicOperator.from_pyscf(mol)\n",
    "print(H_ferm)"
   ]
  },
  {
   "cell_type": "markdown",
   "id": "2578706d",
   "metadata": {},
   "source": [
    "This snippet uses the\n",
    "[.from_pyscf](../../reference/Operators/generated/qrisp.operators.fermionic.FermionicOperator.from_pyscf.rst)\n",
    "method to load the FermionicOperator\n",
    "representing the orbitals of the Dihydrogen molecule $H_2$. Or to be\n",
    "more precise, two hydrogen nuclei seperated by $0.74$ Angstrom."
   ]
  },
  {
   "cell_type": "markdown",
   "id": "5df3ed9c",
   "metadata": {},
   "source": [
    "Or if preferred, the Jordan-Wigner embedding:"
   ]
  },
  {
   "cell_type": "code",
   "execution_count": 6,
   "id": "6b1742da",
   "metadata": {},
   "outputs": [
    {
     "name": "stdout",
     "output_type": "stream",
     "text": [
      "0.181210462015197*A(0)*A(1)*C(2)*C(3) - 0.181210462015197*A(0)*C(1)*C(2)*A(3) - 0.181210462015197*C(0)*A(1)*A(2)*C(3) + 0.181210462015197*C(0)*C(1)*A(2)*A(3) - 1.25330978664598*P1(0) + 0.674755926814448*P1(0)*P1(1) + 0.482500939335617*P1(0)*P1(2) + 0.663711401350814*P1(0)*P1(3) - 1.25330978664598*P1(1) + 0.663711401350814*P1(1)*P1(2) + 0.482500939335617*P1(1)*P1(3) - 0.475068848772179*P1(2) + 0.697651504490461*P1(2)*P1(3) - 0.475068848772179*P1(3)\n"
     ]
    }
   ],
   "source": [
    "H_qubit = H_ferm.to_qubit_operator()\n",
    "print(H_qubit)"
   ]
  },
  {
   "cell_type": "markdown",
   "id": "37587f00",
   "metadata": {},
   "source": [
    "## Performing Hamiltonian simulation\n",
    "\n",
    "To perform Hamiltonian simulation, we use the\n",
    "[.trotterization](../../reference/Operators/generated/qrisp.operators.fermionic.FermionicOperator.trotterization.rst)\n",
    "method, which gives us a Python function that performs a simulation of\n",
    "the Hamiltonian on a [QuantumVariable](../..//reference/Core/QuantumVariable.rst)."
   ]
  },
  {
   "cell_type": "code",
   "execution_count": 7,
   "id": "c916f7f5",
   "metadata": {},
   "outputs": [],
   "source": [
    "from qrisp import QuantumVariable\n",
    "\n",
    "U = H_ferm.trotterization()\n",
    "\n",
    "\n",
    "def state_prep():\n",
    "    electron_state = QuantumVariable(4)\n",
    "    electron_state[:] = {\"1100\": 2**-0.5, \"0001\": 2**-0.5}\n",
    "\n",
    "    U(electron_state, t=100, steps=20)\n",
    "\n",
    "    return electron_state"
   ]
  },
  {
   "cell_type": "markdown",
   "id": "9703f01a",
   "metadata": {},
   "source": [
    "This snippet defines a function `state_prep` that first initializes the\n",
    "state $\\ket{\\phi, t = 0}$, which is a superposition of 2 electrons in\n",
    "the lower two orbitals and a state of 1 electron in the highest orbital.\n",
    "Second, we perform the Hamiltonian simulation."
   ]
  },
  {
   "cell_type": "code",
   "execution_count": 8,
   "id": "455ebbb5",
   "metadata": {},
   "outputs": [
    {
     "name": "stdout",
     "output_type": "stream",
     "text": [
      "                                                                                     \u001b[2K\r"
     ]
    }
   ],
   "source": [
    "electron_state = state_prep()"
   ]
  },
  {
   "cell_type": "markdown",
   "id": "3d01ed4d",
   "metadata": {},
   "source": [
    "This snippets simulates the Dihydrogen molecule for \\$t = 100\\$ [atomic\n",
    "units of time](https://physics.nist.gov/cgi-bin/cuu/Value?aut), i.e.\n",
    "\n",
    "$$\\begin{aligned}\n",
    "\\begin{align}\n",
    "\\ket{\\phi, t = 100} &= U(t = 100)\\ket{\\phi, t =0}\\\\\n",
    "&= \\text{exp}(100iH)\\ket{\\phi, t =0}\n",
    "\\end{align}\n",
    "\\end{aligned}$$\n",
    "\n",
    "Finally, we want to extract some physical quantity from our simulation.\n",
    "Our quantity of choice is the particle number operator:\n",
    "\n",
    "$$N = \\sum_{i = 0}^n a^\\dagger_i  a_i$$\n",
    "\n",
    "In Python code:"
   ]
  },
  {
   "cell_type": "code",
   "execution_count": 9,
   "id": "7fa87587",
   "metadata": {},
   "outputs": [],
   "source": [
    "N = sum(c(i) * a(i) for i in range(4))"
   ]
  },
  {
   "cell_type": "markdown",
   "id": "61c626eb",
   "metadata": {},
   "source": [
    "For each state $i$, this operator leaves the \"electron at $i$\" state\n",
    "invariant (i.e. a +1 contribution) and maps the \"no electron at $i$\"\n",
    "state to a 0 contribution. Its eigenvalues therefore indicate the number\n",
    "of electrons in the system. To evaluate the expectation value $\\bra{\\phi}N \\ket{\\phi}$, we call the\n",
    "[.expectation_value](../../reference/Operators/generated/qrisp.operators.qubit.QubitOperator.expectation_value.rst)\n",
    "method."
   ]
  },
  {
   "cell_type": "code",
   "execution_count": 10,
   "id": "71af1d79",
   "metadata": {},
   "outputs": [
    {
     "name": "stdout",
     "output_type": "stream",
     "text": [
      "1.4984592498140474                                                                   \u001b[2K\n"
     ]
    }
   ],
   "source": [
    "expectation_value = N.expectation_value(state_prep, precision=0.01)()\n",
    "print(expectation_value)"
   ]
  },
  {
   "cell_type": "markdown",
   "id": "7ab67d23",
   "metadata": {},
   "source": [
    "We see that the expectaction value is (almost) 1.5 because $(2+1)/2 =\n",
    "1.5$, which is expected assuming that the dynamics under the given\n",
    "Hamiltonian doesn't create particles out of nowhere (or destroys them).\n",
    "The value is not exact because of statistical noise - we can increase\n",
    "the precision (which will however require more measurements from the\n",
    "backend!):"
   ]
  },
  {
   "cell_type": "code",
   "execution_count": 11,
   "id": "15614477",
   "metadata": {},
   "outputs": [
    {
     "name": "stdout",
     "output_type": "stream",
     "text": [
      "1.4999932478124958                                                                   \u001b[2K\n"
     ]
    }
   ],
   "source": [
    "print(N.expectation_value(state_prep, precision=0.0001)())"
   ]
  },
  {
   "cell_type": "markdown",
   "id": "481d05d3",
   "metadata": {},
   "source": [
    "This concludes our little tutorial on Hamiltonian simulation. We hope\n",
    "you could learn something and feel motivated to explore more systems and\n",
    "techniques! Make sure to also check out the\n",
    "[molecular potential energy curves](../../reference/Examples/MolecularPotentialEnergyCurve.rst)\n",
    "example to learn how to compute the ground state for both types of\n",
    "operators!\n",
    "\n",
    "For your reference, we give the full code below:"
   ]
  },
  {
   "cell_type": "code",
   "execution_count": 12,
   "id": "8364b03f",
   "metadata": {},
   "outputs": [
    {
     "name": "stdout",
     "output_type": "stream",
     "text": [
      "1.4971841462118798                                                                   \u001b[2K\n"
     ]
    }
   ],
   "source": [
    "# Loading molecular data\n",
    "from qrisp.operators import a, c, FermionicOperator\n",
    "from pyscf import gto\n",
    "\n",
    "mol = gto.M(atom=\"\"\"H 0 0 0; H 0 0 0.74\"\"\", basis=\"sto-3g\")\n",
    "H_ferm = FermionicOperator.from_pyscf(mol)\n",
    "\n",
    "# Initializing the quantum state and performing Hamiltonian simulation\n",
    "from qrisp import QuantumVariable\n",
    "\n",
    "U = H_ferm.trotterization()\n",
    "\n",
    "\n",
    "def state_prep():\n",
    "    electron_state = QuantumVariable(4)\n",
    "    electron_state[:] = {\"1100\": 2**-0.5, \"0001\": 2**-0.5}\n",
    "\n",
    "    U(electron_state, t=100, steps=20)\n",
    "\n",
    "    return electron_state\n",
    "\n",
    "\n",
    "# Evaluating the number operator\n",
    "N = sum(c(i) * a(i) for i in range(4))\n",
    "expectation_value = N.expectation_value(state_prep, precision=0.01)()\n",
    "print(expectation_value)"
   ]
  }
 ],
 "metadata": {
  "kernelspec": {
   "display_name": "qrisp",
   "language": "python",
   "name": "python3"
  },
  "language_info": {
   "codemirror_mode": {
    "name": "ipython",
    "version": 3
   },
   "file_extension": ".py",
   "mimetype": "text/x-python",
   "name": "python",
   "nbconvert_exporter": "python",
   "pygments_lexer": "ipython3",
   "version": "3.10.16"
  }
 },
 "nbformat": 4,
 "nbformat_minor": 5
}
