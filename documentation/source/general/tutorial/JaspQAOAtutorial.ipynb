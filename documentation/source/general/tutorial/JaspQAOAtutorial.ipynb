{
 "cells": [
  {
   "cell_type": "markdown",
   "id": "cd33923e",
   "metadata": {},
   "source": [
    "# Building a QAOA implementation in Jasp\n",
    "\n",
    "In this tutorial, we will explain step-by-step how to build a custom QAOA implementation in Jasp for the example of the MaxCut problem.\n",
    "\n",
    "\n",
    "First, let us recall the problem description for MaxCut:\n",
    "\n",
    "Given a Graph $G = (V,E)$ find a bipartition $S$, $V\\setminus S$ of the set of vertices $V$ such that the number of edges between $S$ and $V\\setminus S$ is maximal.\n",
    "\n",
    "![MaxCut Example](../../_static/maxcut_tutorial.png)\n",
    "\n",
    "For a graph $G$ with $n$ nodes, such a bipartition can be encoded with a [QuantumVariable](../../reference/Core/QuantumVariable.rst) with $n$ qubits: \n",
    "we measure the $i$-th qubit in 0 if the node $i$ is in the set $S$, and 1 if the node $i$ is in the set $V\\setminus S$.\n",
    "The cut value is the number of edges $e=(i,j)$ in $G$ such that $i\\in S$ and $j\\in V\\setminus S$.\n",
    "\n",
    "In Jasp, varibales are decoded to integers (i.e. jax.numpy.int) and not to binrary strings. In this case, the binary representation of an integer encodes a bipartition of the graph $G$.\n",
    "Therefore, repeated sampling from a QuantumVariable in a superposition state will result in an array of integers representing bipartitions of the graph $G$. \n",
    "Within QAOA, we require a post processing function to compute the average cut value for an array of samples.\n",
    "\n",
    "As a first step, we will learn how to write a `post_processor` that can be compiled using `jax.jit` into a highly optimized version using Just-In-Time (JIT) compilation. \n",
    "This can significantly speed up the execution of numerical computations."
   ]
  },
  {
   "cell_type": "markdown",
   "id": "7640ec48",
   "metadata": {},
   "source": [
    "## Computing the Average Cut of a Graph with JAX\n",
    "\n",
    "**Step 1: Import Libraries**\n",
    "\n",
    "First, we need to import the necessary libraries."
   ]
  },
  {
   "cell_type": "code",
   "execution_count": 1,
   "id": "04eaec70",
   "metadata": {},
   "outputs": [],
   "source": [
    "import jax.numpy as jnp\n",
    "from jax import jit, vmap\n",
    "import networkx as nx\n",
    "\n",
    "from qrisp import QuantumVariable, h, rx, rzz\n",
    "from qrisp.jasp import sample, minimize, jaspify, jrange, make_jaspr"
   ]
  },
  {
   "cell_type": "markdown",
   "id": "91f6c404",
   "metadata": {},
   "source": [
    "**Step 2: Define the Function to Extract Boolean Digits**\n",
    "\n",
    "We will define a function that extracts the value of a specific bit (digit) from an integer."
   ]
  },
  {
   "cell_type": "code",
   "execution_count": 2,
   "id": "649bce1e",
   "metadata": {},
   "outputs": [],
   "source": [
    "@jit\n",
    "def extract_boolean_digit(integer, digit):\n",
    "    return (integer >> digit) & 1"
   ]
  },
  {
   "cell_type": "markdown",
   "id": "6dedbf86",
   "metadata": {},
   "source": [
    "**Step 3: Create the Cut Computer Function**\n",
    "\n",
    "The cut computer function calculates the cut value for a given integer representation of a bipartition of a graph. This function will use the edges of the graph to determine how many edges cross the cut."
   ]
  },
  {
   "cell_type": "code",
   "execution_count": 3,
   "id": "c85d1288",
   "metadata": {},
   "outputs": [],
   "source": [
    "def create_cut_computer(G):\n",
    "    edge_list = jnp.array(G.edges())  # Convert edge list to JAX array\n",
    "\n",
    "    @jit\n",
    "    def cut_computer(x):\n",
    "        x_uint = jnp.uint32(x)\n",
    "        bools = extract_boolean_digit(x_uint, edge_list[:, 0]) != extract_boolean_digit(\n",
    "            x_uint, edge_list[:, 1]\n",
    "        )\n",
    "        cut = jnp.sum(bools)  # Count the number of edges crossing the cut\n",
    "        return -cut\n",
    "\n",
    "    return cut_computer"
   ]
  },
  {
   "cell_type": "markdown",
   "id": "6a7cf865",
   "metadata": {},
   "source": [
    "**Step 4: Create the Sample Array Post Processor**\n",
    "\n",
    "This function will process an array of samples and compute the average cut using the cut_computer function. It will utilize JAX's vectorization capabilities for efficiency."
   ]
  },
  {
   "cell_type": "code",
   "execution_count": 4,
   "id": "37f24b37",
   "metadata": {},
   "outputs": [],
   "source": [
    "def create_sample_array_post_processor(G):\n",
    "    cut_computer = create_cut_computer(G)\n",
    "\n",
    "    def post_processor(sample_array):\n",
    "        # Use vmap for automatic vectorization\n",
    "        cut_values = vmap(cut_computer)(sample_array)\n",
    "        average_cut = jnp.mean(cut_values)  # Directly compute average\n",
    "        return average_cut\n",
    "\n",
    "    return post_processor"
   ]
  },
  {
   "cell_type": "markdown",
   "id": "9efc997b",
   "metadata": {},
   "source": [
    "**Step 5: Example Usage**\n",
    "\n",
    "Now we can create a graph and use our functions to compute the average cut."
   ]
  },
  {
   "cell_type": "code",
   "execution_count": 5,
   "id": "5e02698a",
   "metadata": {},
   "outputs": [
    {
     "name": "stdout",
     "output_type": "stream",
     "text": [
      "Average Cut: -2.0\n"
     ]
    }
   ],
   "source": [
    "# Create a sample graph\n",
    "G = nx.Graph()\n",
    "G.add_edges_from([(0, 1), (1, 2), (2, 0), (1, 3)])\n",
    "\n",
    "# Create the post processor function\n",
    "post_processor = create_sample_array_post_processor(G)\n",
    "\n",
    "# Sample input array representing different cuts\n",
    "sample_array = jnp.array(\n",
    "    [0b0001, 0b0010, 0b0100, 0b1000]\n",
    ")  # Example binary representations\n",
    "\n",
    "# Compute the average cut\n",
    "average_cut = post_processor(sample_array)\n",
    "print(\"Average Cut:\", average_cut)"
   ]
  },
  {
   "cell_type": "markdown",
   "id": "0fb47aef",
   "metadata": {},
   "source": [
    "So far, we created a function using JAX to compute the average cut of a graph efficiently. \n",
    "We defined a few helper functions, including one for extracting bits and another for calculating cuts, and then used JAX's vectorization capabilities to process multiple samples effectively."
   ]
  },
  {
   "cell_type": "markdown",
   "id": "0d2cebec",
   "metadata": {},
   "source": [
    "## Setting up the QAOA\n",
    "\n",
    "For additional details, we refer to the QAOA tutorial.\n",
    "\n",
    "**Step 6: Define the QAOA ansatz**\n",
    "\n",
    "First, we will define the the cost operator and mixer."
   ]
  },
  {
   "cell_type": "code",
   "execution_count": 6,
   "id": "5e6e2ec3",
   "metadata": {},
   "outputs": [],
   "source": [
    "def create_cost_operator(G):\n",
    "\n",
    "    def apply_cost_operator(qv, gamma):\n",
    "        for pair in list(G.edges()):\n",
    "            rzz(gamma, qv[pair[0]], qv[pair[1]])\n",
    "\n",
    "    return apply_cost_operator\n",
    "\n",
    "\n",
    "def apply_mixer(qv, beta):\n",
    "    rx(beta, qv)"
   ]
  },
  {
   "cell_type": "markdown",
   "id": "4287b043",
   "metadata": {},
   "source": [
    "Next, we define the QAOA ansatz that creates a QuantumVariable, brings it into uniform superposition and applies $p$ layers of the parametrized cost operator and mixer."
   ]
  },
  {
   "cell_type": "code",
   "execution_count": 7,
   "id": "6d9336e5",
   "metadata": {},
   "outputs": [],
   "source": [
    "def create_ansatz(G):\n",
    "\n",
    "    apply_cost_operator = create_cost_operator(G)\n",
    "\n",
    "    def ansatz(theta, p):\n",
    "        qv = QuantumVariable(G.number_of_nodes())\n",
    "\n",
    "        # Prepare uniform superposition\n",
    "        h(qv)\n",
    "\n",
    "        for i in jrange(p):\n",
    "            apply_cost_operator(qv, theta[i])\n",
    "            apply_mixer(qv, theta[p + i])\n",
    "\n",
    "        return qv\n",
    "\n",
    "    return ansatz"
   ]
  },
  {
   "cell_type": "markdown",
   "id": "ebb91974",
   "metadata": {},
   "source": [
    "**Step 7: Define the Objective Function**\n",
    "\n",
    "The objective function samples from the parametrized QAOA ansatz and computes the average cut value."
   ]
  },
  {
   "cell_type": "code",
   "execution_count": 8,
   "id": "361949ba",
   "metadata": {},
   "outputs": [],
   "source": [
    "def create_objective(G):\n",
    "\n",
    "    ansatz = create_ansatz(G)\n",
    "    post_processor = create_sample_array_post_processor(G)\n",
    "\n",
    "    def objective(theta, p):\n",
    "\n",
    "        res_sample = sample(ansatz, shots=1000)(theta, p)\n",
    "\n",
    "        value = post_processor(res_sample)\n",
    "\n",
    "        return value\n",
    "\n",
    "    return objective"
   ]
  },
  {
   "cell_type": "markdown",
   "id": "5741a1d6",
   "metadata": {},
   "source": [
    "**Step 8: Use a JAX-traceable Optimization Routine**\n",
    "\n",
    "We define the `qaoa` function for finding the optimal parameter values using the JAX-traceable [minimize](../../reference/Jasp/Optimization%20Tools/Optimization%20Tools.rst) routine.\n",
    "It returns an array of optimal parameters and the average cost value for the optimal solution."
   ]
  },
  {
   "cell_type": "code",
   "execution_count": 9,
   "id": "fc959d6d",
   "metadata": {},
   "outputs": [],
   "source": [
    "def qaoa():\n",
    "\n",
    "    # Create a sample graph\n",
    "    G = nx.Graph()\n",
    "    G.add_edges_from([(0, 1), (1, 2), (2, 0), (1, 3)])\n",
    "\n",
    "    ansatz = create_ansatz(G)\n",
    "    objective = create_objective(G)\n",
    "\n",
    "    # Number of layers\n",
    "    p = 3\n",
    "\n",
    "    # Initial point for theta\n",
    "    x0 = jnp.array([0.5] * 2 * p)\n",
    "\n",
    "    result = minimize(objective, x0, (p,))\n",
    "\n",
    "    # Sample from ansatz state for optimal parameters\n",
    "    samples = sample(ansatz, shots=10)(result.x, p)\n",
    "\n",
    "    return samples"
   ]
  },
  {
   "cell_type": "markdown",
   "id": "9bf45d8c",
   "metadata": {},
   "source": [
    "**Step 9: Run the QAOA**\n",
    "\n",
    "Finally, the jaspify method allows for running Jasp-traceable functions using the integrated Qrisp simulator.\n",
    "For hybrid algorithms like QAOA and VQE that rely on calculating expectation values based on sampling, the `terminal_sampling` feature significantly speeds up the simulation: samples are drawn from the state vector instead of performing repeated simulation and measurement of the quantum circuits."
   ]
  },
  {
   "cell_type": "code",
   "execution_count": 10,
   "id": "0e76bcb7",
   "metadata": {},
   "outputs": [
    {
     "name": "stdout",
     "output_type": "stream",
     "text": [
      "                                                                                     \u001b[2K\u001b[2K\u001b[2K\u001b[2K\u001b[2K\u001b[2K\u001b[2K\u001b[2K\u001b[2K\r"
     ]
    },
    {
     "data": {
      "text/plain": [
       "array([ 9, 14, 10, 11,  3,  3, 12,  5,  5,  5])"
      ]
     },
     "execution_count": 10,
     "metadata": {},
     "output_type": "execute_result"
    }
   ],
   "source": [
    "jaspify(qaoa, terminal_sampling=True)()"
   ]
  },
  {
   "cell_type": "markdown",
   "id": "bf10302a",
   "metadata": {},
   "source": [
    "You can also create the [jaspr](../../reference/Jasp/Jaspr.rst) object and compile to [QIR](https://www.qir-alliance.org) using [Catalyst](https://docs.pennylane.ai/projects/catalyst/en/stable/index.html)."
   ]
  },
  {
   "cell_type": "code",
   "execution_count": null,
   "id": "ea9770e5",
   "metadata": {},
   "outputs": [],
   "source": [
    "jaspr = make_jaspr(qaoa)()\n",
    "qir_str = jaspr.to_qir()"
   ]
  }
 ],
 "metadata": {
  "kernelspec": {
   "display_name": ".venv",
   "language": "python",
   "name": "python3"
  },
  "language_info": {
   "codemirror_mode": {
    "name": "ipython",
    "version": 3
   },
   "file_extension": ".py",
   "mimetype": "text/x-python",
   "name": "python",
   "nbconvert_exporter": "python",
   "pygments_lexer": "ipython3",
   "version": "3.11.9"
  }
 },
 "nbformat": 4,
 "nbformat_minor": 5
}
