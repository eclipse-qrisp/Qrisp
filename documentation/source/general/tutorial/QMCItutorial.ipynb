{
 "cells": [
  {
   "cell_type": "markdown",
   "id": "e99977b4",
   "metadata": {},
   "source": [
    "# Quantum Monte Carlo Integration\n",
    "\n",
    "This tutorial will provide you with an introduction to Quantum Monte Carlo (QMCI) Integration within Qrisp.\n",
    "\n",
    "For this purpose, we will first give you a theoretical overview of what this technique is about and where it is used. \n",
    "Then we will dive into the practical implementation within Qrisp. This also includes the usage of Iterative Quantum Amplitude Estimation (IQAE). \n",
    "To finish of this tutorial, we investigate the full implementation of a simple example by integrating $f(x)=x^2$ w.r.t. the uniform distribution over the interval $[0,1]$.\n",
    "\n",
    "The relevant literature can be found in the following papers: [A general quantum algorithm for numerical integration](https://www.nature.com/articles/s41598-024-61010-9) and [Option pricing using Quantum computers](https://arxiv.org/pdf/1905.02666) for QMCI and [Accelerated Quantum Amplitude Estimation without QFT](https://arxiv.org/pdf/2407.16795) for IQAE."
   ]
  },
  {
   "cell_type": "markdown",
   "id": "add359fa",
   "metadata": {},
   "source": [
    "## Theoretical Overview\n",
    "\n",
    "QMCI tackles the same problems as its classical counterpart: Numerical integration of high-dimensional functions w.r.t. probability distributions.\n",
    "\n",
    "Mathematically speaking, we want to find an approximation for the following (general) integral\n",
    "\n",
    "$$\\int_{ { [0,1] }^n } f(x_1 , \\dotsc , x_n) \\text{d} \\mu (x_1 , \\dotsc , x_n)$$\n",
    "\n",
    "Numerical integration approximates an integral which cannot be solved analytically as a bunch of sums.\n",
    "\n",
    "Integrals like these may appear in many different places, from chemistry, through many-body physics, to mathematical finance."
   ]
  },
  {
   "cell_type": "markdown",
   "id": "7d55d42a",
   "metadata": {},
   "source": [
    "## Theory & Implementation in Qrisp\n",
    "\n",
    "The implementation in Qrisp requires the implementation of the function acting on a [QuantumFloat](../../reference/Quantum%20Types/QuantumFloat.rst). We will see how this can be done later in the example.\n",
    "\n",
    "There is multiple ways to implement Monte Carlo integration in a quantum fashion. In this tutorial, we use an approach based on quantum counting. The idea is to discretize not only the $x$-axis but the $y$-axis as well. We use two QuantumFloats for this. \n",
    "One QuantumFloat will hold the discretized values of the $x$-axis, while the other one will hold the discretized values of the $y$-axis. \n",
    "We can then simply count, in quantum fashion, the number of points under the function curve, and divide it by the number of total points. This is enabled by a [QuantumBool](../../reference/Quantum%20Types/QuantumBool.rst) which for each state $\\ket{x}\\ket{y}$ indicates whether the condition $y<f(x)$ is satisfied.\n",
    "\n",
    "Don't give up just yet, the mathematical description will bring you more clarity!\n",
    "\n",
    "For simplicity, we consider the situation where $f\\colon [0,1]\\rightarrow[0,C]$ is a bounded continuous function of one variable. The strategy presented below can straightforwardly be generalized to the higher-dimensional case.\n",
    "We wish to evaluate:\n",
    "\n",
    "$$\\int_{0}^{1}f(x)\\mathrm dx$$\n",
    "\n",
    "This integral is approximated as [Riemann sum](https://en.wikipedia.org/wiki/Riemann_integral):\n",
    "\n",
    "$$\\frac{1}{N}\\sum\\limits_{i=0}^{N-1}f(i/N)$$\n",
    "\n",
    "As a first step, we prepare a uniform superposition state in the QuantumFloats (or any other distribution for the variable discretizing the $x$-axis):\n",
    "\n",
    "$$\\ket{0} \\ket{0} \\rightarrow \\frac{1}{\\sqrt{M \\cdot N}} \\sum^{N-1}_{i=0} \\sum^{M-1}_{j=0} \\ket{x_i} \\ket{y_j}$$\n",
    "\n",
    "where $x_i=i/N$ and $y=j\\cdot C/M$.\n",
    "\n",
    "As a second step, we apply the oracle that evaluates the \"points under the curve\" condition:\n",
    "\n",
    "$$\\ket{x_i} \\ket{y_j} \\ket{\\text{False}} \\rightarrow \\mathbb{1}_{y_j \\geq f(x_i)} \\ket{x_i} \\ket{y_j} \\ket{\\text{False}} + \\mathbb{1}_{y_j < f(x_i)} \\ket{x_i} \\ket{y_j} \\ket{\\text{True}}$$\n",
    "\n",
    "where $\\mathbb{1}_{y_j < f(x_i)}$ is $1$ if $y_j < f(x_i)$ and $0$ otherwise, and similarly for $\\mathbb{1}_{y_j\\geq f(x_i)}$.\n",
    "\n",
    "We now arrive at the central step of this algorithm, which is [Quantum Amplitude Estimation](../../reference/Primitives/QAE.rst). We use it to find the probability of measuring a good state $\\ket{x_i}\\ket{y_j}\\ket{\\text{True}}$, i.e.\n",
    "\n",
    "$$p(\\{ (x_i,y_j) \\mid y_j < f(x_i) \\}) = \\frac{1}{N} \\sum^{N-1}_{i=0} \\frac{1}{M} \\sum^{M-1}_{j=0}  \\mathbb{1}_{y_j < f(x_i)} \\approx \\frac{1}{N} \\sum^{N-1}_{x=0} \\frac{f(x_i)}{C}$$\n",
    "\n",
    "In the last step, we calculate the ratio between the number of points under the curve and the total number of points $M$ in the interval $[0,C]$. This serves as an approximation for $f(x)/C$.\n",
    "The last expression is then (up to the scaling factor $C$) an approximation for the integral in question. (For more information on why this is the case check out this [link](https://en.wikipedia.org/wiki/Riemann_integral).)"
   ]
  },
  {
   "cell_type": "markdown",
   "id": "2a50a10e",
   "metadata": {},
   "source": [
    "## Iterative Quantum Amplitude Estimation\n",
    "\n",
    "In Qrisp we have the option of using a resource efficient amplitude estimation algorithm, namely [Accelerated Quantum Amplitude Estimation, see Algorithm 1](https://arxiv.org/pdf/2407.16795), which iteratively applies [amplitude amplification](../../reference/Primitives/amplitude_amplification.rst) to find an estimation for the probability of measuring a good state.\n",
    "The goal of the algorithm is as follows: \n",
    "\n",
    "We start with a unitary operator $\\mathcal{A}$, which acts on the input quantum variables as\n",
    "\n",
    "$$\\textbf{A} \\ket{0}\\ket{\\text{False}} = \\sqrt{1-a} \\ket{\\Psi_0} \\ket{\\text{False}} + \\sqrt{a} \\ket{\\Psi_1} \\ket{\\text{True}}$$\n",
    "\n",
    "producing a superposition of orthogonal good and bad components where $a \\in [0,1]$ is unknown.\n",
    "\n",
    "The algorithm in question allows for us to establish an estimate $\\hat{a}$ of the unknown $a$. \n",
    "\n",
    "Mathematically speaking this means, given an error $\\epsilon$ and a confidence level $\\alpha$, the Accelerated Quantum Amplitude Estimation finds an estimate $\\hat{a}$ such that\n",
    "\n",
    "$$\\mathbb{P}\\{|\\hat{a} - a|\\leq\\epsilon\\}\\geq 1-\\alpha$$\n",
    "\n",
    "A documentation explaining how to use the Qrisp implementation of this algorithm can found in the [IQAE](../../reference/Primitives/IQAE.rst) reference."
   ]
  },
  {
   "cell_type": "markdown",
   "id": "e25a20ea",
   "metadata": {},
   "source": [
    "## Example implementation\n",
    "\n",
    "Next up, we will step-by-step go through a example implementation of QMCI tailored to the example of integrating the function $f(x)=x^2$ w.r.t. the uniform distribution over the interval $[0,1]$,\n",
    "i.e.,\n",
    "\n",
    "$$\\int_0^1x^2\\mathrm dx$$\n",
    "\n",
    "A general implementation for integration of multidimensional functions w.r.t. arbitrary probability distributions is provided by the [QMCI](../../reference/Algorithms/QMCI.rst) method.\n",
    "\n",
    "First, we define the `function` that we want to integrate, and a function for preparing the uniform distribution. \n",
    "Additionally, we define the variables representing the $x$-axis (`qf_x`) and $y$-axis (`qf_y`). \n",
    "Thereby, the QuantumFloat representing the $y$-axis must be chosen appropriately with respect to the values that `function(qf_x)` assumes.\n",
    "\n",
    "In this example, we evaluate the function $f(x)$ at $2^3=8$ sampling points as specified by `QuantumFloat(3,-3)`. \n",
    "The resulting values that the function assumes are represented by `QuantumFloat(6,-6)`.\n",
    "We also define a `QuantumBool`, which will indicate the \"points under the curve\"."
   ]
  },
  {
   "cell_type": "code",
   "execution_count": 1,
   "id": "783f1014",
   "metadata": {},
   "outputs": [],
   "source": [
    "from qrisp import *\n",
    "\n",
    "\n",
    "def function(qf):\n",
    "    return qf * qf\n",
    "\n",
    "\n",
    "def distribution(qf):\n",
    "    h(qf)\n",
    "\n",
    "\n",
    "qf_x = QuantumFloat(3, -3)\n",
    "qf_y = QuantumFloat(6, -6)\n",
    "\n",
    "qbl = QuantumBool()"
   ]
  },
  {
   "cell_type": "markdown",
   "id": "0b16df90",
   "metadata": {},
   "source": [
    "Now, we arrive at the heart of the algorithm, the definition of the `state_function`:"
   ]
  },
  {
   "cell_type": "code",
   "execution_count": 2,
   "id": "90416627",
   "metadata": {},
   "outputs": [],
   "source": [
    "@auto_uncompute\n",
    "def state_function(qf_x, qf_y, qbl):\n",
    "\n",
    "    distribution(qf_x)\n",
    "    h(qf_y)\n",
    "\n",
    "    with qf_y < function(qf_x):\n",
    "        x(qbl)"
   ]
  },
  {
   "cell_type": "markdown",
   "id": "aa2855f5",
   "metadata": {},
   "source": [
    "It receives the `auto_uncompute` decorator ensuring that all intermediate variables are properly uncomputed. \n",
    "We apply the chosen distribution to `qf_x`, which represents the $x$-axis. \n",
    "As explained earlier, we also discretize the $y$-axis by applying an `h` gate to `qf_y`.\n",
    "\n",
    "Within a [ConditionEnvironment](../../reference/Quantum%20Environments/ConditionEnvironment.rst), we then evaluate in superposition which states in `qf_y` are smaller than the chosen function evaluated on `qf_x`.\n",
    "We store the result of the comparison in the QuantumBool `qbl`, by applying an `x` gate on the previously mentioned QuantumBool if said condition is satisfied.\n",
    "\n",
    "With everything in place, we can now execute the [IQAE](../../reference/Primitives/IQAE.rst) method, with a chosen error tolerance `eps` and a confidence level `alpha`."
   ]
  },
  {
   "cell_type": "code",
   "execution_count": 3,
   "id": "97d609b5",
   "metadata": {},
   "outputs": [
    {
     "name": "stdout",
     "output_type": "stream",
     "text": [
      "                                                                                     \u001b[2K\r"
     ]
    }
   ],
   "source": [
    "a = IQAE([qf_x, qf_y, qbl], state_function, eps=0.01, alpha=0.01)"
   ]
  },
  {
   "cell_type": "markdown",
   "id": "58961cdc",
   "metadata": {},
   "source": [
    "Aaaand that's it! The QMCI is complete! \n",
    "\n",
    "Let us now have a look at the result, and compare it to the expected result:"
   ]
  },
  {
   "cell_type": "code",
   "execution_count": 4,
   "id": "4abb19f8",
   "metadata": {},
   "outputs": [
    {
     "name": "stdout",
     "output_type": "stream",
     "text": [
      "0.273169047720647\n",
      "0.2734375\n"
     ]
    }
   ],
   "source": [
    "print(a)\n",
    "\n",
    "N = 8\n",
    "print(sum((i / N) ** 2 for i in range(N)) / N)"
   ]
  },
  {
   "cell_type": "markdown",
   "id": "4f560a99",
   "metadata": {},
   "source": [
    "Congratulations, in this tutorial you learned about the basic theory behind Quantum Monte Carlo Integration, as well as, how to implement it using the high-level concepts that Qrisp offers.\n",
    "You witnessed the power of quantum computing that allows for evaluation of functions at exponentially many points all at once, \n",
    "but also experienced the intricacies of making the quantum computer reveal the solution by using Quantum Amplitude Estimation. \n",
    "By doing so, you're diving a step further into the world of quantum algorithms."
   ]
  }
 ],
 "metadata": {
  "kernelspec": {
   "display_name": "qrisp",
   "language": "python",
   "name": "python3"
  },
  "language_info": {
   "codemirror_mode": {
    "name": "ipython",
    "version": 3
   },
   "file_extension": ".py",
   "mimetype": "text/x-python",
   "name": "python",
   "nbconvert_exporter": "python",
   "pygments_lexer": "ipython3",
   "version": "3.10.16"
  }
 },
 "nbformat": 4,
 "nbformat_minor": 5
}
