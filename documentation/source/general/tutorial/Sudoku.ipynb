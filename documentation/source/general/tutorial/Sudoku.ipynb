{
 "cells": [
  {
   "cell_type": "markdown",
   "id": "98989bf2",
   "metadata": {},
   "source": [
    "# Solving Sudoku using Quantum Backtracking\n",
    "\n",
    "This tutorial is the practical hands on-part of [this paper](https://arxiv.org/abs/2402.10060)."
   ]
  },
  {
   "cell_type": "markdown",
   "id": "54572798",
   "metadata": {},
   "source": [
    "## Sudoku\n",
    "\n",
    "Sudoku is a popular logic-based puzzle game that gained widespread popularity in the late 20th century. Its name, \"Sudoku,\" originates from the Japanese words \"su\" (meaning \"number\") and \"doku\" (meaning \"single\"). The puzzle consists of a grid typically composed of nine rows, nine columns, and nine smaller subgrids known as \"regions\" or \"blocks.\"\n",
    "\n",
    "The objective of Sudoku is simple: fill in the grid so that each row, column, and region contains the numbers 1 through 9, with no repetition. A partially completed grid is provided, with some numbers already filled in. The challenge lies in using deductive reasoning and logic to determine the correct placement of numbers within the grid.\n",
    "\n",
    "Sudoku puzzles come in various difficulty levels, ranging from easy to extremely challenging, based on the number and placement of initial clues provided. While the rules remain consistent, the complexity of solving the puzzle increases with fewer initial clues and the necessity for more advanced solving strategies.\n",
    "\n",
    "Over the years, Sudoku has evolved into a beloved pastime for enthusiasts of all ages, offering a stimulating mental exercise that promotes concentration, critical thinking, and problem-solving skills. Whether played casually in newspapers, puzzle books, or digital platforms, Sudoku continues to captivate individuals worldwide with its timeless appeal.\n",
    "\n",
    "In our case, we will be working with 4x4 Sudoku mostly because we want to keep the results still simulable. A 9x9 or even 16x16 implementation would of course work equally well.\n",
    "\n",
    "![Sudoku](./sudoku.png)"
   ]
  },
  {
   "cell_type": "markdown",
   "id": "22c065d7",
   "metadata": {},
   "source": [
    "## Backtracking\n",
    "\n",
    "As they fall into the category of constraint satisfaction problems, Sudokus are (in a quantum sense) usually tackled using Grover's algorithm (SPOILER ALERT: we won't be using that approach). In this case constructing the oracle is rather straight forward, if the circuits for evaluating numerical comparisons are available. This, however, comes with the drawback that the state space of the search grows exponentially, which the quadratic speed-up of the Grover search barely mitigates. Of course there are much better ways of solving a Sudoku than just trying out every single combination; the same also holds true for the quantum realm. In this tutorial you will learn how a strategy called *backtracking* can be used to utilize the problem structure to gain a performance advantage.\n",
    "\n",
    "Backtracking approaches encopass a large class of algorithms, which are usually specified by both an `accept` and `reject` function. Furthermore, a set of possible assignments to an array of fixed length is also required. For a more detailed introduction consider [this page](https://www.geeksforgeeks.org/introduction-to-backtracking-data-structure-and-algorithm-tutorials/) or [this page](https://en.wikipedia.org/wiki/Backtracking). In general, the algorithm in Python code usually boils down to:"
   ]
  },
  {
   "cell_type": "markdown",
   "id": "aae97f47",
   "metadata": {},
   "source": [
    "```python\n",
    "from problem import accept, reject, max_depth, assignments\n",
    "\n",
    "def backtracking(x):\n",
    "\n",
    "    if accept(x):\n",
    "        return x\n",
    "\n",
    "    if reject(x) or len(x) == max_depth:\n",
    "        return None\n",
    "\n",
    "    for j in assigments:\n",
    "        y = list(x)\n",
    "        y.append(j)\n",
    "        res = backtracking(y)\n",
    "        if res is not None:\n",
    "            return res\n",
    "```"
   ]
  },
  {
   "cell_type": "markdown",
   "id": "3baf09dd",
   "metadata": {},
   "source": [
    "## Quantum backtracking\n",
    "\n",
    "The quantum algorithm for solving backtracking problems has been\n",
    "[proposed by Ashley Montanaro](https://arxiv.org/abs/1509.02374) and yields\n",
    "a 1 to 1 correspondence between an arbitrary classical backtracking algorithm\n",
    "and its quantum equivalent. The quantum version achieves a quadratic speed up\n",
    "over the classical one.\n",
    "\n",
    "The algorithm is based on performing quantum phase estimation on a quantum walk\n",
    "operator, which traverses the backtracking tree. The core algorithm returns\n",
    "\"Solution exists\" if the 0 component of the quantum phase estimation result\n",
    "has a higher probability then 3/8 = 0.375.\n",
    "\n",
    "Similar to the classical version, in our Qrispy implementation of this quantum\n",
    "algorithm, a backtracking problem is specified by a maximum recursion depth\n",
    "and two functions, each returning a [QuantumBool](../../reference/Quantum%20Types/QuantumBool.rst) respectively:\n",
    "\n",
    "**accept**: Is the function that returns True, if called on a node, satisfying the\n",
    "specifications.\n",
    "\n",
    "**reject**: Is the function that returns True, if called on a node, representing a\n",
    "branch that should no longer be considered.\n",
    "\n",
    "Also required is a [QuantumVariable](../../reference/Core/QuantumVariable.rst) that specifies the branches\n",
    "that can be taken by the algorithm at each node.\n",
    "\n",
    "**Node encoding**\n",
    "\n",
    "An important aspect of this algorithm is the node encoding. In Montanaro's\n",
    "paper, a central quantity is the distance from the root $\\ell(x)$. We realized that this\n",
    "doesn't generalize well to the specification of subtrees, which is why\n",
    "we encode the height of a node. In a tree with maximum depth $n$, for example, a leaf has height 0 and the root has height $n$.\n",
    "\n",
    "This quantity is encoded as a one-hot integer QuantumVariable, which can be\n",
    "found under the attribute `h`.\n",
    "\n",
    "To fully identify a node, we also need to specify the path to take starting\n",
    "at the root. This path is encoded in a [QuantumArray](../../reference/Core/QuantumArray.rst), which can be found\n",
    "under the attribute `branch_qa`. To fit into the setting of height encoding,\n",
    "this array contains the reversed path.\n",
    "\n",
    "We summarize the encoding by giving an example:\n",
    "    \n",
    "In a binary tree with depth 5, the node that has the path from the root [1,1]\n",
    "is encoded by\n",
    "\n",
    "$$\n",
    "\\ket{\\text{branch qa}} &= \\ket{0}\\ket{0}\\ket{0}\\ket{1}\\ket{1}\\\\\n",
    "\\ket{\\text{h}} = \\ket{3} &= \\ket{00010}\\\\\n",
    "\\ket{x} &= \\ket{\\text{branch qa}}\\ket{\\text{h}}\n",
    "$$\n",
    "\n",
    "\n",
    "**Details on the predicate functions**\n",
    "\n",
    "The predicate functions `accept` and `reject` must meet certain conditions\n",
    "for the algorithm to function properly:\n",
    "    \n",
    "* Both functions have to return a QuantumBool.\n",
    "* Both functions must not change the state of the tree.\n",
    "* Both functions must delete/uncompute all temporarily created QuantumVariables.\n",
    "* `accept` and `reject` must never return `True` on the same node.\n",
    "\n",
    "More details for the Qrisp interface to quantum backtracking (including visualisation features) can be found in the QuantumBacktrackingTree documentation."
   ]
  },
  {
   "cell_type": "markdown",
   "id": "0f46fd6e",
   "metadata": {},
   "source": [
    "## Quantum backtracking for solving a Sudoku puzzle\n",
    "\n",
    "Now that we understood each separate element of the problem, we can start putting them together. Since most of the quantum backtracking logic is already settled with the Qrisp interface we are just left to implement the `accept` and `reject` functions.\n",
    "The first step here is to set-up a Sudoku board. To keep the algorithm still treatable with simulators, we will restrict ourselves to 4x4 Sudokus, however the traditional 9x9 is equally possible."
   ]
  },
  {
   "cell_type": "code",
   "execution_count": 3,
   "id": "8807b966",
   "metadata": {},
   "outputs": [],
   "source": [
    "import numpy as np\n",
    "\n",
    "sudoku_board = np.array([[0, -1, 2, 3], [2, 3, 0, -1], [-1, 0, 3, 2], [3, -1, 1, 0]])\n",
    "\n",
    "num_empty_fields = np.count_nonzero(sudoku_board == -1)"
   ]
  },
  {
   "cell_type": "markdown",
   "id": "a800fc6a",
   "metadata": {},
   "source": [
    "This array represents a Sudoku board with 3 empty fields, that are to be filled. Assuming, that we already have the `accept` and `reject` functions that we will construct below, we encode this Sudoku puzzle:\n",
    "\n",
    "```python\n",
    "from qrisp import *\n",
    "from qrisp.quantum_backtracking import QuantumBacktrackingTree as QBT\n",
    "\n",
    "tree = QBT(max_depth = num_empty_fields+1,\n",
    "           branch_qv = QuantumFloat(2),\n",
    "           accept = accept,\n",
    "           reject = reject)\n",
    "```"
   ]
  },
  {
   "cell_type": "markdown",
   "id": "eb144cda",
   "metadata": {},
   "source": [
    "Here, the statement `branch_qv = QuantumFloat(2)` indicates, that each assignment of the backtracking problem is a 2-qubit integer. These assignments are saved in a QuantumArray of size `max_depth`. We have to add one additional entry because of reasons that will soon become clear.\n",
    "\n",
    "### The accept function\n",
    "\n",
    "This function is rather simple: A Sudoku board is solved correctly if all entries are filled with numbers that do not contradict the rules of Sudoku. In backtracking language this means, that a node is accepted if it has height $0$ and none of its ancestor nodes were rejected. Thus, the implementation of this function is rather simple:"
   ]
  },
  {
   "cell_type": "code",
   "execution_count": 4,
   "id": "5fe6eac9",
   "metadata": {},
   "outputs": [],
   "source": [
    "from qrisp import *\n",
    "\n",
    "\n",
    "@auto_uncompute\n",
    "def accept(tree):\n",
    "    return tree.h == 0"
   ]
  },
  {
   "cell_type": "markdown",
   "id": "a2b479e1",
   "metadata": {},
   "source": [
    "However, there is a caveat for practical reasons: While Montanaro suggests that the algorithm should never explore rejected nodes, in our implementation rejected nodes are explored but have no children. As described above, we need to pick the depth to be $n = k + 1$ where $k$ is the number of empty fields in the Sudoku board. Otherwise, i.e., if $n = k$, the sibling nodes of the solution might be rejected. Because of this fact, the algorithm will still explore them and evaluate `accept` to `True` (because they have height 0), leading to the ambiguous situation that a node returns `True` for both `reject` and `accept`.\n",
    "\n",
    "### The reject function\n",
    "\n",
    "The `reject` function is more complicated because this function needs to consider the Sudoku board and check whether all the assignments are in compliance with the rules of Sudoku. Another layer of complexity is introduced by the fact that the `reject` function should only consider entries that have already been assigned. To keep our presentation comprehensive, we will first implement a function, which checks a fully assigned Sudoku board and then modify this function such that it can also ignore non-assigned values.\n",
    "\n",
    "### Mapping to a graph-coloring problem\n",
    "\n",
    "To check the compliance of a fully assigned Sudoku board (encoded in `branch_qa`), the first step is to transform it into a graph-coloring problem. This implies that we represent each entry of the Sudoku board (given or assigned) as a node of an undirected graph $G$. The rules of Sudoku (columns, rows, and squares containing only distinct entries) are then included by adding an edge to $G$ for each comparison that needs to be performed to assert distinctness of the elements."
   ]
  },
  {
   "cell_type": "code",
   "execution_count": 5,
   "id": "48978843",
   "metadata": {},
   "outputs": [],
   "source": [
    "import networkx as nx\n",
    "\n",
    "\n",
    "def sudoku_to_graph(sudoku_board):\n",
    "    \"\"\"\n",
    "    Convert a 4x4 Sudoku problem into a graph coloring problem using networkx.\n",
    "\n",
    "    Parameters:\n",
    "    - sudoku_board: 4x4 numpy array with numbers 0 to 3 for set fields and -1 for empty fields.\n",
    "\n",
    "    Returns:\n",
    "    - G: networkx graph representing the Sudoku problem.\n",
    "    - empty_nodes: list of nodes corresponding to the empty fields.\n",
    "    \"\"\"\n",
    "\n",
    "    # Create an empty graph\n",
    "    G = nx.Graph()\n",
    "    empty_nodes = []\n",
    "    # Add nodes and edges\n",
    "    for i in range(4):\n",
    "        for j in range(4):\n",
    "            if sudoku_board[i, j] == -1:\n",
    "\n",
    "                # Add node for each empty cell\n",
    "                node = (i, j)\n",
    "                empty_nodes.append(node)\n",
    "                G.add_node(node)\n",
    "\n",
    "                # Connect to nodes in the same row\n",
    "                for k in range(4):\n",
    "                    if k != j:\n",
    "\n",
    "                        # This distincts, wether it is a quantum-quantum or a\n",
    "                        # classical quantum comparison.\n",
    "                        # Multiple classical-quantum comparisons can be executed\n",
    "                        # in a single QuantumDictionary call\n",
    "                        if sudoku_board[i, k] == -1:\n",
    "                            G.add_edge(node, (i, k), edge_type=\"qq\")\n",
    "                        else:\n",
    "                            G.add_edge(node, (i, k), edge_type=\"cq\")\n",
    "\n",
    "                # Connect to nodes in the same column\n",
    "                for k in range(4):\n",
    "                    if k != i:\n",
    "                        if sudoku_board[k, j] == -1:\n",
    "                            G.add_edge(node, (k, j), edge_type=\"qq\")\n",
    "                        else:\n",
    "                            G.add_edge(node, (k, j), edge_type=\"cq\")\n",
    "\n",
    "                # Connect to nodes in the same 2x2 subgrid\n",
    "                subgrid_start_row = (i // 2) * 2\n",
    "                subgrid_start_col = (j // 2) * 2\n",
    "                for k in range(subgrid_start_row, subgrid_start_row + 2):\n",
    "                    for l in range(subgrid_start_col, subgrid_start_col + 2):\n",
    "                        if (k, l) != node:\n",
    "                            if sudoku_board[k, l] == -1:\n",
    "                                G.add_edge(node, (k, l), edge_type=\"qq\")\n",
    "                            else:\n",
    "                                G.add_edge(node, (k, l), edge_type=\"cq\")\n",
    "    return G, empty_nodes"
   ]
  },
  {
   "cell_type": "markdown",
   "id": "74ce50ba",
   "metadata": {},
   "source": [
    "For obvious reasons, we add an edge only if at least one of the participating nodes represents an assigned field. Furthermore, we distinguish between quantum-quantum edges, i.e., a comparison between two empty fields,  and classical-quantum edges. This is because for any given node the latter type can be batched together into a single [QuantumDictionary](../../reference/Core/QuantumDictionary.rst) call. To capture this fact, we write a helper function, which extracts the comparisons in the following form:\n",
    "\n",
    "* quantum-quantum comparisons in the form `list[(int, int)]` where the integers indicate the position of the corresponding empty field\n",
    "* classical-quantum comparisons in the form `dict({int : list[int]})`. Here the keys of the dictionary indicate the position of the corresponding empty field and the values are the list of numbers to compare to."
   ]
  },
  {
   "cell_type": "code",
   "execution_count": 6,
   "id": "fe2a5fdb",
   "metadata": {},
   "outputs": [],
   "source": [
    "def extract_comparisons(sudoku_board):\n",
    "    \"\"\"\n",
    "    Takes a Sudoku board in the form of a numpy array\n",
    "    where the empty fields are indicated by the value -1.\n",
    "\n",
    "    Returns two lists:\n",
    "    1. The quantum-quantum comparisons in the form of a list[(int, int)]\n",
    "    2. The batched classical-quantum comparisons in the form dict({int : list[int]})\n",
    "    \"\"\"\n",
    "\n",
    "    num_empty_fields = np.count_nonzero(sudoku_board == -1)\n",
    "\n",
    "    # Generate the comparison graph\n",
    "    graph, empty_nodes = sudoku_to_graph(sudoku_board)\n",
    "\n",
    "    # Generate the list of required comparisons\n",
    "\n",
    "    # This dictionary contains the classical-quantum comparisons for each\n",
    "    # quantum entry\n",
    "    cq_checks = {\n",
    "        q_assignment_index: [] for q_assignment_index in range(num_empty_fields)\n",
    "    }\n",
    "\n",
    "    # This dictionary contains the quantum-quantum comparisons as tuples\n",
    "    qq_checks = []\n",
    "\n",
    "    # Each edge of the graph corresponds to a comparison.\n",
    "    # We therefore iterate over the edges distinguish between the classical-quantum\n",
    "    # and quantum-quantum comparisons\n",
    "\n",
    "    for edge in graph.edges():\n",
    "        edge_type = graph.get_edge_data(*edge)[\"edge_type\"]\n",
    "\n",
    "        # Append the quantum-quantum comparison to the corresponding list\n",
    "        if edge_type == \"qq\":\n",
    "            assigment_index_0 = empty_nodes.index(edge[0])\n",
    "            assigment_index_1 = empty_nodes.index(edge[1])\n",
    "\n",
    "            qq_checks.append((assigment_index_0, assigment_index_1))\n",
    "\n",
    "        # Append the classical quantum comparison to the corresponding dictionary\n",
    "        elif edge_type == \"cq\":\n",
    "\n",
    "            if sudoku_board[edge[1]] == -1:\n",
    "                q_assignment_index = empty_nodes.index(edge[1])\n",
    "                cq_checks[q_assignment_index].append(sudoku_board[edge[0]])\n",
    "            else:\n",
    "                q_assignment_index = empty_nodes.index(edge[0])\n",
    "                cq_checks[q_assignment_index].append(sudoku_board[edge[1]])\n",
    "\n",
    "    return qq_checks, cq_checks"
   ]
  },
  {
   "cell_type": "markdown",
   "id": "fa154950",
   "metadata": {},
   "source": [
    "### Evaluating the comparisons\n",
    "\n",
    "The next step is to evaluate the comparisons to check for element distinctness. This means that we iterate over the edges of the graph and compute a QuantumBool for each edge indicating distinctness of the two connected nodes.\n",
    "For this, we distinguish between the quantum-quantum and the classical-quantum comparison cases. For the first case, we simply call the `==` operator on the two participating quantum variables to compute the comparison QuantumBool."
   ]
  },
  {
   "cell_type": "code",
   "execution_count": 7,
   "id": "2cb9c8bf",
   "metadata": {},
   "outputs": [],
   "source": [
    "def eval_qq_checks(qq_checks, q_assigments):\n",
    "    \"\"\"\n",
    "    Batched cq_checks is a list of the form\n",
    "\n",
    "    [(int, int)]\n",
    "\n",
    "    Where each tuple entry corresponds the index\n",
    "    of the quantum value that should be compared.\n",
    "    q_assigments is a QuantumArray of QuantumFloats,\n",
    "    containing the assignments of the Sudoku field.\n",
    "    \"\"\"\n",
    "    # Create result list\n",
    "    res_qbls = []\n",
    "\n",
    "    # Iterate over all comparison tuples\n",
    "    # to evaluate the comparisons.\n",
    "    for ind_0, ind_1 in qq_checks:\n",
    "        # Evaluate the comparison\n",
    "        eq_qbl = q_assigments[ind_0] == q_assigments[ind_1]\n",
    "        res_qbls.append(eq_qbl)\n",
    "\n",
    "    # Return results\n",
    "    return res_qbls"
   ]
  },
  {
   "cell_type": "markdown",
   "id": "0efac84f",
   "metadata": {},
   "source": [
    "We test the functionality:"
   ]
  },
  {
   "cell_type": "code",
   "execution_count": 8,
   "id": "a21064b2",
   "metadata": {},
   "outputs": [
    {
     "name": "stdout",
     "output_type": "stream",
     "text": [
      "{False: 1.0}                                                                         \u001b[2K\n",
      "{True: 1.0}                                                                          \u001b[2K\n",
      "{False: 1.0}                                                                         \u001b[2K\n"
     ]
    }
   ],
   "source": [
    "q_assigments = QuantumArray(qtype=QuantumFloat(2), shape=(3,))\n",
    "\n",
    "q_assigments[:] = [3, 2, 3]\n",
    "\n",
    "comparison_bools = eval_qq_checks([(0, 1), (0, 2), (1, 2)], q_assigments)\n",
    "\n",
    "for qbl in comparison_bools:\n",
    "    print(qbl)\n",
    "\n",
    "# Yields\n",
    "# {False: 1.0}\n",
    "# {True: 1.0}\n",
    "# {False: 1.0}"
   ]
  },
  {
   "cell_type": "markdown",
   "id": "a2ea095c",
   "metadata": {},
   "source": [
    "As mentioned earlier, classical-quantum comparisons can be batched together to be evaluated in a single function call. This is performed using the QuantumDictionary class. For this, we create a function that receives a QuantumVariable and a list of classical values and returns a QuantumBool indicating, whether the quantum value is contained in the classical list:"
   ]
  },
  {
   "cell_type": "code",
   "execution_count": 9,
   "id": "7e0c5432",
   "metadata": {},
   "outputs": [],
   "source": [
    "def cq_eq_check(q_value, cl_values):\n",
    "    \"\"\"\n",
    "    Receives a QuantumVariable and a list of classical\n",
    "    values and returns a QuantumBool, indicating whether\n",
    "    the value of the QuantumVariable is contained in the\n",
    "    list of classical values\n",
    "    \"\"\"\n",
    "\n",
    "    if len(cl_values) == 0:\n",
    "        # If there are no values to compare with, we\n",
    "        # return False\n",
    "        return QuantumBool()\n",
    "\n",
    "    # Create dictionary\n",
    "    qd = QuantumDictionary(return_type=QuantumBool())\n",
    "\n",
    "    # Determine the values that q_value can assume\n",
    "    value_range = [q_value.decoder(i) for i in range(2**q_value.size)]\n",
    "\n",
    "    # Fill dictionary with entries\n",
    "    for value in value_range:\n",
    "        if value in cl_values:\n",
    "            qd[value] = True\n",
    "        else:\n",
    "            qd[value] = False\n",
    "\n",
    "    # Evaluate dictionary with quantum value\n",
    "    return qd[q_value]"
   ]
  },
  {
   "cell_type": "markdown",
   "id": "a4eb5214",
   "metadata": {},
   "source": [
    "We test the functionality:"
   ]
  },
  {
   "cell_type": "code",
   "execution_count": 10,
   "id": "f4b573af",
   "metadata": {},
   "outputs": [
    {
     "name": "stdout",
     "output_type": "stream",
     "text": [
      "sqrt(2)*(|0>*|False> + |1>*|True>)/2                                                 \u001b[2K\n"
     ]
    }
   ],
   "source": [
    "q_value = QuantumFloat(2)\n",
    "q_value[:] = {0: 1 / 2**0.5, 1: 1 / 2**0.5}\n",
    "cl_values = [1, 2, 3]\n",
    "\n",
    "res_qbl = cq_eq_check(q_value, cl_values)\n",
    "\n",
    "print(res_qbl.qs.statevector())\n",
    "# sqrt(2)*(|0>*|False> + |1>*|True>)/2"
   ]
  },
  {
   "cell_type": "markdown",
   "id": "8ef6f9e5",
   "metadata": {},
   "source": [
    "The next step is to write a function, which performs multiple of these checks and returns a list of QuantumBool similar to the quantum-quantum case."
   ]
  },
  {
   "cell_type": "code",
   "execution_count": 11,
   "id": "b56b6137",
   "metadata": {},
   "outputs": [],
   "source": [
    "def eval_cq_checks(batched_cq_checks, q_assigments):\n",
    "    \"\"\"\n",
    "    Batched cq_checks is a dictionary of the form\n",
    "\n",
    "    {int : list[int]}\n",
    "\n",
    "    Where each key/value pair corresponds to\n",
    "    one batched quantum-classical comparison.\n",
    "    The keys represent the the quantum values\n",
    "    as indices of q_assigments and the values\n",
    "    are the list of classical values that\n",
    "    the quantum value should be compared with.\n",
    "    q_assigments and height are the quantum values\n",
    "    that specify the state of the tree.\n",
    "    \"\"\"\n",
    "    # Create result list\n",
    "    res_qbls = []\n",
    "\n",
    "    # Iterate over all key/value pairs to evaluate\n",
    "    # the comparisons.\n",
    "    for key, value in batched_cq_checks.items():\n",
    "        # Evaluate the comparison\n",
    "        eq_qbl = cq_eq_check(q_assigments[key], value)\n",
    "        res_qbls.append(eq_qbl)\n",
    "\n",
    "    # Return results\n",
    "    return res_qbls"
   ]
  },
  {
   "cell_type": "markdown",
   "id": "3c792157",
   "metadata": {},
   "source": [
    "We test the functionality:"
   ]
  },
  {
   "cell_type": "code",
   "execution_count": null,
   "id": "801bf334",
   "metadata": {},
   "outputs": [
    {
     "name": "stdout",
     "output_type": "stream",
     "text": [
      "{False: 1.0}                                                                         \u001b[2K\n",
      "{True: 1.0}                                                                          \u001b[2K\n",
      "{True: 1.0}                                                                          \u001b[2K\n"
     ]
    }
   ],
   "source": [
    "q_assigments = QuantumArray(qtype=QuantumFloat(2), shape=(3,))\n",
    "q_assigments[:] = np.arange(3)\n",
    "\n",
    "res_qbls = eval_cq_checks({0: [1, 2, 3], 1: [1, 2, 3], 2: [1, 2, 3]}, q_assigments)\n",
    "\n",
    "for qbl in res_qbls:\n",
    "    print(qbl)"
   ]
  },
  {
   "cell_type": "markdown",
   "id": "1b4f75a3",
   "metadata": {},
   "source": [
    "We can now write the function that checks the Sudoku board."
   ]
  },
  {
   "cell_type": "code",
   "execution_count": 13,
   "id": "21131711",
   "metadata": {},
   "outputs": [],
   "source": [
    "def check_sudoku_assignments(sudoku_board, q_assigments):\n",
    "    \"\"\"\n",
    "    Takes a Sudoku board in the form of a numpy array\n",
    "    where the empty fields are indicated by the value -1.\n",
    "\n",
    "    Furthermore, q_assigments is a QuantumArray of type\n",
    "    type QuantumFloat, describing the assignments.\n",
    "\n",
    "    The function returns a QuantumBool, indicating whether\n",
    "    the assigments are a valid Sudoku solution.\n",
    "    \"\"\"\n",
    "\n",
    "    num_empty_fields = np.count_nonzero(sudoku_board == -1)\n",
    "\n",
    "    if num_empty_fields != len(q_assigments):\n",
    "        raise Exception(\"Number of empty field and length of assigment array disagree.\")\n",
    "\n",
    "    # Generate the comparisons\n",
    "    qq_checks, cq_checks = extract_comparisons(sudoku_board)\n",
    "\n",
    "    # Evaluate the comparisons\n",
    "    comparison_qbls = []\n",
    "\n",
    "    # quantum-quantum\n",
    "    comparison_qbls += eval_qq_checks(qq_checks, q_assigments)\n",
    "\n",
    "    # classical-quantum\n",
    "    comparison_qbls += eval_cq_checks(cq_checks, q_assigments)\n",
    "\n",
    "    # Allocate result\n",
    "    sudoku_valid = QuantumBool()\n",
    "\n",
    "    # Compute the result\n",
    "    mcx(comparison_qbls, sudoku_valid, ctrl_state=0, method=\"balauca\")\n",
    "\n",
    "    return sudoku_valid"
   ]
  },
  {
   "cell_type": "markdown",
   "id": "9891eb84",
   "metadata": {},
   "source": [
    "We test the functionality:"
   ]
  },
  {
   "cell_type": "code",
   "execution_count": 14,
   "id": "b8adc99e",
   "metadata": {},
   "outputs": [
    {
     "name": "stdout",
     "output_type": "stream",
     "text": [
      "{True: 1.0}                                                                          \u001b[2K\n",
      "{False: 1.0}                                                                         \u001b[2K\n"
     ]
    }
   ],
   "source": [
    "q_assignments = QuantumArray(qtype=QuantumFloat(2), shape=(4,))\n",
    "q_assignments[:] = [1, 1, 1, 2]\n",
    "\n",
    "sudoku_check = check_sudoku_assignments(sudoku_board, q_assignments)\n",
    "print(sudoku_check)\n",
    "# Yields {True: 1.0}\n",
    "\n",
    "# Another check\n",
    "\n",
    "q_assignments = QuantumArray(qtype=QuantumFloat(2), shape=(4,))\n",
    "q_assignments[:] = [1, 2, 1, 0]\n",
    "\n",
    "sudoku_check = check_sudoku_assignments(sudoku_board, q_assignments)\n",
    "print(sudoku_check)\n",
    "# Yields {False: 1.0}"
   ]
  },
  {
   "cell_type": "markdown",
   "id": "994d020c",
   "metadata": {},
   "source": [
    "So far so good! This could have already been used in a Grover based implementation, but as discussed before, we want to utilize the **structure** of the problem!\n",
    "\n",
    "## Adaptation for Quantum Backtracking\n",
    "\n",
    "As this is a backtracking implementation, our Sudoku compliance check also has to understand that the results of certain comparisons should be ignored, since the corresponding fields are not assigned yet. For example, consider a Sudoku field with 4 empty fields, where only one field has been assigned so far. In our implementation of the algorithm, the empty fields are encoded as zeros in `branch_qa` and we only know that they are not assigned yet by considering the height QuantumVariable. The implementation of the Sudoku-check algorithm given above would therefore return \"not valid\" for almost every single node, because it assumes that the 3 remaining empty fields carry the value 0 even though in reality they have not been assigned yet. Because of that we need to also take the value of the height variable `h` into consideration, describing the height of the node in the QuantumBacktrackingTree.\n",
    "\n",
    "Fortunately, the one-hot encoding of this variable makes this rather easy: The value that has been assigned most recently is indicated by the corresponding qubit in `h` being in the $\\ket{1}$ state. For example, in a tree of maximum depth 5, if the `branch_qa` entry with height 3 has been assigned recently, `h` will be in the state $000100$. The next assignment would then be height 2, i.e. $001000$.\n",
    "For a quantum-classical comparison with the `branch_qa` entry $i$, we can therefore simply call the comparison evaluation controlled on the $i$-th qubit in `h`. This implies that this comparison can only result in `True`, and as a result cause the `reject` value to be `True` if $i$ was assigned most recently.\n",
    "\n",
    "We reformulate the classical comparison function:"
   ]
  },
  {
   "cell_type": "code",
   "execution_count": 15,
   "id": "e774bd0c",
   "metadata": {},
   "outputs": [],
   "source": [
    "def eval_cq_checks(batched_cq_checks, q_assigments, h):\n",
    "    \"\"\"\n",
    "    Batched cq_checks is a dictionary of the form\n",
    "\n",
    "    {int : list[int]}\n",
    "\n",
    "    Each key/value pair corresponds to\n",
    "    one batched quantum-classical comparison.\n",
    "    The keys represent the the quantum values\n",
    "    as indices of q_assigments and the values\n",
    "    are the list of classical values that\n",
    "    the quantum value should be compared with.\n",
    "    q_assigments and height are the quantum values\n",
    "    that specify the state of the tree.\n",
    "    \"\"\"\n",
    "    # Create result list\n",
    "    res_qbls = []\n",
    "\n",
    "    # Iterate over all key/value pairs to evaluate\n",
    "    # the comparisons.\n",
    "    for key, value in batched_cq_checks.items():\n",
    "        # Enter the control environment\n",
    "        with control(h[key]):\n",
    "            # Evaluate the comparison\n",
    "            eq_qbl = cq_eq_check(q_assigments[key], value)\n",
    "        res_qbls.append(eq_qbl)\n",
    "\n",
    "    # Return results\n",
    "    return res_qbls"
   ]
  },
  {
   "cell_type": "markdown",
   "id": "fb1ba270",
   "metadata": {},
   "source": [
    "The code example above demonstrates a function that takes a dictionary representing the batched quantum-classical equality checks, the `QuantumArray branch_qa`, and the QuantumVariable `h` as input. It returns a list of of QuantumBool that represent the result of the comparisons. Note the line `with control(h[key]):` which enters a ControlEnvironment. This means that every quantum instruction that happens in the indented area is controlled on the qubit `h[key]`. As described above, this feature ensures that the comparison of values that are not assigned yet cannot contribute to the result of the `reject` function.\n",
    "\n",
    "We adopt a similar approach for the quantum-quantum comparison. For a comparison between the $i$-th and $j$-th position, we control the comparison on the $k$-th qubit of the `h` variable where $k = \\text{min}(i,j)$. This way only comparisons are executed on recently assigned variables, preventing rejections for cases involving variables that are either not assigned at all or not recently assigned. For more details, consult the corresponding section of the paper."
   ]
  },
  {
   "cell_type": "code",
   "execution_count": 16,
   "id": "2fe04d35",
   "metadata": {},
   "outputs": [],
   "source": [
    "def eval_qq_checks(qq_checks, q_assigments, h):\n",
    "    \"\"\"\n",
    "    Batched cq_checks is a list of the form\n",
    "\n",
    "    [(int, int)]\n",
    "\n",
    "    Where each tuple entry corresponds the index\n",
    "    of the quantum value that should be compared.\n",
    "    branch_qa and height are the quantum values\n",
    "    that specify the tree state.\n",
    "    \"\"\"\n",
    "    # Create result list\n",
    "    res_qbls = []\n",
    "\n",
    "    # Iterate over all comparison tuples\n",
    "    # to evaluate the comparisons.\n",
    "    for ind_0, ind_1 in qq_checks:\n",
    "        # Enter the control environment\n",
    "        with control(h[min(ind_0, ind_1)]):\n",
    "            # Evaluate the comparison\n",
    "            eq_qbl = q_assigments[ind_0] == q_assigments[ind_1]\n",
    "        res_qbls.append(eq_qbl)\n",
    "\n",
    "    # Return results\n",
    "    return res_qbls"
   ]
  },
  {
   "cell_type": "markdown",
   "id": "4ccb104c",
   "metadata": {},
   "source": [
    "Similarly to the previous case, we can now create the Sudoku checking function but this time ignoring all the non-assigned values."
   ]
  },
  {
   "cell_type": "code",
   "execution_count": 17,
   "id": "b5e37f02",
   "metadata": {},
   "outputs": [],
   "source": [
    "def check_singular_sudoku_assignment(sudoku_board, q_assigments, h):\n",
    "    \"\"\"\n",
    "    Takes the following arguments:\n",
    "\n",
    "    1. sudoku_board is Sudoku board in the form of a numpy array\n",
    "    where the empty fields are indicated by the value -1.\n",
    "\n",
    "    2. q_assigments is a QuantumArray of type\n",
    "    type QuantumFloat, describing the assignments.\n",
    "\n",
    "    3. h is a one-hot encoded QuantumVariable representing, which\n",
    "    assignment should be checked for validity\n",
    "\n",
    "    The function returns a QuantumBool, indicating whether\n",
    "    the assigment indicated by h respects the rules of Sudoku.\n",
    "    \"\"\"\n",
    "\n",
    "    num_empty_fields = np.count_nonzero(sudoku_board == -1)\n",
    "\n",
    "    if num_empty_fields != len(q_assigments):\n",
    "        raise Exception(\"Number of empty field and length of assigment array disagree.\")\n",
    "\n",
    "    # Generate the comparisons\n",
    "    qq_checks, cq_checks = extract_comparisons(sudoku_board)\n",
    "\n",
    "    # Evaluate the comparisons\n",
    "    comparison_qbls = []\n",
    "\n",
    "    # quantum-quantum\n",
    "    comparison_qbls += eval_qq_checks(qq_checks, q_assigments, h)\n",
    "\n",
    "    # classical-quantum\n",
    "    comparison_qbls += eval_cq_checks(cq_checks, q_assigments, h)\n",
    "\n",
    "    # Allocate result\n",
    "    sudoku_valid = QuantumBool()\n",
    "\n",
    "    # Compute the result\n",
    "    mcx(comparison_qbls, sudoku_valid, ctrl_state=0, method=\"balauca\")\n",
    "\n",
    "    return sudoku_valid"
   ]
  },
  {
   "cell_type": "markdown",
   "id": "d26b2b8a",
   "metadata": {},
   "source": [
    "We can now test it:"
   ]
  },
  {
   "cell_type": "code",
   "execution_count": 18,
   "id": "3a5820ed",
   "metadata": {},
   "outputs": [
    {
     "name": "stdout",
     "output_type": "stream",
     "text": [
      "{True: 1.0}                                                                          \u001b[2K\n"
     ]
    }
   ],
   "source": [
    "q_assigments = QuantumArray(qtype=QuantumFloat(2), shape=(4,))\n",
    "q_assigments[:] = [0, 0, 1, 2]\n",
    "\n",
    "from qrisp.quantum_backtracking import OHQInt\n",
    "\n",
    "h = OHQInt(4)\n",
    "h[:] = 2\n",
    "\n",
    "test_qbl = check_singular_sudoku_assignment(sudoku_board, q_assigments, h)\n",
    "\n",
    "print(test_qbl)\n",
    "# Yields {True: 1.0}"
   ]
  },
  {
   "cell_type": "markdown",
   "id": "83935a56",
   "metadata": {},
   "source": [
    "Even though the first two entries are 0 and they are in the same quadrant, their comparisons is not evaluated so our function still returns `True` because the assignment corresponding to height 2 passes all the checks. We can repeat the experiment with an invalid assignment at height 2."
   ]
  },
  {
   "cell_type": "code",
   "execution_count": 19,
   "id": "5be0f214",
   "metadata": {},
   "outputs": [
    {
     "name": "stdout",
     "output_type": "stream",
     "text": [
      "{False: 1.0}                                                                         \u001b[2K\n"
     ]
    }
   ],
   "source": [
    "q_assigments = QuantumArray(qtype=QuantumFloat(2), shape=(4,))\n",
    "q_assigments[:] = [0, 0, 2, 2]\n",
    "\n",
    "from qrisp.quantum_backtracking import OHQInt\n",
    "\n",
    "h = OHQInt(4)\n",
    "h[:] = 2\n",
    "\n",
    "test_qbl = check_singular_sudoku_assignment(sudoku_board, q_assigments, h)\n",
    "\n",
    "print(test_qbl)\n",
    "# Yields {False: 1.0}"
   ]
  },
  {
   "cell_type": "markdown",
   "id": "c2cebc3f",
   "metadata": {},
   "source": [
    "We can therefore now finally formulate our reject function:"
   ]
  },
  {
   "cell_type": "code",
   "execution_count": 20,
   "id": "29c1c4df",
   "metadata": {},
   "outputs": [],
   "source": [
    "@auto_uncompute\n",
    "def reject(tree):\n",
    "\n",
    "    # Cut off the assignment with height 0\n",
    "    # since it is not relevant for the sudoku\n",
    "    # checker\n",
    "    q_assigments = tree.branch_qa[1:]\n",
    "\n",
    "    # Modify the height to reflect the cut off\n",
    "    modified_height = tree.h[1:]\n",
    "\n",
    "    assignment_valid = check_singular_sudoku_assignment(\n",
    "        sudoku_board, q_assigments, modified_height\n",
    "    )\n",
    "    return assignment_valid.flip()"
   ]
  },
  {
   "cell_type": "markdown",
   "id": "cf6d336b",
   "metadata": {},
   "source": [
    "### Finding a solution \n",
    "\n",
    "Finally, with the accept and reject funtions, we can encode our Sudoku puzzle as a backtracking tree and **detect** the existence of a solution.\n",
    "For this, the tree is initialized in the state $\\ket{r}$ (indicating the root) and quantum phase estimation (QPE) for the quantum walk operator with the specified `precision` is applied.\n",
    "The algorithm returns \"Solution exists\" if the 0 component of the quantum phase estimation result\n",
    "has a higher probability then 3/8 = 0.375. If the probability is less than 0.25, the algorithm returns \"No solution exists\". Otherwise, the precision of the phase estimation has to be increased. To make the result still simulable on a laptop, we will decrease the amount of empty fields to 3. If you want to try higher more empty fields, we recommend using the Qiskit Aer MPS simulator. Find out how to deploy it using the [QiskitBackend](../../reference/Backend%20Interface/QiskitBackend.rst)."
   ]
  },
  {
   "cell_type": "code",
   "execution_count": 21,
   "id": "932810ec",
   "metadata": {},
   "outputs": [
    {
     "name": "stdout",
     "output_type": "stream",
     "text": [
      "Solution exists                                                                      \u001b[2K\n"
     ]
    }
   ],
   "source": [
    "# Decrease the empty field count\n",
    "sudoku_board = np.array([[0, -1, 2, 3], [2, 3, 0, -1], [1, 0, 3, 2], [3, -1, 1, 0]])\n",
    "\n",
    "num_empty_fields = np.count_nonzero(sudoku_board == -1)\n",
    "\n",
    "\n",
    "from qrisp import *\n",
    "from qrisp.quantum_backtracking import QuantumBacktrackingTree as QBT\n",
    "\n",
    "tree = QBT(\n",
    "    max_depth=num_empty_fields + 1,\n",
    "    branch_qv=QuantumFloat(2),\n",
    "    accept=accept,\n",
    "    reject=reject,\n",
    "    subspace_optimization=True,\n",
    ")\n",
    "\n",
    "# Initialize root\n",
    "tree.init_node([])\n",
    "\n",
    "# Perform QPE\n",
    "qpe_res = tree.estimate_phase(precision=3)\n",
    "\n",
    "# Retrieve measurements\n",
    "mes_res = qpe_res.get_measurement()\n",
    "\n",
    "\n",
    "if mes_res[0] > 0.375:\n",
    "    print(\"Solution exists\")\n",
    "elif mes_res[0] < 0.25:\n",
    "    print(\"No solution exists\")\n",
    "else:\n",
    "    print(\"Insufficent precision\")"
   ]
  },
  {
   "cell_type": "markdown",
   "id": "7393281d",
   "metadata": {},
   "source": [
    "To **find** a solution, we employ the `find_solution` method. This method starts by applying the `estimate_phase` function to the entrire tree (initialized in the state $\\ket{r}$) and, based on the (multi-) measurement results, recursively applies the `estimate_phase` function to subtrees in order to find a solution.\n",
    "Note that, in order to achieve a speed-up in practical scenarios, it is necessary to specify the `precision` and the number of measurements (by default 10000) for the `estimate_phase` method accordingly."
   ]
  },
  {
   "cell_type": "code",
   "execution_count": 22,
   "id": "d4c2d3a5",
   "metadata": {},
   "outputs": [
    {
     "name": "stdout",
     "output_type": "stream",
     "text": [
      "[np.int32(1), np.int32(1), np.int32(2)]                                              \u001b[2K\n"
     ]
    }
   ],
   "source": [
    "from qrisp import *\n",
    "from qrisp.quantum_backtracking import QuantumBacktrackingTree as QBT\n",
    "\n",
    "tree = QBT(\n",
    "    max_depth=num_empty_fields + 1,\n",
    "    branch_qv=QuantumFloat(2),\n",
    "    accept=accept,\n",
    "    reject=reject,\n",
    "    subspace_optimization=True,\n",
    ")\n",
    "\n",
    "sol = tree.find_solution(precision=3)\n",
    "print(sol[::-1][1:])\n",
    "# Yields [1, 1, 2]"
   ]
  },
  {
   "cell_type": "markdown",
   "id": "0a17fbc5",
   "metadata": {},
   "source": [
    "With this, we can find the solution for Sudoku problems with up to 3 empty fields with the statevector simulator on our local computer. For instances with more empty fields, we can still find the solution with a matrix product state simulator that can be employd with the `measurement_kwargs` keyword.\n",
    "\n",
    "Well done on completing our quantum Sudoku-solving tutorial! You're now part of an exclusive club, as this is the only guide of its kind available online. Pretty cool, huh? Remember, what makes quantum computing so exciting is how it taps into the unique structure of problems (like how we utilized the problem structure above). By understanding this, you're diving headfirst into a world where quantum algorithms could outshine their classical counterparts."
   ]
  }
 ],
 "metadata": {
  "kernelspec": {
   "display_name": ".venv",
   "language": "python",
   "name": "python3"
  },
  "language_info": {
   "codemirror_mode": {
    "name": "ipython",
    "version": 3
   },
   "file_extension": ".py",
   "mimetype": "text/x-python",
   "name": "python",
   "nbconvert_exporter": "python",
   "pygments_lexer": "ipython3",
   "version": "3.11.9"
  }
 },
 "nbformat": 4,
 "nbformat_minor": 5
}
