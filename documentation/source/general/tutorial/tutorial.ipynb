{
 "cells": [
  {
   "cell_type": "markdown",
   "id": "835fd05f",
   "metadata": {},
   "source": [
    "# Getting familiar with Qrisp\n",
    "\n",
    "Congratulations, you made it to your first Qrisp tutorial! This tutorial is designed to provide you with a hands-on understanding of how to use Qrisp for all things quantum. In this tutorial, you will create a QuantumVariable, solve a quadratic equation using Grover's algorithm, and delve into the Quantum Phase Estimation algorithm. \n",
    "\n",
    "We'll start by introducing you to the concept of a QuantumVariable and how it forms the basis of quantum computing in Qrisp. Next, we'll explore Grover's algorithm, a quantum algorithm that provides a quadratic speedup for unstructured search problems. You'll learn how to construct an oracle and use it within Grover's algorithm to solve a quadratic equation. Finally, we'll visit the Quantum Phase Estimation algorithm, a key subroutine in many other quantum algorithms and an essential tool in quantum computing.\n",
    "\n",
    "By the end of this tutorial, you'll have a solid understanding of Qrisp's fundamental concepts and be well-equipped to tackle more complex problems and implement the Quantum Approximate Optimization Algorithm with some Qrisp exclusive mixers using our framework."
   ]
  },
  {
   "cell_type": "markdown",
   "id": "d833851b",
   "metadata": {},
   "source": [
    "## Creating a QuantumVariable\n",
    "\n",
    "The central building block of Qrisp algorithms is the [QuantumVariable](../../reference/Core/QuantumVariable.rst). A QuantumVariable hides the qubit management from the user, enables human readable in- and outputs, strong typing via class inheritance, infix arithmetic syntax and much more. Creating a QuantumVariable is simple:"
   ]
  },
  {
   "cell_type": "code",
   "execution_count": 1,
   "id": "bf653723",
   "metadata": {},
   "outputs": [],
   "source": [
    "from qrisp import QuantumVariable\n",
    "\n",
    "qv = QuantumVariable(5)"
   ]
  },
  {
   "cell_type": "markdown",
   "id": "d1147606",
   "metadata": {},
   "source": [
    "Here, 5 refers to the number of qubits the QuantumVariable represents.\n",
    "QuantumVariables allow for convenient quantum function construction and evaluation, since a QuantumVariable carries all the information that is relevant for performing quantum operations on it.\n",
    "\n",
    "QuantumVariables can be low-level manipulated by calling [gate application functions](../../reference/Primitives/Gate%20functions.rst) on them:"
   ]
  },
  {
   "cell_type": "code",
   "execution_count": 2,
   "id": "769b4a6f",
   "metadata": {},
   "outputs": [
    {
     "data": {
      "text/plain": [
       "(Qubit(qv.0), Qubit(qv.3))"
      ]
     },
     "execution_count": 2,
     "metadata": {},
     "output_type": "execute_result"
    }
   ],
   "source": [
    "from qrisp import h, z, cx\n",
    "\n",
    "h(qv[0])\n",
    "z(qv)\n",
    "cx(qv[0], qv[3])"
   ]
  },
  {
   "cell_type": "markdown",
   "id": "145b2654",
   "metadata": {},
   "source": [
    "Note that the Z gate is applied to all qubits of `qv` since there is no qubit specified.\n",
    "\n",
    "In order to take a look at the generated circuit, we call `print` on the [QuantumSession](../../reference/Core/QuantumSession.rst) in which `qv` is registered:"
   ]
  },
  {
   "cell_type": "code",
   "execution_count": 3,
   "id": "07fb689d",
   "metadata": {},
   "outputs": [
    {
     "name": "stdout",
     "output_type": "stream",
     "text": [
      "QuantumCircuit:\n",
      "---------------\n",
      "      ┌───┐┌───┐     \n",
      "qv.0: ┤ H ├┤ Z ├──■──\n",
      "      ├───┤└───┘  │  \n",
      "qv.1: ┤ Z ├───────┼──\n",
      "      ├───┤       │  \n",
      "qv.2: ┤ Z ├───────┼──\n",
      "      ├───┤     ┌─┴─┐\n",
      "qv.3: ┤ Z ├─────┤ X ├\n",
      "      ├───┤     └───┘\n",
      "qv.4: ┤ Z ├──────────\n",
      "      └───┘          \n",
      "Live QuantumVariables:\n",
      "----------------------\n",
      "QuantumVariable qv\n"
     ]
    }
   ],
   "source": [
    "print(qv.qs)"
   ]
  },
  {
   "cell_type": "markdown",
   "id": "cb4ffb45",
   "metadata": {},
   "source": [
    "Once the QuantumVariable is not needed anymore, we can call the `delete` method, to tell the qubit manager, to free up the corresponding qubits. Calling `delete` enables the qubits of `qv` to be reused at a later point for other purposes."
   ]
  },
  {
   "cell_type": "code",
   "execution_count": 4,
   "id": "850ab0c3",
   "metadata": {},
   "outputs": [
    {
     "name": "stdout",
     "output_type": "stream",
     "text": [
      "Tried to delete qubits not in |0> state                                              \u001b[2K\n"
     ]
    }
   ],
   "source": [
    "try:\n",
    "    qv.delete(verify=True)\n",
    "except Exception as e:\n",
    "    print(e)"
   ]
  },
  {
   "cell_type": "markdown",
   "id": "c9f16942",
   "metadata": {},
   "source": [
    "If given the keyword argument `verify`, Qrisp will check if the deleted qubits are properly disentangled by querying a simulator. Note that `verify` is set to `False` by default as the simulation can be resource costly for algorithms, which are creating and destroying a lot of QuantumVariables.\n",
    "\n",
    "In this case, the qubits are not ready to use for other purposes as they still are in a non-trivial state. If `qv` is entangled to other qubits, a simple reset would result in a non-unitary collapse of superposition. We would need to perform a procedure which is commonly called uncomputation.\n",
    "\n",
    "QuantumVariables can be thought of as the abstract parent class of more special types. One example is the [QuantumChar](../../reference/Quantum Types/QuantumChar.rst):"
   ]
  },
  {
   "cell_type": "code",
   "execution_count": 5,
   "id": "a172eff5",
   "metadata": {},
   "outputs": [],
   "source": [
    "from qrisp import QuantumChar\n",
    "\n",
    "qch = QuantumChar()"
   ]
  },
  {
   "cell_type": "markdown",
   "id": "16bccdf5",
   "metadata": {},
   "source": [
    "In order to initialize `qch`, we use the slicing operator (which invokes the encode method):"
   ]
  },
  {
   "cell_type": "code",
   "execution_count": 6,
   "id": "49504a86",
   "metadata": {},
   "outputs": [],
   "source": [
    "qch[:] = \"e\""
   ]
  },
  {
   "cell_type": "markdown",
   "id": "941da155",
   "metadata": {},
   "source": [
    "We can check the content using a simple `print` call:"
   ]
  },
  {
   "cell_type": "code",
   "execution_count": 7,
   "id": "91e8fdb4",
   "metadata": {},
   "outputs": [
    {
     "name": "stdout",
     "output_type": "stream",
     "text": [
      "{'e': 1.0}                                                                           \u001b[2K\n"
     ]
    }
   ],
   "source": [
    "print(qch)"
   ]
  },
  {
   "cell_type": "markdown",
   "id": "828f4805",
   "metadata": {},
   "source": [
    "This command queries a simulator which evaluates the compiled quantum circuit. The measurement results are returned as bitstrings, which are then converted to the corresponding outcome value. Here, the 1.0 corresponds to the probability of the outcome `'e'`.\n",
    "\n",
    "In order to bring some quantumness into the script, we can entangle it to our previously created QuantumVariable:"
   ]
  },
  {
   "cell_type": "code",
   "execution_count": 8,
   "id": "7a754200",
   "metadata": {},
   "outputs": [
    {
     "name": "stdout",
     "output_type": "stream",
     "text": [
      "{'e': 0.5, 'f': 0.5}                                                                 \u001b[2K\n"
     ]
    }
   ],
   "source": [
    "cx(qv[0], qch[0])\n",
    "print(qch)"
   ]
  },
  {
   "cell_type": "markdown",
   "id": "a5fc237c",
   "metadata": {},
   "source": [
    "This brings the 0-th qubit of `qch` into a superposition and therefore `'f'` now appears with 50% probability.\n",
    "\n",
    "If we want to apply further processing to the measurement results, we can retrieve them as a dictionary using the `get_measurement` method:"
   ]
  },
  {
   "cell_type": "code",
   "execution_count": 9,
   "id": "8e6cd65c",
   "metadata": {},
   "outputs": [
    {
     "name": "stdout",
     "output_type": "stream",
     "text": [
      "                                                                                     \u001b[2K\r"
     ]
    }
   ],
   "source": [
    "results = qch.get_measurement()"
   ]
  },
  {
   "cell_type": "markdown",
   "id": "dffd6231",
   "metadata": {},
   "source": [
    "To investigate the statevector, we call the `statevector` method of the QuantumSession:"
   ]
  },
  {
   "cell_type": "code",
   "execution_count": 10,
   "id": "3341fbec",
   "metadata": {},
   "outputs": [
    {
     "name": "stdout",
     "output_type": "stream",
     "text": [
      "                                                                                     \u001b[2K\r"
     ]
    },
    {
     "data": {
      "text/latex": [
       "$\\displaystyle \\frac{\\sqrt{2} \\left({\\left|00000\\right\\rangle } {\\left|e\\right\\rangle } - {\\left|10010\\right\\rangle } {\\left|f\\right\\rangle }\\right)}{2}$"
      ],
      "text/plain": [
       "sqrt(2)*(|00000>*|e> - |10010>*|f>)/2"
      ]
     },
     "execution_count": 10,
     "metadata": {},
     "output_type": "execute_result"
    }
   ],
   "source": [
    "qch.qs.statevector()"
   ]
  },
  {
   "cell_type": "markdown",
   "id": "d48e9ce1",
   "metadata": {},
   "source": [
    "Qrisp has full compatibility to Qiskit featuring convenient importing and exporting of Qiskit [circuits](../../reference/Circuit%20Manipulation/QuantumCircuit.rst):"
   ]
  },
  {
   "cell_type": "code",
   "execution_count": 11,
   "id": "52bfb0a7",
   "metadata": {},
   "outputs": [],
   "source": [
    "qiskit_qc = qch.qs.compile().to_qiskit()"
   ]
  },
  {
   "cell_type": "markdown",
   "id": "6afcee6a",
   "metadata": {},
   "source": [
    "It is also possible to run Qrisp code directly on IBM Quantum hardware using a [QiskitBackend](../../reference/Backend%20Interface/QiskitBackend.rst), on an IQM Quantum Computer using [IQMBackend](../../reference/Backend%20Interface/IQMBackend.rst) or on an AQT Quantum Computer using [AQTBackend](../../reference/Backend%20Interface/AQTBackend.rst)."
   ]
  },
  {
   "cell_type": "code",
   "execution_count": 12,
   "id": "2ecfe1c6",
   "metadata": {},
   "outputs": [],
   "source": [
    "# Replace with your actual token\n",
    "# from qiskit_ibm_runtime import QiskitRuntimeService\n",
    "# service = QiskitRuntimeService(channel=\"ibm_cloud\", token=\"YOUR_IBM_CLOUD_TOKEN\")\n",
    "# brisbane_qiskit = service.backend(\"ibm_brisbane\")\n",
    "# from qrisp.interface import QiskitBackend\n",
    "# brisbane_qrisp = QiskitBackend(brisbane_qiskit)\n",
    "# results = qch.get_measurement(backend = brisbane_qrisp)\n",
    "# print(results)\n",
    "\n",
    "# Make sure to install qrisp with the IQM interface: pip install qrisp[iqm]\n",
    "# from qrisp.interface import IQMBackend\n",
    "# iqm_garnet = IQMBackend(api_token = \"IQM_RESONANCE_API_TOKEN\",\n",
    "#                           device_instance = \"garnet\")\n",
    "# results = qch.get_measurement(backend = iqm_garnet)\n",
    "# print(results)"
   ]
  },
  {
   "cell_type": "markdown",
   "id": "c6214968",
   "metadata": {},
   "source": [
    "And that's it - you're set with the basics and ready to build some algorithms!\n",
    "\n",
    "## Solving a quadratic equation using Grover's algorithm\n",
    "\n",
    "As a first example, we showcase how to solve the quadratic equation\n",
    "\n",
    "$$x^2 = 0.25$$\n",
    "\n",
    "using Grover's algorithm. The idea here is to prepare an oracle, that multiplies a QuantumFloat with itself and tags the desired value $c_{tag} = 0.25$. This oracle is then embedded into several Grover iterations to amplify the amplitude of the solution."
   ]
  },
  {
   "cell_type": "markdown",
   "id": "808a2d3d",
   "metadata": {},
   "source": [
    "### Oracle Construction\n",
    "\n",
    "We start with elaborating the oracle construction:"
   ]
  },
  {
   "cell_type": "code",
   "execution_count": 13,
   "id": "04fbd8e5",
   "metadata": {},
   "outputs": [],
   "source": [
    "from qrisp import auto_uncompute, z, h, QuantumFloat\n",
    "\n",
    "\n",
    "@auto_uncompute\n",
    "def sqrt_oracle(qf):\n",
    "    temp_qbool = qf * qf == 0.25\n",
    "    z(temp_qbool)"
   ]
  },
  {
   "cell_type": "markdown",
   "id": "f9d247f0",
   "metadata": {},
   "source": [
    "This oracle receives a [QuantumFloat](../../reference/Quantum%20Types/QuantumFloat.rst) `qf` and evaluates the square. Subsequently it determines whether the result is equal to 0.25, which returns the [QuantumBool](../../reference/Quantum%20Types/QuantumBool.rst) `temp_qbool`. Finally, we perform a Z gate on `temp_qbool`. Note the `auto_uncompute` decorator, which automatically uncomputes all temporary values of this function (i.e. the result of the multiplication and `temp_qbool`). You can find more information about Qrisps automatic uncomputation in [Uncomputation](../../reference/Core/Uncomputation.rst).\n",
    "\n",
    "To inspect the circuit, we create a QuantumFloat, evaluate the oracle and call `print` on the `.qs` attribute:"
   ]
  },
  {
   "cell_type": "code",
   "execution_count": 14,
   "id": "bb4e2569",
   "metadata": {},
   "outputs": [
    {
     "name": "stdout",
     "output_type": "stream",
     "text": [
      "QuantumCircuit:\n",
      "---------------\n",
      "              ┌───────────┐                            ┌──────────────┐\n",
      "        qf.0: ┤0          ├────────────────────────────┤0             ├\n",
      "              │           │                            │              │\n",
      "        qf.1: ┤1          ├────────────────────────────┤1             ├\n",
      "              │           │                            │              │\n",
      "        qf.2: ┤2          ├────────────────────────────┤2             ├\n",
      "              │           │                            │              │\n",
      "        qf.3: ┤3          ├────────────────────────────┤3             ├\n",
      "              │           │┌────────┐     ┌───────────┐│              │\n",
      "   mul_res.0: ┤4          ├┤0       ├─────┤0          ├┤4             ├\n",
      "              │           ││        │     │           ││              │\n",
      "   mul_res.1: ┤5          ├┤1       ├─────┤1          ├┤5             ├\n",
      "              │           ││        │     │           ││              │\n",
      "   mul_res.2: ┤6          ├┤2       ├─────┤2          ├┤6             ├\n",
      "              │           ││        │     │           ││              │\n",
      "   mul_res.3: ┤7          ├┤3       ├─────┤3          ├┤7             ├\n",
      "              │           ││        │     │           ││              │\n",
      "   mul_res.4: ┤8  __mul__ ├┤4       ├─────┤4          ├┤8  __mul___dg ├\n",
      "              │           ││        │     │           ││              │\n",
      "   mul_res.5: ┤9          ├┤5       ├─────┤5          ├┤9             ├\n",
      "              │           ││        │     │           ││              │\n",
      "   mul_res.6: ┤10         ├┤6       ├─────┤6          ├┤10            ├\n",
      "              │           ││  equal │     │  equal_dg ││              │\n",
      "   sbp_anc.0: ┤11         ├┤        ├─────┤           ├┤11            ├\n",
      "              │           ││        │     │           ││              │\n",
      " sbp_anc_7.0: ┤12         ├┤        ├─────┤           ├┤12            ├\n",
      "              │           ││        │     │           ││              │\n",
      " sbp_anc_8.0: ┤13         ├┤        ├─────┤           ├┤13            ├\n",
      "              │           ││        │     │           ││              │\n",
      " sbp_anc_9.0: ┤14         ├┤        ├─────┤           ├┤14            ├\n",
      "              │           ││        │     │           ││              │\n",
      "sbp_anc_10.0: ┤15         ├┤        ├─────┤           ├┤15            ├\n",
      "              │           ││        │     │           ││              │\n",
      "sbp_anc_11.0: ┤16         ├┤        ├─────┤           ├┤16            ├\n",
      "              └───────────┘│        │┌───┐│           │└──────────────┘\n",
      "    eq_qbl.0: ─────────────┤7       ├┤ Z ├┤7          ├────────────────\n",
      "                           └────────┘└───┘└───────────┘                \n",
      "Live QuantumVariables:\n",
      "----------------------\n",
      "QuantumFloat qf\n"
     ]
    }
   ],
   "source": [
    "qf = QuantumFloat(3, -1, signed=True)\n",
    "sqrt_oracle(qf)\n",
    "print(qf.qs)"
   ]
  },
  {
   "cell_type": "markdown",
   "id": "6a64a19f",
   "metadata": {},
   "source": [
    "We can see how the multiplication is evaluated into a new QuantumFloat called `mul_res_0` using some ancilla qubits. Subsequently, a multi-controlled X-gate evaluates the condition of it to be equal to 0.25 into a qubit called `eq_cond_0`. The ancilla qubits and `eq_cond` will be recycled for each other during compilation, implying there is 0 qubit overhead for the ancillae:"
   ]
  },
  {
   "cell_type": "code",
   "execution_count": 15,
   "id": "5ba15392",
   "metadata": {},
   "outputs": [
    {
     "data": {
      "text/plain": [
       "12"
      ]
     },
     "execution_count": 15,
     "metadata": {},
     "output_type": "execute_result"
    }
   ],
   "source": [
    "qf.qs.compile().num_qubits()"
   ]
  },
  {
   "cell_type": "markdown",
   "id": "5732b8e0",
   "metadata": {},
   "source": [
    "We perform the Z-gate and uncompute. The uncomputation is necessary here because the state the Grover diffuser acts on needs to be disentangled.\n",
    "\n",
    "> **Note**: QuantumVariables can be named independently of their name as a Python variable. If no name is provided, Qrisp tries to infer the name of the Python variable but in many cases there is ambiguity, meaning there is no guaranteed relation between the naming of the qubits and the name of the Python variable.\n",
    "\n",
    "### Grover's algorithm\n",
    "\n",
    "The code for embedding the constructed oracle into Grover's algorithm is:"
   ]
  },
  {
   "cell_type": "code",
   "execution_count": 16,
   "id": "0791ce5a",
   "metadata": {},
   "outputs": [
    {
     "name": "stdout",
     "output_type": "stream",
     "text": [
      "{0.5: 0.47263164210147385, -0.5: 0.47263164210147385, 0.0: 0.003909765414075155, 1.0: 0.003909765414075155, 1.5: 0.003909765414075155, 2.0: 0.003909765414075155, 2.5: 0.003909765414075155, 3.0: 0.003909765414075155, 3.5: 0.003909765414075155, -4.0: 0.003909765414075155, -3.5: 0.003909765414075155, -3.0: 0.003909765414075155, -2.5: 0.003909765414075155, -2.0: 0.003909765414075155, -1.5: 0.003909765414075155, -1.0: 0.003909765414075155}\n"
     ]
    }
   ],
   "source": [
    "from math import pi\n",
    "from qrisp.grover import diffuser\n",
    "\n",
    "qf = QuantumFloat(3, -1, signed=True)\n",
    "\n",
    "n = qf.size\n",
    "iterations = int(0.25 * pi * (2**n / 2) ** 0.5)\n",
    "\n",
    "h(qf)\n",
    "\n",
    "for i in range(iterations):\n",
    "    sqrt_oracle(qf)\n",
    "    diffuser(qf)\n",
    "\n",
    "print(qf)"
   ]
  },
  {
   "cell_type": "markdown",
   "id": "34ebbe93",
   "metadata": {},
   "source": [
    "First we create the QuantumFloat which will contain the solution. Note that the QuantumFloat constructor creates unsigned floats by default. We determine the number of iterations according to the formula given [here](https://arxiv.org/abs/quant-ph/9909040), taking into consideration that we expect two solutions ($S = \\{0.5, -0.5\\}$). The next step is then to bring `qf` into uniform superposition, followed by the Grover iterations and finalized by a measurement (which is called by `print`). The [diffuser](../../reference/Primitives/Grover%20tools.rst) function applies the diffusion operator required for Grover's algorithm.\n",
    "\n",
    "## Quantum Phase Estimation\n",
    "\n",
    "[Quantum phase estimation](https://en.wikipedia.org/wiki/Quantum_phase_estimation_algorithm) is an important subroutine in many quantum algorithms. If you are not familiar with this algorithm, we recommend that you first read about it [elsewhere](https://qiskit.org/textbook/ch-algorithms/quantum-phase-estimation.html) and then come back here. We shortly summarize the problem this algorithm solves:\n",
    "\n",
    "Given is a unitary $U$ and quantum state $\\ket{\\psi}$ which is an eigenvector of $U$:\n",
    "\n",
    "$$U \\ket{\\psi} = \\text{exp}(i 2 \\pi \\phi)\\ket{\\psi}$$\n",
    "\n",
    "Applying quantum phase estimation to $U$ and $\\ket{\\psi}$ returns a quantum variable containing an estimate for the value of $\\phi$.\n",
    "\n",
    "$$\\text{QPE}_{U} \\ket{\\psi} \\ket{0} = \\ket{\\psi} \\ket{\\phi}$$\n",
    "\n",
    "It can be implemented within a few lines of code in Qrisp:"
   ]
  },
  {
   "cell_type": "code",
   "execution_count": 17,
   "id": "11113a00",
   "metadata": {},
   "outputs": [],
   "source": [
    "from qrisp import QuantumFloat, control, QFT, h\n",
    "\n",
    "\n",
    "def QPE(psi, U, precision):\n",
    "\n",
    "    res = QuantumFloat(precision, -precision)\n",
    "\n",
    "    h(res)\n",
    "\n",
    "    for i in range(precision):\n",
    "        with control(res[i]):\n",
    "            for j in range(2**i):\n",
    "                U(psi)\n",
    "\n",
    "    return QFT(res, inv=True)"
   ]
  },
  {
   "cell_type": "markdown",
   "id": "365b639f",
   "metadata": {},
   "source": [
    "The first step here is to create the QuantumFloat `res` which will contain the result. The first argument specifies the amount of mantissa qubits, the QuantumFloat should contain and the second argument specifies the exponent. Having $n$ mantissa qubits and and exponent of $-n$ means that this QuantumFloat can represent the values between 0 and 1 with a granularity of $2^{-n}$.\n",
    "\n",
    "Subsequently we apply a Hadamard gate to all qubits of `res` and continue by performing controlled evaluations of $U$. This is achieved by using the `with control(res[i]):` statement. This statement enters a [ControlEnvironment](../../reference/Quantum%20Environments/ConditionEnvironment.rst) such that every quantum operation inside the indented code block will be controlled on the i-th qubit of `res`. We conclude the algorithm by performing an inverse [Quantum Fourier Transform](../../reference/Primitives/QFT.rst) of `res`.\n",
    "\n",
    "Note that compared to the [Qiskit implementation](https://qiskit.org/documentation/stubs/qiskit.circuit.library.PhaseEstimation.html) the Qrisp version comes with the convenience that $U$ can be given as a Python function (instead of a QuantumCircuit object) allowing for slim and elegant evaluations. Furthermore, the line `with control(res[i]):` invokes a ControlEnvironment, which can yield significant gains in performance if `qpe` is called within another ControlEnvironment (compared to the Qiskit approach of simply synthesizing the double controlled version for every participating gate).\n",
    "\n",
    "We test our code with a simple example:"
   ]
  },
  {
   "cell_type": "code",
   "execution_count": 18,
   "id": "432c6a5f",
   "metadata": {},
   "outputs": [],
   "source": [
    "from qrisp import p, QuantumVariable, multi_measurement\n",
    "import numpy as np\n",
    "\n",
    "\n",
    "def U(psi):\n",
    "    phi_1 = 0.5\n",
    "    phi_2 = 0.125\n",
    "\n",
    "    p(phi_1 * 2 * np.pi, psi[0])\n",
    "    p(phi_2 * 2 * np.pi, psi[1])\n",
    "\n",
    "\n",
    "psi = QuantumVariable(2)\n",
    "\n",
    "h(psi)\n",
    "\n",
    "res = QPE(psi, U, 3)"
   ]
  },
  {
   "cell_type": "markdown",
   "id": "d4b2244b",
   "metadata": {},
   "source": [
    "In this code snippet, we define a function `U` which applies a phase gate onto the first two qubits of its input. We then create the QuantumVariable `psi` and bring it into uniform superposition by applying Hadamard gates onto each qubit. Subsequently, we evaluate `QPE` on `U` and `psi` with the precision 3.\n",
    "\n",
    "The quantum state is now:\n",
    "\n",
    "$$\\frac{1}{2} \\text{QPE}_{U}(\\ket{00} + \\ket{01} + \\ket{10} + \\ket{11})\\ket{0} = \\frac{1}{2} (\\ket{00}\\ket{0} + \\ket{10}\\ket{\\phi_1} + \\ket{01}\\ket{\\phi_2} +\\ket{11}\\ket{\\phi_1 + \\phi_2})$$\n",
    "\n",
    "We verify by measuring `psi` together with `res` using the `multi_measurement` method:"
   ]
  },
  {
   "cell_type": "code",
   "execution_count": 19,
   "id": "6890d088",
   "metadata": {},
   "outputs": [
    {
     "name": "stdout",
     "output_type": "stream",
     "text": [
      "{('00', 0.0): 0.25, ('10', 0.5): 0.25, ('01', 0.125): 0.25, ('11', 0.625): 0.25}     \u001b[2K\n"
     ]
    }
   ],
   "source": [
    "print(multi_measurement([psi, res]))"
   ]
  }
 ],
 "metadata": {
  "kernelspec": {
   "display_name": "qrisp",
   "language": "python",
   "name": "python3"
  },
  "language_info": {
   "codemirror_mode": {
    "name": "ipython",
    "version": 3
   },
   "file_extension": ".py",
   "mimetype": "text/x-python",
   "name": "python",
   "nbconvert_exporter": "python",
   "pygments_lexer": "ipython3",
   "version": "3.10.16"
  }
 },
 "nbformat": 4,
 "nbformat_minor": 5
}
