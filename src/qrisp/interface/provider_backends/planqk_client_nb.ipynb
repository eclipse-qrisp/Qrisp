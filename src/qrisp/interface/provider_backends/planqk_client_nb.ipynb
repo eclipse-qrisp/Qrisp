{
 "cells": [
  {
   "cell_type": "code",
   "execution_count": null,
   "id": "22f6e7b8",
   "metadata": {},
   "outputs": [],
   "source": [
    "#from qrisp import QuantumFloat\n",
    "from qrisp.interface.provider_backends.planqk_backend import PlanQKBackend\n",
    "token = \"plqk_G7YWFsDxNINX6LIPp2aZIWqbzizl3lm7c7cIydUaeo\"\n",
    "org_id = \"bddb80ee-148a-4e4b-98b1-e6fda7c26d4c\""
   ]
  },
  {
   "cell_type": "markdown",
   "id": "c4b4887f",
   "metadata": {},
   "source": [
    "For these examples we instanciate a Quantumfloat as an int =2 (in binary  \"0100\"), apply an h-gate on the first qubit, s.t. the state is {0: 0.5, 2: 0.5} (in binary {\"0000\": 0.5, \"0100\": 0.5})  and multiply it with itself. So we would expect a dictionary to return {0: 0.5, 4: 0.5} (in binary {\"0000\": 0.5, \"0010\": 0.5}). \n",
    "See the notebook with results for individual simulators below\n",
    "\n",
    "A general problem is that unmeasured ancillas are returned by default aswell\n",
    "- messes with the encoding in qrisp\n",
    "- does not allow for circuits to be executed, in which not all qubits are measured. This a functionality we need, as this multiplication procedure includes such qubits (as do many other algorithms)"
   ]
  },
  {
   "cell_type": "code",
   "execution_count": null,
   "id": "0c775562",
   "metadata": {},
   "outputs": [],
   "source": [
    "\n",
    "# WORKS\n",
    "# aws.sim.sv1, aws.sim.dm1  WORKS with [::-1] on the returned measurement dictionary --> reversed results      \n",
    "# we get the reversed result which encodes a 4 in the first 4 qubits, plus 4 ancilla qubits that irrelevant {'0010010': 470, '0000000': 530}  \n",
    "# this translates to {0: 0.53, 4: 0.47}, if we cut out the non-measured registers.\n",
    "# \n",
    "example_backend = PlanQKBackend(api_token = token, device_instance = \"aws.sim.sv1\", organization_id=org_id) \n",
    "\n",
    "qf = QuantumFloat(2)\n",
    "qf[:] = 2\n",
    "h(qf[1])\n",
    "res = qf*qf\n",
    "result = res.get_measurement(backend = example_backend)\n",
    "print(result)"
   ]
  },
  {
   "cell_type": "code",
   "execution_count": null,
   "id": "2766942a",
   "metadata": {},
   "outputs": [],
   "source": [
    "\n",
    "# RUNS, but faulty results\n",
    "# azure.ionq.simulator gives faulty result, even after reverse\n",
    "# aws.rigetti.ankaa too much crosstalk \n",
    "# qryd.sim.square gives faulty result, even after reverse -- {'0000000': 490, '000001001': 510}\n",
    "# qryd.sim.square gives faulty result, even after reverse -- {'0000000': 484, '000001001': 516}\n",
    "# aws.iqm.garnet too much crosstalk\n",
    "\n",
    "example_backend = PlanQKBackend(api_token = token, device_instance = \"qryd.sim.square\", organization_id=org_id) \n",
    "qf = QuantumFloat(2)\n",
    "qf[:] = 2\n",
    "h(qf[1])\n",
    "res = qf*qf\n",
    "result = res.get_measurement(backend = example_backend)\n",
    "print(result)"
   ]
  },
  {
   "cell_type": "code",
   "execution_count": null,
   "id": "528d65e2",
   "metadata": {},
   "outputs": [],
   "source": [
    "\n",
    "example_backend = PlanQKBackend(api_token = token, device_instance = \"ibm.qpu.fez\", organization_id=org_id) \n",
    "\n",
    "# DOESNT \n",
    "# all ibm qpus --> \"Input [type of circuit object that is handed to the backend] should be ... (QISKIT)\", is:  \"QISKIT_QPY\"\n",
    "# maybe a planqk issue?\n",
    "\n",
    "qf = QuantumFloat(2)\n",
    "\n",
    "qf[:] = 2\n",
    "h(qf[1])\n",
    "res = qf*qf\n",
    "result = res.get_measurement(backend = example_backend)\n",
    "print(result)"
   ]
  }
 ],
 "metadata": {
  "kernelspec": {
   "display_name": ".venv",
   "language": "python",
   "name": "python3"
  },
  "language_info": {
   "codemirror_mode": {
    "name": "ipython",
    "version": 3
   },
   "file_extension": ".py",
   "mimetype": "text/x-python",
   "name": "python",
   "nbconvert_exporter": "python",
   "pygments_lexer": "ipython3",
   "version": "3.11.2"
  }
 },
 "nbformat": 4,
 "nbformat_minor": 5
}
